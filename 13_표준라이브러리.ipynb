{
 "cells": [
  {
   "cell_type": "markdown",
   "id": "9a2e032f-cc61-4c37-8abf-42c7e29eed9a",
   "metadata": {},
   "source": [
    "### 날짜 표준 라이브러리"
   ]
  },
  {
   "cell_type": "code",
   "execution_count": 2,
   "id": "6ef141ed-e4a1-4609-8d04-e87e2903560d",
   "metadata": {},
   "outputs": [],
   "source": [
    "import datetime\n",
    "day1 = datetime.date(2025,9,1)\n",
    "day2 = datetime.date(2026,4,5)"
   ]
  },
  {
   "cell_type": "code",
   "execution_count": 5,
   "id": "e460e564-7fe8-46eb-8295-0b6f2724ef2d",
   "metadata": {},
   "outputs": [
    {
     "name": "stdout",
     "output_type": "stream",
     "text": [
      "216 days, 0:00:00\n"
     ]
    }
   ],
   "source": [
    "diff = day2-day1\n",
    "print(diff)"
   ]
  },
  {
   "cell_type": "code",
   "execution_count": 6,
   "id": "931bc69d-a78f-47af-b9c0-27fded7128a1",
   "metadata": {},
   "outputs": [
    {
     "data": {
      "text/plain": [
       "216"
      ]
     },
     "execution_count": 6,
     "metadata": {},
     "output_type": "execute_result"
    }
   ],
   "source": [
    "diff.days"
   ]
  },
  {
   "cell_type": "code",
   "execution_count": 8,
   "id": "7f9d69a2-f10d-4dce-bb87-d48d2692a6be",
   "metadata": {},
   "outputs": [
    {
     "data": {
      "text/plain": [
       "0"
      ]
     },
     "execution_count": 8,
     "metadata": {},
     "output_type": "execute_result"
    }
   ],
   "source": [
    "day1.weekday() #요일"
   ]
  },
  {
   "cell_type": "code",
   "execution_count": 9,
   "id": "98bde9f7-e220-45e9-a42d-85836fc06da2",
   "metadata": {},
   "outputs": [
    {
     "data": {
      "text/plain": [
       "6"
      ]
     },
     "execution_count": 9,
     "metadata": {},
     "output_type": "execute_result"
    }
   ],
   "source": [
    "day2.weekday()"
   ]
  },
  {
   "cell_type": "code",
   "execution_count": 10,
   "id": "ed8b8da5-6657-4f70-a376-0643cbfeea1c",
   "metadata": {},
   "outputs": [],
   "source": [
    "#0은 월요일~6은 일요일"
   ]
  },
  {
   "cell_type": "code",
   "execution_count": 11,
   "id": "0c1b82cf-dcbd-4895-9149-963d8556e944",
   "metadata": {},
   "outputs": [
    {
     "data": {
      "text/plain": [
       "1"
      ]
     },
     "execution_count": 11,
     "metadata": {},
     "output_type": "execute_result"
    }
   ],
   "source": [
    "day1.isoweekday() #월요일이 1, 일요일이 7"
   ]
  },
  {
   "cell_type": "code",
   "execution_count": 12,
   "id": "0c47abcb-15d7-4d33-a1df-b72ac56dcccc",
   "metadata": {},
   "outputs": [
    {
     "data": {
      "text/plain": [
       "datetime.date(2025, 9, 1)"
      ]
     },
     "execution_count": 12,
     "metadata": {},
     "output_type": "execute_result"
    }
   ],
   "source": [
    "today=datetime.date.today()\n",
    "today"
   ]
  },
  {
   "cell_type": "code",
   "execution_count": 13,
   "id": "87d4b597-c040-4c68-a67b-5936a5611a6f",
   "metadata": {},
   "outputs": [
    {
     "data": {
      "text/plain": [
       "'Mon Sep  1 00:00:00 2025'"
      ]
     },
     "execution_count": 13,
     "metadata": {},
     "output_type": "execute_result"
    }
   ],
   "source": [
    "today=datetime.date.today().ctime()\n",
    "today"
   ]
  },
  {
   "cell_type": "code",
   "execution_count": 15,
   "id": "ab8b5e2c-4de6-4336-82c3-b33d921dcd94",
   "metadata": {},
   "outputs": [
    {
     "data": {
      "text/plain": [
       "'Mon Sep  1 10:05:10 2025'"
      ]
     },
     "execution_count": 15,
     "metadata": {},
     "output_type": "execute_result"
    }
   ],
   "source": [
    "today=datetime.datetime.today().ctime()\n",
    "today"
   ]
  },
  {
   "cell_type": "code",
   "execution_count": 17,
   "id": "c6de5c98-b614-4a78-be3f-aa8a0f63b79e",
   "metadata": {},
   "outputs": [
    {
     "data": {
      "text/plain": [
       "1756688767.6944904"
      ]
     },
     "execution_count": 17,
     "metadata": {},
     "output_type": "execute_result"
    }
   ],
   "source": [
    "#time 객체\n",
    "import time\n",
    "\n",
    "time.time()"
   ]
  },
  {
   "cell_type": "code",
   "execution_count": 18,
   "id": "c4708d1e-e29a-4a73-8407-079066b076e3",
   "metadata": {},
   "outputs": [],
   "source": [
    "#1970년 1월 1일 0시0분0초 기준으로 지난 초를 반환"
   ]
  },
  {
   "cell_type": "code",
   "execution_count": 19,
   "id": "42032737-8142-49b1-9680-77a519acf4b5",
   "metadata": {},
   "outputs": [
    {
     "data": {
      "text/plain": [
       "time.struct_time(tm_year=2025, tm_mon=9, tm_mday=1, tm_hour=10, tm_min=7, tm_sec=4, tm_wday=0, tm_yday=244, tm_isdst=0)"
      ]
     },
     "execution_count": 19,
     "metadata": {},
     "output_type": "execute_result"
    }
   ],
   "source": [
    "time.localtime(time.time())"
   ]
  },
  {
   "cell_type": "code",
   "execution_count": 20,
   "id": "d8bc7fb9-b89b-460c-a3db-0b0f48574c2f",
   "metadata": {},
   "outputs": [
    {
     "data": {
      "text/plain": [
       "'Mon Sep  1 10:07:48 2025'"
      ]
     },
     "execution_count": 20,
     "metadata": {},
     "output_type": "execute_result"
    }
   ],
   "source": [
    "time.asctime(time.localtime(time.time()))"
   ]
  },
  {
   "cell_type": "code",
   "execution_count": 21,
   "id": "bfd8d9e6-328d-44d2-9037-5714530e0609",
   "metadata": {},
   "outputs": [
    {
     "data": {
      "text/plain": [
       "'Mon Sep  1 10:08:08 2025'"
      ]
     },
     "execution_count": 21,
     "metadata": {},
     "output_type": "execute_result"
    }
   ],
   "source": [
    "time.ctime()"
   ]
  },
  {
   "cell_type": "code",
   "execution_count": 23,
   "id": "a8f6a19d-5200-4af0-a1f1-cfef8df9d950",
   "metadata": {},
   "outputs": [
    {
     "data": {
      "text/plain": [
       "'09/01/25'"
      ]
     },
     "execution_count": 23,
     "metadata": {},
     "output_type": "execute_result"
    }
   ],
   "source": [
    "time.strftime('%x', time.localtime(time.time()))"
   ]
  },
  {
   "cell_type": "code",
   "execution_count": 24,
   "id": "263a5887-797a-4e0f-8852-f55d28261f46",
   "metadata": {},
   "outputs": [
    {
     "data": {
      "text/plain": [
       "'Mon Sep  1 10:10:53 2025'"
      ]
     },
     "execution_count": 24,
     "metadata": {},
     "output_type": "execute_result"
    }
   ],
   "source": [
    "time.strftime('%c',time.localtime(time.time()))"
   ]
  },
  {
   "cell_type": "code",
   "execution_count": 25,
   "id": "03e09da4-0549-4614-9ae3-d3cc1baae45b",
   "metadata": {},
   "outputs": [
    {
     "name": "stdout",
     "output_type": "stream",
     "text": [
      "0\n",
      "1\n",
      "2\n",
      "3\n",
      "4\n",
      "5\n",
      "6\n",
      "7\n",
      "8\n",
      "9\n"
     ]
    }
   ],
   "source": [
    "import time\n",
    "for i in range(10):\n",
    "    print(i)\n",
    "    time.sleep(1)"
   ]
  },
  {
   "cell_type": "code",
   "execution_count": 26,
   "id": "363d9655-5dee-4e84-a8d9-9f0454d1c912",
   "metadata": {},
   "outputs": [],
   "source": [
    "#바로 출력하지 않고 1초마다 출력"
   ]
  },
  {
   "cell_type": "markdown",
   "id": "34bf5e51-df07-420e-b7c7-20785c208d2d",
   "metadata": {},
   "source": [
    "### random 표준 라이브러리"
   ]
  },
  {
   "cell_type": "code",
   "execution_count": 30,
   "id": "fc05abaa-a833-4880-a6c4-8ead4ccf1413",
   "metadata": {},
   "outputs": [
    {
     "data": {
      "text/plain": [
       "0.6740559934767061"
      ]
     },
     "execution_count": 30,
     "metadata": {},
     "output_type": "execute_result"
    }
   ],
   "source": [
    "import random\n",
    "random.random()"
   ]
  },
  {
   "cell_type": "code",
   "execution_count": 31,
   "id": "acb43e4f-4532-48bf-9e36-0b74464b028a",
   "metadata": {},
   "outputs": [],
   "source": [
    "#실행할때마다 달라짐"
   ]
  },
  {
   "cell_type": "code",
   "execution_count": 45,
   "id": "40ad442c-f8d1-4e70-9e5a-8d654d7ed62e",
   "metadata": {},
   "outputs": [
    {
     "data": {
      "text/plain": [
       "3"
      ]
     },
     "execution_count": 45,
     "metadata": {},
     "output_type": "execute_result"
    }
   ],
   "source": [
    "random.randint(1,10)"
   ]
  },
  {
   "cell_type": "code",
   "execution_count": 55,
   "id": "5e0a888d-0949-4131-ad71-fe8cd12e70cb",
   "metadata": {},
   "outputs": [
    {
     "data": {
      "text/plain": [
       "18"
      ]
     },
     "execution_count": 55,
     "metadata": {},
     "output_type": "execute_result"
    }
   ],
   "source": [
    "random.randint(1,55)"
   ]
  },
  {
   "cell_type": "code",
   "execution_count": 65,
   "id": "048718ee-6d7b-40af-8d90-8144a007373c",
   "metadata": {},
   "outputs": [
    {
     "name": "stdout",
     "output_type": "stream",
     "text": [
      "3\n",
      "2\n",
      "5\n",
      "1\n",
      "4\n"
     ]
    }
   ],
   "source": [
    "#리스트에서 무작위로 하나를 선택하여 리턴하는 함수\n",
    "import random\n",
    "\n",
    "def random_pop(data):\n",
    "    num=random.randint(0,len(data)-1)\n",
    "    return data.pop(num)\n",
    "\n",
    "data = [1,2,3,4,5]\n",
    "while data:\n",
    "    print(random_pop(data))  #pop이 있어 하나가 제거되니, 남은 것들 중에서 또 랜덤선택, while문이니 반복"
   ]
  },
  {
   "cell_type": "code",
   "execution_count": 63,
   "id": "ec857c2c-8a13-4ade-bec5-c9d7688f3cb5",
   "metadata": {},
   "outputs": [
    {
     "name": "stdout",
     "output_type": "stream",
     "text": [
      "3\n",
      "1\n",
      "5\n",
      "4\n",
      "2\n"
     ]
    }
   ],
   "source": [
    "def random_pop(data):\n",
    "    num=random.choice(data)\n",
    "    data.remove(num)\n",
    "    return(num)\n",
    "\n",
    "data=[1,2,3,4,5]\n",
    "while data:\n",
    "    print(random_pop(data))"
   ]
  },
  {
   "cell_type": "code",
   "execution_count": 76,
   "id": "bf4cde50-43b7-4e19-bce3-7f3d460dd0e5",
   "metadata": {},
   "outputs": [
    {
     "data": {
      "text/plain": [
       "[4, 3, 5, 2, 1]"
      ]
     },
     "execution_count": 76,
     "metadata": {},
     "output_type": "execute_result"
    }
   ],
   "source": [
    "data=[1,2,3,4,5]\n",
    "random.sample(data,len(data))"
   ]
  },
  {
   "cell_type": "markdown",
   "id": "a3f51a59-7bca-4f9c-b057-f4041bdde8cd",
   "metadata": {},
   "source": [
    "### pickle 표준 라이브러리"
   ]
  },
  {
   "cell_type": "code",
   "execution_count": 78,
   "id": "c50d091c-e081-43d7-9a6a-d6066e961d3d",
   "metadata": {},
   "outputs": [],
   "source": [
    "import pickle\n",
    "\n",
    "f=open('test.txt','wb')\n",
    "data={1:'python', 2:'you need'}\n",
    "pickle.dump(data,f)\n",
    "f.close()"
   ]
  },
  {
   "cell_type": "code",
   "execution_count": 80,
   "id": "ba451459-8942-48df-b04c-2f05927f3221",
   "metadata": {},
   "outputs": [
    {
     "name": "stdout",
     "output_type": "stream",
     "text": [
      "{1: 'python', 2: 'you need'}\n"
     ]
    }
   ],
   "source": [
    "f=open('test.txt','rb')\n",
    "content=pickle.load(f)\n",
    "print(content)\n",
    "f.close()"
   ]
  },
  {
   "cell_type": "markdown",
   "id": "e5aed4a0-e23f-4a53-bf1b-8d93ef948d82",
   "metadata": {},
   "source": [
    "### 정규표현식"
   ]
  },
  {
   "cell_type": "code",
   "execution_count": 85,
   "id": "a23e159f-1157-43f3-9c0c-b749e3e0c409",
   "metadata": {},
   "outputs": [
    {
     "name": "stdout",
     "output_type": "stream",
     "text": [
      "123\n"
     ]
    }
   ],
   "source": [
    "import re\n",
    "\n",
    "pattern = re.compile(r'\\d+')\n",
    "match=pattern.match('123abc456def')\n",
    "\n",
    "if match:\n",
    "    print(match.group())"
   ]
  },
  {
   "cell_type": "code",
   "execution_count": 88,
   "id": "e2ed62b4-140a-47d1-9803-6ce876fd0719",
   "metadata": {},
   "outputs": [
    {
     "name": "stdout",
     "output_type": "stream",
     "text": [
      "abc\n"
     ]
    }
   ],
   "source": [
    "pattern = re.compile(r'\\D+')\n",
    "match=pattern.search('123abc456def')\n",
    "\n",
    "if match:\n",
    "    print(match.group())"
   ]
  },
  {
   "cell_type": "code",
   "execution_count": 84,
   "id": "daf4ace3-e7cc-4ad0-82aa-2ea629a1764e",
   "metadata": {},
   "outputs": [
    {
     "name": "stdout",
     "output_type": "stream",
     "text": [
      "['abc', 'def']\n"
     ]
    }
   ],
   "source": [
    "pattern = re.compile(r'\\D+')\n",
    "matches=pattern.findall('123abc456def')\n",
    "print(matches)"
   ]
  },
  {
   "cell_type": "code",
   "execution_count": 89,
   "id": "67c68557-3f77-4930-9a29-8ac29c282100",
   "metadata": {},
   "outputs": [],
   "source": [
    "#findall: 다 찾음"
   ]
  },
  {
   "cell_type": "code",
   "execution_count": 90,
   "id": "f8293a89-8a96-4127-baeb-7af2ada5b21b",
   "metadata": {},
   "outputs": [
    {
     "name": "stdout",
     "output_type": "stream",
     "text": [
      "NUMabcNUMdef\n"
     ]
    }
   ],
   "source": [
    "pattern = re.compile(r'\\d+')\n",
    "result=pattern.sub('NUM','123abc456def')\n",
    "print(result)"
   ]
  },
  {
   "cell_type": "code",
   "execution_count": null,
   "id": "78965570-ff0c-4b37-83a5-9d2e96ee4420",
   "metadata": {},
   "outputs": [],
   "source": []
  }
 ],
 "metadata": {
  "kernelspec": {
   "display_name": "Python [conda env:base] *",
   "language": "python",
   "name": "conda-base-py"
  },
  "language_info": {
   "codemirror_mode": {
    "name": "ipython",
    "version": 3
   },
   "file_extension": ".py",
   "mimetype": "text/x-python",
   "name": "python",
   "nbconvert_exporter": "python",
   "pygments_lexer": "ipython3",
   "version": "3.13.5"
  }
 },
 "nbformat": 4,
 "nbformat_minor": 5
}
