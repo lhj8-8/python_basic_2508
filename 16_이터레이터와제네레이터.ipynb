{
 "cells": [
  {
   "cell_type": "markdown",
   "id": "7e478515-41b5-478b-bd75-1b8eca7d2f0d",
   "metadata": {},
   "source": [
    "### 이터레이터"
   ]
  },
  {
   "cell_type": "code",
   "execution_count": 1,
   "id": "09a32793-2a8c-45aa-bee0-80bd5ad0921c",
   "metadata": {},
   "outputs": [
    {
     "ename": "TypeError",
     "evalue": "'list' object is not an iterator",
     "output_type": "error",
     "traceback": [
      "\u001b[1;31m---------------------------------------------------------------------------\u001b[0m",
      "\u001b[1;31mTypeError\u001b[0m                                 Traceback (most recent call last)",
      "Cell \u001b[1;32mIn[1], line 2\u001b[0m\n\u001b[0;32m      1\u001b[0m a\u001b[38;5;241m=\u001b[39m[\u001b[38;5;241m1\u001b[39m,\u001b[38;5;241m2\u001b[39m,\u001b[38;5;241m3\u001b[39m]\n\u001b[1;32m----> 2\u001b[0m \u001b[38;5;28mnext\u001b[39m(a)\n",
      "\u001b[1;31mTypeError\u001b[0m: 'list' object is not an iterator"
     ]
    }
   ],
   "source": [
    "a=[1,2,3]\n",
    "next(a)"
   ]
  },
  {
   "cell_type": "code",
   "execution_count": 2,
   "id": "fd74b928-a86d-4d53-8d0f-e906e77a5cd5",
   "metadata": {},
   "outputs": [
    {
     "data": {
      "text/plain": [
       "list_iterator"
      ]
     },
     "execution_count": 2,
     "metadata": {},
     "output_type": "execute_result"
    }
   ],
   "source": [
    "#리스트를 iter()함수로 이터레이터 객체로 변환\n",
    "a=[1,2,3]\n",
    "ia=iter(a)\n",
    "type(ia)"
   ]
  },
  {
   "cell_type": "code",
   "execution_count": 3,
   "id": "e87bf022-1d36-408e-8401-924027921299",
   "metadata": {},
   "outputs": [
    {
     "data": {
      "text/plain": [
       "1"
      ]
     },
     "execution_count": 3,
     "metadata": {},
     "output_type": "execute_result"
    }
   ],
   "source": [
    "next(ia)"
   ]
  },
  {
   "cell_type": "code",
   "execution_count": 4,
   "id": "8b137f58-640e-45c0-b60d-7b6e1e54d528",
   "metadata": {},
   "outputs": [
    {
     "data": {
      "text/plain": [
       "2"
      ]
     },
     "execution_count": 4,
     "metadata": {},
     "output_type": "execute_result"
    }
   ],
   "source": [
    "next(ia)"
   ]
  },
  {
   "cell_type": "code",
   "execution_count": 5,
   "id": "940920ee-148b-4df5-8fc8-364104d74a76",
   "metadata": {},
   "outputs": [
    {
     "data": {
      "text/plain": [
       "3"
      ]
     },
     "execution_count": 5,
     "metadata": {},
     "output_type": "execute_result"
    }
   ],
   "source": [
    "next(ia)"
   ]
  },
  {
   "cell_type": "code",
   "execution_count": 6,
   "id": "2826fa19-fc64-4f48-907d-5198a1815177",
   "metadata": {},
   "outputs": [
    {
     "ename": "StopIteration",
     "evalue": "",
     "output_type": "error",
     "traceback": [
      "\u001b[1;31m---------------------------------------------------------------------------\u001b[0m",
      "\u001b[1;31mStopIteration\u001b[0m                             Traceback (most recent call last)",
      "Cell \u001b[1;32mIn[6], line 1\u001b[0m\n\u001b[1;32m----> 1\u001b[0m \u001b[38;5;28mnext\u001b[39m(ia)\n",
      "\u001b[1;31mStopIteration\u001b[0m: "
     ]
    }
   ],
   "source": [
    "next(ia)"
   ]
  },
  {
   "cell_type": "code",
   "execution_count": 7,
   "id": "b929b7aa-c64f-4bd8-bb9d-a08c780fde4b",
   "metadata": {},
   "outputs": [],
   "source": [
    "#더 이상 출력할게 없어서 에러남 "
   ]
  },
  {
   "cell_type": "code",
   "execution_count": 8,
   "id": "951ffec3-1a33-48c6-a078-6a29056827c4",
   "metadata": {},
   "outputs": [
    {
     "name": "stdout",
     "output_type": "stream",
     "text": [
      "1\n",
      "2\n",
      "3\n"
     ]
    }
   ],
   "source": [
    "#이터레이터의 값을 가져오는 일반적인 방법(for 문)\n",
    "a=[1,2,3]\n",
    "ia=iter(a)\n",
    "for i in ia:\n",
    "    print(i)"
   ]
  },
  {
   "cell_type": "code",
   "execution_count": 10,
   "id": "af4b1ab0-ca6c-426c-a7ca-8acc43dfc72c",
   "metadata": {},
   "outputs": [],
   "source": [
    "#이터레이터 객체는 for문이나 next()로 그 값을 한 번 읽으면 다시 읽을 수 없음\n",
    "for i in ia:\n",
    "    print(i)"
   ]
  },
  {
   "cell_type": "markdown",
   "id": "bf14af00-5ee8-40f5-89e9-1f348b1c1a30",
   "metadata": {},
   "source": [
    "## 제너레이터"
   ]
  },
  {
   "cell_type": "code",
   "execution_count": 11,
   "id": "62a13a1a-5e61-4909-b6c3-affabde8f658",
   "metadata": {},
   "outputs": [],
   "source": [
    "#가장 간단한 제너레이터  yield:일시정지 \n",
    "def mygen():\n",
    "    yield 'a'\n",
    "    yield 'b'\n",
    "    yield 'c'\n",
    "g=mygen()"
   ]
  },
  {
   "cell_type": "code",
   "execution_count": 12,
   "id": "5fa45d07-a143-4eae-aaa8-5df46f956bcc",
   "metadata": {},
   "outputs": [
    {
     "data": {
      "text/plain": [
       "generator"
      ]
     },
     "execution_count": 12,
     "metadata": {},
     "output_type": "execute_result"
    }
   ],
   "source": [
    "type(g)"
   ]
  },
  {
   "cell_type": "code",
   "execution_count": 13,
   "id": "37b1fa79-afcd-4365-8ed7-6d6de0f34622",
   "metadata": {},
   "outputs": [
    {
     "data": {
      "text/plain": [
       "'a'"
      ]
     },
     "execution_count": 13,
     "metadata": {},
     "output_type": "execute_result"
    }
   ],
   "source": [
    "next(g)"
   ]
  },
  {
   "cell_type": "code",
   "execution_count": 14,
   "id": "ecc05e18-8d78-4d85-a93b-1f12964ac85a",
   "metadata": {},
   "outputs": [
    {
     "data": {
      "text/plain": [
       "'b'"
      ]
     },
     "execution_count": 14,
     "metadata": {},
     "output_type": "execute_result"
    }
   ],
   "source": [
    "next(g)"
   ]
  },
  {
   "cell_type": "code",
   "execution_count": 15,
   "id": "a0d1228c-b170-40d1-b484-ea83964e21ea",
   "metadata": {},
   "outputs": [
    {
     "data": {
      "text/plain": [
       "'c'"
      ]
     },
     "execution_count": 15,
     "metadata": {},
     "output_type": "execute_result"
    }
   ],
   "source": [
    "next(g)"
   ]
  },
  {
   "cell_type": "code",
   "execution_count": 16,
   "id": "43199b6d-0211-491c-b9d5-5c2cba117da9",
   "metadata": {},
   "outputs": [
    {
     "ename": "StopIteration",
     "evalue": "",
     "output_type": "error",
     "traceback": [
      "\u001b[1;31m---------------------------------------------------------------------------\u001b[0m",
      "\u001b[1;31mStopIteration\u001b[0m                             Traceback (most recent call last)",
      "Cell \u001b[1;32mIn[16], line 1\u001b[0m\n\u001b[1;32m----> 1\u001b[0m \u001b[38;5;28mnext\u001b[39m(g)\n",
      "\u001b[1;31mStopIteration\u001b[0m: "
     ]
    }
   ],
   "source": [
    "next(g)"
   ]
  },
  {
   "cell_type": "code",
   "execution_count": 17,
   "id": "2f462e46-d7af-44f9-b01d-ecd6f13243d1",
   "metadata": {},
   "outputs": [],
   "source": [
    "#더 이상 출력할 yield 없음"
   ]
  },
  {
   "cell_type": "markdown",
   "id": "da5155b3-00ea-47d5-a8a3-a45ecb1f05c9",
   "metadata": {},
   "source": [
    "## 제너레이터 표현식"
   ]
  },
  {
   "cell_type": "code",
   "execution_count": 22,
   "id": "f1a45259-c943-4c3a-be45-63e2fe83b847",
   "metadata": {},
   "outputs": [
    {
     "name": "stdout",
     "output_type": "stream",
     "text": [
      "1\n",
      "4\n",
      "9\n"
     ]
    }
   ],
   "source": [
    "def mygen():\n",
    "    for i in range(1,1000):\n",
    "        result=i*i\n",
    "        yield result\n",
    "        \n",
    "gen=mygen()\n",
    "\n",
    "print(next(gen))\n",
    "print(next(gen))\n",
    "print(next(gen))"
   ]
  },
  {
   "cell_type": "code",
   "execution_count": 23,
   "id": "8f44bc53-a9c6-4506-8efe-c8e0416eb1dc",
   "metadata": {},
   "outputs": [
    {
     "name": "stdout",
     "output_type": "stream",
     "text": [
      "1\n",
      "4\n",
      "9\n",
      "16\n",
      "25\n"
     ]
    }
   ],
   "source": [
    "#제네레이터 표현식\n",
    "gen=(i*i for i in range(1,1000))  #겉의 괄호가 소괄호면 제네레이터, 대괄호면 리스트\n",
    "\n",
    "for i in range(1,6):\n",
    "    print(next(gen))"
   ]
  },
  {
   "cell_type": "code",
   "execution_count": null,
   "id": "121b9a59-b997-43d3-b18c-9eadd58c2862",
   "metadata": {},
   "outputs": [],
   "source": []
  }
 ],
 "metadata": {
  "kernelspec": {
   "display_name": "Python [conda env:base] *",
   "language": "python",
   "name": "conda-base-py"
  },
  "language_info": {
   "codemirror_mode": {
    "name": "ipython",
    "version": 3
   },
   "file_extension": ".py",
   "mimetype": "text/x-python",
   "name": "python",
   "nbconvert_exporter": "python",
   "pygments_lexer": "ipython3",
   "version": "3.13.5"
  }
 },
 "nbformat": 4,
 "nbformat_minor": 5
}
