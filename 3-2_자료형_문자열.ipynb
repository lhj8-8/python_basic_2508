{
 "cells": [
  {
   "cell_type": "markdown",
   "id": "75f7a5b0-4c25-4be8-bad9-364490e0982b",
   "metadata": {},
   "source": [
    "## 3-2_자료형_문자열"
   ]
  },
  {
   "cell_type": "code",
   "execution_count": 128,
   "id": "ccf6e5ed-4848-4c55-8553-335b5bd2e9e4",
   "metadata": {},
   "outputs": [
    {
     "name": "stdout",
     "output_type": "stream",
     "text": [
      "Python`s favorite food is perl\n",
      "<class 'str'>\n"
     ]
    }
   ],
   "source": [
    "food = \"Python`s favorite food is perl\"\n",
    "print(food)\n",
    "print(type(food))"
   ]
  },
  {
   "cell_type": "code",
   "execution_count": null,
   "id": "9d2c2622-2f69-43d6-80d9-5460d0393f47",
   "metadata": {},
   "outputs": [],
   "source": []
  },
  {
   "cell_type": "code",
   "execution_count": 129,
   "id": "6322961b-dec6-490f-aba0-fcbb0576edf2",
   "metadata": {},
   "outputs": [
    {
     "name": "stdout",
     "output_type": "stream",
     "text": [
      "Python`s favorite food is perl\n",
      "<class 'str'>\n"
     ]
    }
   ],
   "source": [
    "food = \"Python`s favorite food is perl\"\n",
    "print(food)\n",
    "print(type(food))"
   ]
  },
  {
   "cell_type": "code",
   "execution_count": 7,
   "id": "70fa0025-6f85-4689-a69f-9443e039f5b9",
   "metadata": {},
   "outputs": [
    {
     "data": {
      "text/plain": [
       "'\"Python is very easy.\" he says.'"
      ]
     },
     "execution_count": 7,
     "metadata": {},
     "output_type": "execute_result"
    }
   ],
   "source": [
    "say='\"Python is very easy.\" he says.'\n",
    "say"
   ]
  },
  {
   "cell_type": "code",
   "execution_count": 8,
   "id": "93ac1616-75ad-4a6a-8caa-2e1417b30458",
   "metadata": {},
   "outputs": [
    {
     "name": "stdout",
     "output_type": "stream",
     "text": [
      "\"Python is very easy.\" he says.\n"
     ]
    }
   ],
   "source": [
    "print(say)"
   ]
  },
  {
   "cell_type": "markdown",
   "id": "bcc6d146-9183-4565-8600-ac3e5b0580c8",
   "metadata": {},
   "source": [
    "### 여러줄 문자열"
   ]
  },
  {
   "cell_type": "code",
   "execution_count": 9,
   "id": "64902c2e-e70d-4e4b-bced-c4f170666a0d",
   "metadata": {},
   "outputs": [
    {
     "name": "stdout",
     "output_type": "stream",
     "text": [
      "Life is too short\n",
      " You need python\n"
     ]
    }
   ],
   "source": [
    "multiline = \"Life is too short\\n You need python\"\n",
    "print(multiline)"
   ]
  },
  {
   "cell_type": "code",
   "execution_count": 11,
   "id": "19c2330f-1b40-449c-a32c-1ede446b5629",
   "metadata": {},
   "outputs": [
    {
     "name": "stdout",
     "output_type": "stream",
     "text": [
      "Life is too short\n",
      "You need python\n"
     ]
    }
   ],
   "source": [
    "multiline = '''Life is too short\n",
    "You need python'''\n",
    "print(multiline)"
   ]
  },
  {
   "cell_type": "markdown",
   "id": "4a4af3ed-574c-44cc-a920-5fcf9431de54",
   "metadata": {},
   "source": [
    "### 문자열 연산"
   ]
  },
  {
   "cell_type": "code",
   "execution_count": 12,
   "id": "ca267343-48ea-4131-be4f-403362e8c7fd",
   "metadata": {},
   "outputs": [
    {
     "data": {
      "text/plain": [
       "'Pythonis fun!'"
      ]
     },
     "execution_count": 12,
     "metadata": {},
     "output_type": "execute_result"
    }
   ],
   "source": [
    "head=\"Python\"\n",
    "tail=\"is fun!\"\n",
    "head+tail"
   ]
  },
  {
   "cell_type": "code",
   "execution_count": 14,
   "id": "43ea57a4-88e4-46f3-8f75-07f5fd676886",
   "metadata": {},
   "outputs": [
    {
     "name": "stdout",
     "output_type": "stream",
     "text": [
      "python python \n",
      "python python python \n"
     ]
    }
   ],
   "source": [
    "a= \"python \"\n",
    "print(a*2)\n",
    "print(a*3)"
   ]
  },
  {
   "cell_type": "code",
   "execution_count": 17,
   "id": "80c269c6-266b-474b-9006-5aa9d347f41b",
   "metadata": {},
   "outputs": [
    {
     "name": "stdout",
     "output_type": "stream",
     "text": [
      "python python python python \n"
     ]
    }
   ],
   "source": [
    "print('python '*4)"
   ]
  },
  {
   "cell_type": "markdown",
   "id": "80fec359-d16b-4733-9a60-4455fae3f27f",
   "metadata": {},
   "source": [
    "### 문자열 길이 구하기"
   ]
  },
  {
   "cell_type": "code",
   "execution_count": 18,
   "id": "d858b125-be80-4b59-97c5-d2f2acd89e01",
   "metadata": {},
   "outputs": [
    {
     "data": {
      "text/plain": [
       "17"
      ]
     },
     "execution_count": 18,
     "metadata": {},
     "output_type": "execute_result"
    }
   ],
   "source": [
    "a=\"Life is too short\"\n",
    "len(a)"
   ]
  },
  {
   "cell_type": "markdown",
   "id": "12c7db15-38ef-4ddc-9305-552165e94afa",
   "metadata": {},
   "source": [
    "### 문자열 인덱싱"
   ]
  },
  {
   "cell_type": "code",
   "execution_count": 22,
   "id": "ed59e481-822a-40dd-80df-df0778d8e087",
   "metadata": {},
   "outputs": [
    {
     "data": {
      "text/plain": [
       "'i'"
      ]
     },
     "execution_count": 22,
     "metadata": {},
     "output_type": "execute_result"
    }
   ],
   "source": [
    "a=\"Life is too short, You need Python\"\n",
    "\n",
    "a[5]"
   ]
  },
  {
   "cell_type": "code",
   "execution_count": 23,
   "id": "8a86b092-4013-4a8d-8826-8f44edb8af7c",
   "metadata": {},
   "outputs": [
    {
     "data": {
      "text/plain": [
       "'L'"
      ]
     },
     "execution_count": 23,
     "metadata": {},
     "output_type": "execute_result"
    }
   ],
   "source": [
    "a[0]"
   ]
  },
  {
   "cell_type": "code",
   "execution_count": 24,
   "id": "b7d08c1c-0904-4672-a850-faa2efc4d43a",
   "metadata": {},
   "outputs": [
    {
     "data": {
      "text/plain": [
       "34"
      ]
     },
     "execution_count": 24,
     "metadata": {},
     "output_type": "execute_result"
    }
   ],
   "source": [
    "len(a)"
   ]
  },
  {
   "cell_type": "code",
   "execution_count": 25,
   "id": "8d7a8aef-5009-429a-935b-107b7640b5fe",
   "metadata": {},
   "outputs": [
    {
     "data": {
      "text/plain": [
       "'n'"
      ]
     },
     "execution_count": 25,
     "metadata": {},
     "output_type": "execute_result"
    }
   ],
   "source": [
    "a[33]"
   ]
  },
  {
   "cell_type": "code",
   "execution_count": 28,
   "id": "c457364c-0c1a-4030-bcd2-a9acd6d2219b",
   "metadata": {},
   "outputs": [
    {
     "data": {
      "text/plain": [
       "'n'"
      ]
     },
     "execution_count": 28,
     "metadata": {},
     "output_type": "execute_result"
    }
   ],
   "source": [
    "a[-1] # 뒤에서부터 찾기"
   ]
  },
  {
   "cell_type": "code",
   "execution_count": 29,
   "id": "689039ad-249b-42e2-ab34-38639cea7c0d",
   "metadata": {},
   "outputs": [
    {
     "data": {
      "text/plain": [
       "'o'"
      ]
     },
     "execution_count": 29,
     "metadata": {},
     "output_type": "execute_result"
    }
   ],
   "source": [
    "a[-2] # 뒤에서 두 번째"
   ]
  },
  {
   "cell_type": "markdown",
   "id": "0ff6cfbd-e972-4408-bfd2-29ae07167054",
   "metadata": {},
   "source": [
    "### 문자열 슬라이싱"
   ]
  },
  {
   "cell_type": "code",
   "execution_count": 31,
   "id": "682655c3-83d7-42ab-ae7a-ce1cbfd665b4",
   "metadata": {},
   "outputs": [
    {
     "name": "stdout",
     "output_type": "stream",
     "text": [
      "Life\n"
     ]
    }
   ],
   "source": [
    "b= a[0] + a[1]+a[2] + a[3]\n",
    "print(b)"
   ]
  },
  {
   "cell_type": "code",
   "execution_count": 32,
   "id": "41b38496-83a4-4576-80d0-d2f0183cc7b7",
   "metadata": {},
   "outputs": [
    {
     "data": {
      "text/plain": [
       "'Life'"
      ]
     },
     "execution_count": 32,
     "metadata": {},
     "output_type": "execute_result"
    }
   ],
   "source": [
    "a[0:4]"
   ]
  },
  {
   "cell_type": "code",
   "execution_count": 33,
   "id": "1e405742-27b6-4563-a209-9dc3791e2e89",
   "metadata": {},
   "outputs": [
    {
     "data": {
      "text/plain": [
       "'short'"
      ]
     },
     "execution_count": 33,
     "metadata": {},
     "output_type": "execute_result"
    }
   ],
   "source": [
    "a[12:17] # 문자열에서 short 문자 슬라이싱"
   ]
  },
  {
   "cell_type": "code",
   "execution_count": 34,
   "id": "d9bdcb19-7e23-4449-b693-ce72f8507576",
   "metadata": {},
   "outputs": [
    {
     "data": {
      "text/plain": [
       "'need'"
      ]
     },
     "execution_count": 34,
     "metadata": {},
     "output_type": "execute_result"
    }
   ],
   "source": [
    "a[23:27] # 문자열에서 need 문자 슬라이싱"
   ]
  },
  {
   "cell_type": "code",
   "execution_count": 35,
   "id": "2f1dbb69-31c0-49bd-8983-360c7b6b9aed",
   "metadata": {},
   "outputs": [
    {
     "data": {
      "text/plain": [
       "'Python'"
      ]
     },
     "execution_count": 35,
     "metadata": {},
     "output_type": "execute_result"
    }
   ],
   "source": [
    "a[28:34]"
   ]
  },
  {
   "cell_type": "code",
   "execution_count": 37,
   "id": "e8077e63-3162-4265-a481-362501fe953e",
   "metadata": {},
   "outputs": [
    {
     "data": {
      "text/plain": [
       "'Python'"
      ]
     },
     "execution_count": 37,
     "metadata": {},
     "output_type": "execute_result"
    }
   ],
   "source": [
    "a[28:] # 생략하기도 함"
   ]
  },
  {
   "cell_type": "code",
   "execution_count": 38,
   "id": "36bebaed-7917-4608-8209-9e12955de54a",
   "metadata": {},
   "outputs": [
    {
     "data": {
      "text/plain": [
       "'Life'"
      ]
     },
     "execution_count": 38,
     "metadata": {},
     "output_type": "execute_result"
    }
   ],
   "source": [
    "a[:4]"
   ]
  },
  {
   "cell_type": "code",
   "execution_count": 39,
   "id": "3e46687a-975f-4ecb-8ec9-bb2bdae8a0d7",
   "metadata": {},
   "outputs": [
    {
     "data": {
      "text/plain": [
       "'Life is too short'"
      ]
     },
     "execution_count": 39,
     "metadata": {},
     "output_type": "execute_result"
    }
   ],
   "source": [
    "a[:17]"
   ]
  },
  {
   "cell_type": "code",
   "execution_count": 40,
   "id": "2fae1752-0bd2-40d3-a7c7-b4b2294ca644",
   "metadata": {},
   "outputs": [
    {
     "data": {
      "text/plain": [
       "'Life is too short, You need Python'"
      ]
     },
     "execution_count": 40,
     "metadata": {},
     "output_type": "execute_result"
    }
   ],
   "source": [
    "a[:]"
   ]
  },
  {
   "cell_type": "code",
   "execution_count": 41,
   "id": "ab31f7bb-c7db-419c-a720-8b871c17aea5",
   "metadata": {},
   "outputs": [
    {
     "data": {
      "text/plain": [
       "'Life is too short, You need Python'"
      ]
     },
     "execution_count": 41,
     "metadata": {},
     "output_type": "execute_result"
    }
   ],
   "source": [
    "a"
   ]
  },
  {
   "cell_type": "code",
   "execution_count": 42,
   "id": "00d4bc7b-6560-4286-ab95-0cdc2b491597",
   "metadata": {},
   "outputs": [
    {
     "data": {
      "text/plain": [
       "'You need'"
      ]
     },
     "execution_count": 42,
     "metadata": {},
     "output_type": "execute_result"
    }
   ],
   "source": [
    "a[19:-7]"
   ]
  },
  {
   "cell_type": "code",
   "execution_count": 43,
   "id": "2a8e1fb5-c849-4256-92a0-ca8fe64abd85",
   "metadata": {},
   "outputs": [
    {
     "name": "stdout",
     "output_type": "stream",
     "text": [
      "<class 'str'>\n"
     ]
    }
   ],
   "source": [
    "a=\"20230331Rainy\"\n",
    "print(type(a))"
   ]
  },
  {
   "cell_type": "markdown",
   "id": "f55cc0cf-d1aa-4d85-884f-e36d187cbfd9",
   "metadata": {},
   "source": [
    "### pithon 문자열을 python으로 바꾸려면"
   ]
  },
  {
   "cell_type": "code",
   "execution_count": 3,
   "id": "4bf82a3d-d9bf-404d-bda3-fb24e2f581cd",
   "metadata": {},
   "outputs": [
    {
     "data": {
      "text/plain": [
       "'i'"
      ]
     },
     "execution_count": 3,
     "metadata": {},
     "output_type": "execute_result"
    }
   ],
   "source": [
    "a= 'pithon'\n",
    "a[1]"
   ]
  },
  {
   "cell_type": "code",
   "execution_count": 4,
   "id": "f85d9153-75ca-49b6-90e3-6a30dd251183",
   "metadata": {},
   "outputs": [
    {
     "ename": "TypeError",
     "evalue": "'str' object does not support item assignment",
     "output_type": "error",
     "traceback": [
      "\u001b[1;31m---------------------------------------------------------------------------\u001b[0m",
      "\u001b[1;31mTypeError\u001b[0m                                 Traceback (most recent call last)",
      "Cell \u001b[1;32mIn[4], line 1\u001b[0m\n\u001b[1;32m----> 1\u001b[0m a[\u001b[38;5;241m1\u001b[39m]\u001b[38;5;241m=\u001b[39m\u001b[38;5;124m'\u001b[39m\u001b[38;5;124my\u001b[39m\u001b[38;5;124m'\u001b[39m\n",
      "\u001b[1;31mTypeError\u001b[0m: 'str' object does not support item assignment"
     ]
    }
   ],
   "source": [
    "a[1]='y'"
   ]
  },
  {
   "cell_type": "code",
   "execution_count": 5,
   "id": "4a8ba115-2570-49a4-9662-d1511d4b109a",
   "metadata": {},
   "outputs": [],
   "source": [
    "###변경할 수 없는 자료형\n"
   ]
  },
  {
   "cell_type": "code",
   "execution_count": 6,
   "id": "1a8c1d0d-b773-47de-a286-015e31b4a5c0",
   "metadata": {},
   "outputs": [
    {
     "name": "stdout",
     "output_type": "stream",
     "text": [
      "pithon\n"
     ]
    }
   ],
   "source": [
    "print(a)"
   ]
  },
  {
   "cell_type": "code",
   "execution_count": 9,
   "id": "7ef5622c-a952-4a9c-8f5d-6c69ee8ef1bc",
   "metadata": {},
   "outputs": [
    {
     "name": "stdout",
     "output_type": "stream",
     "text": [
      "python\n"
     ]
    }
   ],
   "source": [
    "b=a[0]+\"y\"+a[2:]\n",
    "print(b)"
   ]
  },
  {
   "cell_type": "markdown",
   "id": "f2488688-f736-42d9-b09b-46221b98d64e",
   "metadata": {},
   "source": [
    "### 문자열 포멧팅"
   ]
  },
  {
   "cell_type": "code",
   "execution_count": 10,
   "id": "494c3c9f-da9f-4bf4-af5d-89f020629c0d",
   "metadata": {},
   "outputs": [
    {
     "data": {
      "text/plain": [
       "'I eat 2 apples.'"
      ]
     },
     "execution_count": 10,
     "metadata": {},
     "output_type": "execute_result"
    }
   ],
   "source": [
    "\"I eat %d apples.\" %2"
   ]
  },
  {
   "cell_type": "code",
   "execution_count": 11,
   "id": "d65d73f0-389d-4de2-b2d3-13b2d5ed29f0",
   "metadata": {},
   "outputs": [
    {
     "data": {
      "text/plain": [
       "'I eat four apples.'"
      ]
     },
     "execution_count": 11,
     "metadata": {},
     "output_type": "execute_result"
    }
   ],
   "source": [
    "\"I eat %s apples.\" %\"four\""
   ]
  },
  {
   "cell_type": "code",
   "execution_count": 13,
   "id": "927b1cd9-edb5-4c7a-8608-02f91f65ede1",
   "metadata": {},
   "outputs": [
    {
     "data": {
      "text/plain": [
       "'I eat 5 apples.'"
      ]
     },
     "execution_count": 13,
     "metadata": {},
     "output_type": "execute_result"
    }
   ],
   "source": [
    "\"I eat %s apples.\" %5  #숫자가 문자로서 들어감"
   ]
  },
  {
   "cell_type": "code",
   "execution_count": 14,
   "id": "41d59dde-f090-4957-845f-c1bf52ed5a4d",
   "metadata": {},
   "outputs": [
    {
     "data": {
      "text/plain": [
       "'I eat 3 apples.'"
      ]
     },
     "execution_count": 14,
     "metadata": {},
     "output_type": "execute_result"
    }
   ],
   "source": [
    "number = 3\n",
    "\"I eat %d apples.\" %number"
   ]
  },
  {
   "cell_type": "code",
   "execution_count": 16,
   "id": "17ba3e6f-e16e-48a1-9d07-093cc9962782",
   "metadata": {},
   "outputs": [
    {
     "data": {
      "text/plain": [
       "'I ate 10 apples, so I was sick for three days.'"
      ]
     },
     "execution_count": 16,
     "metadata": {},
     "output_type": "execute_result"
    }
   ],
   "source": [
    "number = 10\n",
    "day='three'\n",
    "\"I ate %d apples, so I was sick for %s days.\" %(number, day)"
   ]
  },
  {
   "cell_type": "markdown",
   "id": "a7ac38ec-9885-446c-b58c-4c619198d0b0",
   "metadata": {},
   "source": [
    "### 포맷코드와 문자%를 같이 사용"
   ]
  },
  {
   "cell_type": "code",
   "execution_count": 19,
   "id": "6b25c69e-6c70-4107-8a5b-287c65489dbe",
   "metadata": {},
   "outputs": [
    {
     "data": {
      "text/plain": [
       "'Error is 98%.'"
      ]
     },
     "execution_count": 19,
     "metadata": {},
     "output_type": "execute_result"
    }
   ],
   "source": [
    "\"Error is %d%%.\" %98"
   ]
  },
  {
   "cell_type": "code",
   "execution_count": 24,
   "id": "b6007003-21e1-4da2-a778-8cf0c224a5a6",
   "metadata": {},
   "outputs": [
    {
     "name": "stdout",
     "output_type": "stream",
     "text": [
      "        hi\n"
     ]
    }
   ],
   "source": [
    "a=\"%10s\"%\"hi\"\n",
    "print(a)"
   ]
  },
  {
   "cell_type": "code",
   "execution_count": 25,
   "id": "36fa5c76-1c4c-4db1-b7e2-43117743e68f",
   "metadata": {},
   "outputs": [
    {
     "data": {
      "text/plain": [
       "10"
      ]
     },
     "execution_count": 25,
     "metadata": {},
     "output_type": "execute_result"
    }
   ],
   "source": [
    "len(a)"
   ]
  },
  {
   "cell_type": "code",
   "execution_count": 26,
   "id": "86098db8-2498-4f10-b054-c37465de9910",
   "metadata": {},
   "outputs": [
    {
     "name": "stdout",
     "output_type": "stream",
     "text": [
      "hi        \n"
     ]
    }
   ],
   "source": [
    "a=\"%-10s\"%\"hi\"\n",
    "print(a)"
   ]
  },
  {
   "cell_type": "code",
   "execution_count": 27,
   "id": "4f9a367a-ea1c-4695-8261-1c505eda57ac",
   "metadata": {},
   "outputs": [],
   "source": [
    "#뒤에 공란이 생긴 것\n"
   ]
  },
  {
   "cell_type": "code",
   "execution_count": 28,
   "id": "0d01c127-49f6-4001-9034-0b519e8dead7",
   "metadata": {},
   "outputs": [
    {
     "data": {
      "text/plain": [
       "'hi        '"
      ]
     },
     "execution_count": 28,
     "metadata": {},
     "output_type": "execute_result"
    }
   ],
   "source": [
    "a"
   ]
  },
  {
   "cell_type": "code",
   "execution_count": 29,
   "id": "c27628dc-4d37-4984-b04d-96bb9dd87251",
   "metadata": {},
   "outputs": [
    {
     "data": {
      "text/plain": [
       "'3.4894'"
      ]
     },
     "execution_count": 29,
     "metadata": {},
     "output_type": "execute_result"
    }
   ],
   "source": [
    "\"%0.4f\"%3.489437"
   ]
  },
  {
   "cell_type": "code",
   "execution_count": 30,
   "id": "895440d1-f740-44cf-96c7-e5b08b3eead1",
   "metadata": {},
   "outputs": [],
   "source": [
    "##소수점 4자리까지 보임"
   ]
  },
  {
   "cell_type": "code",
   "execution_count": 35,
   "id": "b818cf0c-2707-47d2-888b-11cfe7397e54",
   "metadata": {},
   "outputs": [
    {
     "data": {
      "text/plain": [
       "'    3.4894'"
      ]
     },
     "execution_count": 35,
     "metadata": {},
     "output_type": "execute_result"
    }
   ],
   "source": [
    "f=\"%10.4f\"%3.4894375678\n",
    "f"
   ]
  },
  {
   "cell_type": "code",
   "execution_count": 36,
   "id": "c78c7a09-95e8-4f0b-8b0a-ec2c8fba2825",
   "metadata": {},
   "outputs": [
    {
     "data": {
      "text/plain": [
       "10"
      ]
     },
     "execution_count": 36,
     "metadata": {},
     "output_type": "execute_result"
    }
   ],
   "source": [
    "len(f)"
   ]
  },
  {
   "cell_type": "code",
   "execution_count": 38,
   "id": "af648fd5-76d0-4c2a-a945-47c796386b78",
   "metadata": {},
   "outputs": [
    {
     "data": {
      "text/plain": [
       "'I ate 3 apples.'"
      ]
     },
     "execution_count": 38,
     "metadata": {},
     "output_type": "execute_result"
    }
   ],
   "source": [
    "\"I ate {} apples.\". format(3)"
   ]
  },
  {
   "cell_type": "code",
   "execution_count": 39,
   "id": "4506a176-be78-44c7-a3ee-14d858b8f3c1",
   "metadata": {},
   "outputs": [
    {
     "data": {
      "text/plain": [
       "'I ate five apples.'"
      ]
     },
     "execution_count": 39,
     "metadata": {},
     "output_type": "execute_result"
    }
   ],
   "source": [
    "\"I ate {} apples.\". format(\"five\")"
   ]
  },
  {
   "cell_type": "code",
   "execution_count": 40,
   "id": "61d2468f-b7ca-438e-a9fc-0697cea1427a",
   "metadata": {},
   "outputs": [
    {
     "data": {
      "text/plain": [
       "'I ate 3 apples.'"
      ]
     },
     "execution_count": 40,
     "metadata": {},
     "output_type": "execute_result"
    }
   ],
   "source": [
    "number=3\n",
    "\"I ate {} apples.\". format(number)"
   ]
  },
  {
   "cell_type": "code",
   "execution_count": 42,
   "id": "ced9cf06-a2a0-4625-b25a-eccf3192645d",
   "metadata": {},
   "outputs": [
    {
     "data": {
      "text/plain": [
       "'I ate 10 apples, so I was sick for three days.'"
      ]
     },
     "execution_count": 42,
     "metadata": {},
     "output_type": "execute_result"
    }
   ],
   "source": [
    "\"I ate {} apples, so I was sick for {} days.\". format(10, \"three\")"
   ]
  },
  {
   "cell_type": "code",
   "execution_count": 43,
   "id": "1adfb230-101c-4d71-88ad-3dd00dc9c6af",
   "metadata": {},
   "outputs": [
    {
     "data": {
      "text/plain": [
       "'I ate 10 apples, so I was sick for three days.'"
      ]
     },
     "execution_count": 43,
     "metadata": {},
     "output_type": "execute_result"
    }
   ],
   "source": [
    "\"I ate {0} apples, so I was sick for {1} days.\". format(10, \"three\")"
   ]
  },
  {
   "cell_type": "code",
   "execution_count": 44,
   "id": "c4602297-ba98-4244-af11-a04465441a56",
   "metadata": {},
   "outputs": [
    {
     "data": {
      "text/plain": [
       "'I ate 10 apples, so I was sick for 3 days.'"
      ]
     },
     "execution_count": 44,
     "metadata": {},
     "output_type": "execute_result"
    }
   ],
   "source": [
    "number=10\n",
    "day=3\n",
    "\"I ate {} apples, so I was sick for {} days.\". format(number, day)"
   ]
  },
  {
   "cell_type": "code",
   "execution_count": 47,
   "id": "9cbc9449-91f1-41a5-b697-b75e5841069d",
   "metadata": {},
   "outputs": [
    {
     "data": {
      "text/plain": [
       "'I ate 10 apples, so I was sick for 3 days.'"
      ]
     },
     "execution_count": 47,
     "metadata": {},
     "output_type": "execute_result"
    }
   ],
   "source": [
    "number=10\n",
    "day=3\n",
    "\"I ate {number1} apples, so I was sick for {day1} days.\". format(number1=number, day1=day)"
   ]
  },
  {
   "cell_type": "code",
   "execution_count": 48,
   "id": "df61c49e-6818-4ae3-a847-e0ae8bf40c21",
   "metadata": {},
   "outputs": [
    {
     "data": {
      "text/plain": [
       "'I ate 10 apples, so I was sick for 3 days.'"
      ]
     },
     "execution_count": 48,
     "metadata": {},
     "output_type": "execute_result"
    }
   ],
   "source": [
    "number=10\n",
    "day=3\n",
    "\"I ate {number} apples, so I was sick for {day} days.\". format(number=number, day=day)"
   ]
  },
  {
   "cell_type": "code",
   "execution_count": 49,
   "id": "9f983277-98ef-40fe-9916-0b14b5737020",
   "metadata": {},
   "outputs": [],
   "source": [
    "##어디에 무엇이 연결되어 있는지 구분"
   ]
  },
  {
   "cell_type": "code",
   "execution_count": 50,
   "id": "4d6d8887-72e0-4f21-b12c-3e9bcad9f69e",
   "metadata": {},
   "outputs": [
    {
     "data": {
      "text/plain": [
       "'hi        '"
      ]
     },
     "execution_count": 50,
     "metadata": {},
     "output_type": "execute_result"
    }
   ],
   "source": [
    "\"{:10}\".format('hi')"
   ]
  },
  {
   "cell_type": "code",
   "execution_count": 51,
   "id": "6d21c486-2cd6-438e-a137-46df8480c9b0",
   "metadata": {},
   "outputs": [
    {
     "data": {
      "text/plain": [
       "'        hi'"
      ]
     },
     "execution_count": 51,
     "metadata": {},
     "output_type": "execute_result"
    }
   ],
   "source": [
    "\"{:>10}\".format('hi')"
   ]
  },
  {
   "cell_type": "code",
   "execution_count": 52,
   "id": "b6aacd86-27ad-4062-b03a-7cc2eefc8c79",
   "metadata": {},
   "outputs": [
    {
     "data": {
      "text/plain": [
       "'    hi    '"
      ]
     },
     "execution_count": 52,
     "metadata": {},
     "output_type": "execute_result"
    }
   ],
   "source": [
    "\"{:^10}\".format('hi')"
   ]
  },
  {
   "cell_type": "code",
   "execution_count": 53,
   "id": "82bb8efb-6924-4bdc-bfc3-c46c780d303e",
   "metadata": {},
   "outputs": [
    {
     "data": {
      "text/plain": [
       "'hi        '"
      ]
     },
     "execution_count": 53,
     "metadata": {},
     "output_type": "execute_result"
    }
   ],
   "source": [
    "\"{:<10}\".format('hi')"
   ]
  },
  {
   "cell_type": "code",
   "execution_count": 55,
   "id": "975b9388-22a7-47b6-9fc4-c1a6182af6ad",
   "metadata": {},
   "outputs": [
    {
     "data": {
      "text/plain": [
       "'====hi===='"
      ]
     },
     "execution_count": 55,
     "metadata": {},
     "output_type": "execute_result"
    }
   ],
   "source": [
    "\"{:=^10}\".format('hi')"
   ]
  },
  {
   "cell_type": "code",
   "execution_count": 56,
   "id": "2400bee3-6748-49b9-8ef1-357523db2e9c",
   "metadata": {},
   "outputs": [
    {
     "data": {
      "text/plain": [
       "'!!!!!!!!hi'"
      ]
     },
     "execution_count": 56,
     "metadata": {},
     "output_type": "execute_result"
    }
   ],
   "source": [
    "\"{:!>10}\".format('hi')"
   ]
  },
  {
   "cell_type": "code",
   "execution_count": 57,
   "id": "3c3408ce-d6b5-44af-8b52-0bce2f5ab758",
   "metadata": {},
   "outputs": [
    {
     "data": {
      "text/plain": [
       "'    3.4242'"
      ]
     },
     "execution_count": 57,
     "metadata": {},
     "output_type": "execute_result"
    }
   ],
   "source": [
    "\"{:10.4f}\".format(3.4242356)"
   ]
  },
  {
   "cell_type": "code",
   "execution_count": 58,
   "id": "3c0bea92-a294-4fc6-94dc-5489d69d3cb6",
   "metadata": {},
   "outputs": [],
   "source": [
    "## 10은 10자 표현, .4는 소수점 아래 네 자리수까지"
   ]
  },
  {
   "cell_type": "code",
   "execution_count": 61,
   "id": "8010d3c2-d45a-4344-9bbe-6398c50fa67e",
   "metadata": {},
   "outputs": [
    {
     "data": {
      "text/plain": [
       "'{and}'"
      ]
     },
     "execution_count": 61,
     "metadata": {},
     "output_type": "execute_result"
    }
   ],
   "source": [
    "\"{{and}}\".format()"
   ]
  },
  {
   "cell_type": "markdown",
   "id": "e697f879-9662-4f07-b53f-f369b2919a0f",
   "metadata": {},
   "source": [
    "### f문자열 포맷팅"
   ]
  },
  {
   "cell_type": "code",
   "execution_count": 63,
   "id": "87932532-2661-4a0c-8156-0889382a1c0a",
   "metadata": {},
   "outputs": [
    {
     "data": {
      "text/plain": [
       "'나의 이름은 이혜지입니다. 나이는 28입니다.'"
      ]
     },
     "execution_count": 63,
     "metadata": {},
     "output_type": "execute_result"
    }
   ],
   "source": [
    "name='이혜지'\n",
    "age=28\n",
    "f\"나의 이름은 {name}입니다. 나이는 {age}입니다.\""
   ]
  },
  {
   "cell_type": "code",
   "execution_count": 65,
   "id": "69b010e2-5f99-4575-a8dc-5a55b56991b3",
   "metadata": {},
   "outputs": [
    {
     "data": {
      "text/plain": [
       "'나는 내년에 29살 입니다.'"
      ]
     },
     "execution_count": 65,
     "metadata": {},
     "output_type": "execute_result"
    }
   ],
   "source": [
    "age=28\n",
    "f\"나는 내년에 {age+1}살 입니다.\""
   ]
  },
  {
   "cell_type": "code",
   "execution_count": 66,
   "id": "b7fc9121-7121-48e5-868b-6aaa66e03240",
   "metadata": {},
   "outputs": [
    {
     "data": {
      "text/plain": [
       "'나의 이름은 이혜지입니다. 나이는 28입니다.'"
      ]
     },
     "execution_count": 66,
     "metadata": {},
     "output_type": "execute_result"
    }
   ],
   "source": [
    "d={'name': '이혜지', 'age':28} ##딕셔너리\n",
    "f\"나의 이름은 {d['name']}입니다. 나이는 {d['age']}입니다.\""
   ]
  },
  {
   "cell_type": "code",
   "execution_count": 67,
   "id": "2ddf73a0-3c5e-4b94-8037-41f3142b4bf9",
   "metadata": {},
   "outputs": [
    {
     "data": {
      "text/plain": [
       "'hi        '"
      ]
     },
     "execution_count": 67,
     "metadata": {},
     "output_type": "execute_result"
    }
   ],
   "source": [
    "f\"{\"hi\":<10}\""
   ]
  },
  {
   "cell_type": "code",
   "execution_count": 68,
   "id": "3ef26175-b8a5-4156-b107-3f0858f39ffe",
   "metadata": {},
   "outputs": [
    {
     "data": {
      "text/plain": [
       "'        hi'"
      ]
     },
     "execution_count": 68,
     "metadata": {},
     "output_type": "execute_result"
    }
   ],
   "source": [
    "f\"{\"hi\":>10}\""
   ]
  },
  {
   "cell_type": "code",
   "execution_count": 70,
   "id": "dcea19c6-6613-49f7-8efa-220ecb134207",
   "metadata": {},
   "outputs": [
    {
     "data": {
      "text/plain": [
       "'    hi    '"
      ]
     },
     "execution_count": 70,
     "metadata": {},
     "output_type": "execute_result"
    }
   ],
   "source": [
    "f\"{\"hi\":^10}\""
   ]
  },
  {
   "cell_type": "code",
   "execution_count": 72,
   "id": "0e1a4b89-8e6e-4cb9-9124-22bd7964543c",
   "metadata": {},
   "outputs": [
    {
     "data": {
      "text/plain": [
       "'hi========'"
      ]
     },
     "execution_count": 72,
     "metadata": {},
     "output_type": "execute_result"
    }
   ],
   "source": [
    "f\"{\"hi\":=<10}\""
   ]
  },
  {
   "cell_type": "code",
   "execution_count": 74,
   "id": "4d27c652-776c-4f63-8c2f-e5b49ac4a4e7",
   "metadata": {},
   "outputs": [
    {
     "name": "stdout",
     "output_type": "stream",
     "text": [
      "hi========\n",
      "hi!!!!!!!!\n"
     ]
    }
   ],
   "source": [
    "print(f\"{\"hi\":=<10}\")\n",
    "print(f\"{\"hi\":!<10}\")"
   ]
  },
  {
   "cell_type": "code",
   "execution_count": 75,
   "id": "fdc0be2b-200a-4f20-b80d-480c6455f6ba",
   "metadata": {},
   "outputs": [
    {
     "name": "stdout",
     "output_type": "stream",
     "text": [
      "====hi====\n",
      "!!!!hi!!!!\n"
     ]
    }
   ],
   "source": [
    "print(f\"{\"hi\":=^10}\")\n",
    "print(f\"{\"hi\":!^10}\")"
   ]
  },
  {
   "cell_type": "code",
   "execution_count": 77,
   "id": "ba02ee7d-05aa-4cd6-b00b-dfa181156ea9",
   "metadata": {},
   "outputs": [
    {
     "name": "stdout",
     "output_type": "stream",
     "text": [
      "========hi\n",
      "!!!!!!!!hi\n"
     ]
    }
   ],
   "source": [
    "print(f\"{\"hi\":=>10}\")\n",
    "print(f\"{\"hi\":!>10}\")"
   ]
  },
  {
   "cell_type": "code",
   "execution_count": 78,
   "id": "df45f8b8-f9f2-4b52-b4a5-225518c315af",
   "metadata": {},
   "outputs": [
    {
     "data": {
      "text/plain": [
       "'3.4213'"
      ]
     },
     "execution_count": 78,
     "metadata": {},
     "output_type": "execute_result"
    }
   ],
   "source": [
    "f\"{3.42135:0.4f}\""
   ]
  },
  {
   "cell_type": "code",
   "execution_count": 79,
   "id": "92b3ba77-965e-4685-9d30-e1d5ebcf5a66",
   "metadata": {},
   "outputs": [
    {
     "data": {
      "text/plain": [
       "'    3.4213'"
      ]
     },
     "execution_count": 79,
     "metadata": {},
     "output_type": "execute_result"
    }
   ],
   "source": [
    "f\"{3.42135:10.4f}\""
   ]
  },
  {
   "cell_type": "code",
   "execution_count": 80,
   "id": "e1e4aeee-f4c1-4c65-b204-64550a5ddb06",
   "metadata": {},
   "outputs": [
    {
     "data": {
      "text/plain": [
       "'{and}'"
      ]
     },
     "execution_count": 80,
     "metadata": {},
     "output_type": "execute_result"
    }
   ],
   "source": [
    "f\"{{and}}\""
   ]
  },
  {
   "cell_type": "markdown",
   "id": "7a4ff78a-6be5-46dd-a8db-605c728f086e",
   "metadata": {},
   "source": [
    "## 문자열 관련 함수들"
   ]
  },
  {
   "cell_type": "code",
   "execution_count": 82,
   "id": "d264d9d5-05c7-4e73-861e-cc941f33d26a",
   "metadata": {},
   "outputs": [
    {
     "data": {
      "text/plain": [
       "2"
      ]
     },
     "execution_count": 82,
     "metadata": {},
     "output_type": "execute_result"
    }
   ],
   "source": [
    "# count(): 문자 개수 세기\n",
    "\"hobby\".count(\"b\")"
   ]
  },
  {
   "cell_type": "code",
   "execution_count": 84,
   "id": "0c13a86e-016d-4275-96c1-ceca5d382d8d",
   "metadata": {},
   "outputs": [
    {
     "data": {
      "text/plain": [
       "1"
      ]
     },
     "execution_count": 84,
     "metadata": {},
     "output_type": "execute_result"
    }
   ],
   "source": [
    "\"vnuwqerpogjkdlsamfvudhpqtuiol\".count(\"j\")"
   ]
  },
  {
   "cell_type": "code",
   "execution_count": 87,
   "id": "0d54c6ef-1459-4d00-9b04-e4dd471484ff",
   "metadata": {},
   "outputs": [
    {
     "data": {
      "text/plain": [
       "14"
      ]
     },
     "execution_count": 87,
     "metadata": {},
     "output_type": "execute_result"
    }
   ],
   "source": [
    "#find(): 위치 찾기\n",
    "\"Python is the best choice.\".find(\"b\")"
   ]
  },
  {
   "cell_type": "code",
   "execution_count": 89,
   "id": "485e371d-6c40-4cbf-b68a-d2ac68f57cd7",
   "metadata": {},
   "outputs": [
    {
     "data": {
      "text/plain": [
       "-1"
      ]
     },
     "execution_count": 89,
     "metadata": {},
     "output_type": "execute_result"
    }
   ],
   "source": [
    "\"Python is the best choice.\".find(\"k\") #찾는 문자가 없으면 -1을 반환"
   ]
  },
  {
   "cell_type": "code",
   "execution_count": 92,
   "id": "46ea5ee4-3a23-46e3-a204-55cbd1bc8161",
   "metadata": {},
   "outputs": [
    {
     "data": {
      "text/plain": [
       "8"
      ]
     },
     "execution_count": 92,
     "metadata": {},
     "output_type": "execute_result"
    }
   ],
   "source": [
    "#index(): 위치 찾기\n",
    "a=\"Life is too short.\"\n",
    "a.index(\"t\")"
   ]
  },
  {
   "cell_type": "code",
   "execution_count": 95,
   "id": "90c9e4a7-0b0b-4a97-9d56-b03c9b9e73ee",
   "metadata": {},
   "outputs": [
    {
     "ename": "ValueError",
     "evalue": "substring not found",
     "output_type": "error",
     "traceback": [
      "\u001b[1;31m---------------------------------------------------------------------------\u001b[0m",
      "\u001b[1;31mValueError\u001b[0m                                Traceback (most recent call last)",
      "Cell \u001b[1;32mIn[95], line 1\u001b[0m\n\u001b[1;32m----> 1\u001b[0m a\u001b[38;5;241m.\u001b[39mindex(\u001b[38;5;124m\"\u001b[39m\u001b[38;5;124mk\u001b[39m\u001b[38;5;124m\"\u001b[39m)\n",
      "\u001b[1;31mValueError\u001b[0m: substring not found"
     ]
    }
   ],
   "source": [
    "a.index(\"k\") #찾는 문자가 없으면 에러 뜸. 처리 흐름이 끊기므로 다른 숫자로 반환 해주는 것이 유리함."
   ]
  },
  {
   "cell_type": "code",
   "execution_count": 96,
   "id": "f23fcddf-4783-49d1-ab3f-a280f3703008",
   "metadata": {},
   "outputs": [
    {
     "data": {
      "text/plain": [
       "'a,b,c,d'"
      ]
     },
     "execution_count": 96,
     "metadata": {},
     "output_type": "execute_result"
    }
   ],
   "source": [
    "#join(): 문자열을 삽입하는 함수\n",
    "\",\".join(\"abcd\")"
   ]
  },
  {
   "cell_type": "code",
   "execution_count": 97,
   "id": "f98f7820-d824-4b29-97a5-97b69ebeac3a",
   "metadata": {},
   "outputs": [
    {
     "data": {
      "text/plain": [
       "'a,b,c,d'"
      ]
     },
     "execution_count": 97,
     "metadata": {},
     "output_type": "execute_result"
    }
   ],
   "source": [
    "\",\".join([\"a\", \"b\", \"c\", \"d\"])"
   ]
  },
  {
   "cell_type": "code",
   "execution_count": 101,
   "id": "f41a8aba-6e42-42ca-81c4-3f2717971df3",
   "metadata": {},
   "outputs": [
    {
     "name": "stdout",
     "output_type": "stream",
     "text": [
      "['a', 'b', 'c', 'd']\n",
      "<class 'list'>\n"
     ]
    }
   ],
   "source": [
    "list=[\"a\", \"b\", \"c\", \"d\"]\n",
    "print(list)\n",
    "print(type(list))"
   ]
  },
  {
   "cell_type": "code",
   "execution_count": 110,
   "id": "e9c09f2f-c55d-46ee-bb04-500c359ff183",
   "metadata": {},
   "outputs": [
    {
     "data": {
      "text/plain": [
       "'abcd'"
      ]
     },
     "execution_count": 110,
     "metadata": {},
     "output_type": "execute_result"
    }
   ],
   "source": [
    "\"\".join(list)"
   ]
  },
  {
   "cell_type": "code",
   "execution_count": 103,
   "id": "08f0d4c6-db87-4966-8355-e7ec849b3192",
   "metadata": {},
   "outputs": [
    {
     "name": "stdout",
     "output_type": "stream",
     "text": [
      "a,b,c,d\n",
      "<class 'str'>\n"
     ]
    }
   ],
   "source": [
    "list_join=\",\".join(list)\n",
    "print(list_join)\n",
    "print(type(list_join))"
   ]
  },
  {
   "cell_type": "code",
   "execution_count": 104,
   "id": "48719c01-d397-48ff-82ae-110b806179fd",
   "metadata": {},
   "outputs": [
    {
     "data": {
      "text/plain": [
       "'HI'"
      ]
     },
     "execution_count": 104,
     "metadata": {},
     "output_type": "execute_result"
    }
   ],
   "source": [
    "#upper(): 소문자를 대문자로\n",
    "\"hi\".upper()"
   ]
  },
  {
   "cell_type": "code",
   "execution_count": 105,
   "id": "c1d98602-3e80-4c6f-be25-4a53091d6a27",
   "metadata": {},
   "outputs": [
    {
     "data": {
      "text/plain": [
       "'hi'"
      ]
     },
     "execution_count": 105,
     "metadata": {},
     "output_type": "execute_result"
    }
   ],
   "source": [
    "#lower(): 대문자를 소문자로\n",
    "\"HI\".lower()"
   ]
  },
  {
   "cell_type": "code",
   "execution_count": 106,
   "id": "d1ec8c14-10a9-4217-9f3a-2a8c13c1174c",
   "metadata": {},
   "outputs": [
    {
     "data": {
      "text/plain": [
       "'hi     '"
      ]
     },
     "execution_count": 106,
     "metadata": {},
     "output_type": "execute_result"
    }
   ],
   "source": [
    "#lstrip: 왼쪽 공백 제거\n",
    "\"    hi     \".lstrip()"
   ]
  },
  {
   "cell_type": "code",
   "execution_count": 108,
   "id": "feb3074f-7887-4ae9-a666-75a7ba60c692",
   "metadata": {},
   "outputs": [
    {
     "data": {
      "text/plain": [
       "'    hi'"
      ]
     },
     "execution_count": 108,
     "metadata": {},
     "output_type": "execute_result"
    }
   ],
   "source": [
    "#rstrip: 오른쪽 공백 제거\n",
    "\"    hi     \".rstrip()"
   ]
  },
  {
   "cell_type": "code",
   "execution_count": 109,
   "id": "ec6ca0df-9dc7-43af-9490-925a4dac03dd",
   "metadata": {},
   "outputs": [
    {
     "data": {
      "text/plain": [
       "'hi'"
      ]
     },
     "execution_count": 109,
     "metadata": {},
     "output_type": "execute_result"
    }
   ],
   "source": [
    "#strip: 양쪽 공백 제거\n",
    "\"    hi     \".strip()"
   ]
  },
  {
   "cell_type": "code",
   "execution_count": 111,
   "id": "a39a874c-612f-46a0-b999-8be3818d4d58",
   "metadata": {},
   "outputs": [
    {
     "data": {
      "text/plain": [
       "'Your nose is too short.'"
      ]
     },
     "execution_count": 111,
     "metadata": {},
     "output_type": "execute_result"
    }
   ],
   "source": [
    "#replace(): 문자열 바꾸기\n",
    "\"Life is too short.\".replace(\"Life\",\"Your nose\")"
   ]
  },
  {
   "cell_type": "code",
   "execution_count": 112,
   "id": "91eee633-0fa7-4a87-8880-b9534545ed7a",
   "metadata": {},
   "outputs": [
    {
     "data": {
      "text/plain": [
       "['Life', 'is', 'too', 'short.']"
      ]
     },
     "execution_count": 112,
     "metadata": {},
     "output_type": "execute_result"
    }
   ],
   "source": [
    "#split(): 문자열 나누기\n",
    "a=\"Life is too short.\"\n",
    "a.split()"
   ]
  },
  {
   "cell_type": "code",
   "execution_count": 113,
   "id": "f405914c-110f-4c6d-896f-1746724c1c0d",
   "metadata": {},
   "outputs": [],
   "source": [
    "#[]: 리스트 형태로 반환한 것\n"
   ]
  },
  {
   "cell_type": "code",
   "execution_count": 114,
   "id": "c1b28242-f6bf-4054-a546-ca101e8395f8",
   "metadata": {},
   "outputs": [
    {
     "name": "stdout",
     "output_type": "stream",
     "text": [
      "['Life', 'is', 'too', 'short.']\n",
      "<class 'list'>\n"
     ]
    }
   ],
   "source": [
    "a=\"Life is too short.\"\n",
    "b=a.split()\n",
    "\n",
    "print(b)\n",
    "print(type(b))"
   ]
  },
  {
   "cell_type": "code",
   "execution_count": 115,
   "id": "5a3adbc5-f2e6-4b96-afb7-e2d63517d1ed",
   "metadata": {},
   "outputs": [
    {
     "data": {
      "text/plain": [
       "['a', 'b', 'c', 'd']"
      ]
     },
     "execution_count": 115,
     "metadata": {},
     "output_type": "execute_result"
    }
   ],
   "source": [
    "c=\"a,b,c,d\"\n",
    "c.split(\",\")"
   ]
  },
  {
   "cell_type": "code",
   "execution_count": 117,
   "id": "1d3dbbe0-96af-4212-aa7d-8b0511daa502",
   "metadata": {},
   "outputs": [
    {
     "data": {
      "text/plain": [
       "['a,b,c,d']"
      ]
     },
     "execution_count": 117,
     "metadata": {},
     "output_type": "execute_result"
    }
   ],
   "source": [
    "c=\"a,b,c,d\"\n",
    "c.split()"
   ]
  },
  {
   "cell_type": "code",
   "execution_count": 119,
   "id": "7daf94d8-cc5a-4791-857e-4e7969a0920e",
   "metadata": {},
   "outputs": [
    {
     "data": {
      "text/plain": [
       "'HI'"
      ]
     },
     "execution_count": 119,
     "metadata": {},
     "output_type": "execute_result"
    }
   ],
   "source": [
    "a=\"hi\"\n",
    "a.upper()"
   ]
  },
  {
   "cell_type": "code",
   "execution_count": 120,
   "id": "a5c3696c-9857-44a3-85cc-0293d2529a79",
   "metadata": {},
   "outputs": [
    {
     "data": {
      "text/plain": [
       "'hi'"
      ]
     },
     "execution_count": 120,
     "metadata": {},
     "output_type": "execute_result"
    }
   ],
   "source": [
    "a"
   ]
  },
  {
   "cell_type": "code",
   "execution_count": 126,
   "id": "5106f9ef-bb79-478a-95f8-a3c9bc1d8a78",
   "metadata": {},
   "outputs": [],
   "source": [
    "#출력을 일시적으로 대문자로 한 것이고, 원본은 변하지 않음 lower, join, strip 시리즈... 도 해당"
   ]
  },
  {
   "cell_type": "code",
   "execution_count": 122,
   "id": "e6f6f217-c64e-46bc-aa63-39412a6e7108",
   "metadata": {},
   "outputs": [
    {
     "name": "stdout",
     "output_type": "stream",
     "text": [
      "HI\n"
     ]
    }
   ],
   "source": [
    "a=a.upper()\n",
    "print(a)"
   ]
  },
  {
   "cell_type": "code",
   "execution_count": 123,
   "id": "7232ed63-1191-4a57-bab5-98dbe0a71fd1",
   "metadata": {},
   "outputs": [],
   "source": [
    "#이렇게 하면 a 자체를 대문자로 변경한 것"
   ]
  },
  {
   "cell_type": "code",
   "execution_count": 124,
   "id": "28c803f0-5a44-407b-83ce-753885ee24fa",
   "metadata": {},
   "outputs": [
    {
     "data": {
      "text/plain": [
       "'HI'"
      ]
     },
     "execution_count": 124,
     "metadata": {},
     "output_type": "execute_result"
    }
   ],
   "source": [
    "a"
   ]
  },
  {
   "cell_type": "code",
   "execution_count": 125,
   "id": "e1c1b2a9-2af4-410c-a010-44ca12e0a97c",
   "metadata": {},
   "outputs": [],
   "source": [
    "#어때 바뀌었지?"
   ]
  },
  {
   "cell_type": "code",
   "execution_count": null,
   "id": "09fd2811-f90a-44b7-995f-f55bf32ad36e",
   "metadata": {},
   "outputs": [],
   "source": []
  }
 ],
 "metadata": {
  "kernelspec": {
   "display_name": "Python [conda env:base] *",
   "language": "python",
   "name": "conda-base-py"
  },
  "language_info": {
   "codemirror_mode": {
    "name": "ipython",
    "version": 3
   },
   "file_extension": ".py",
   "mimetype": "text/x-python",
   "name": "python",
   "nbconvert_exporter": "python",
   "pygments_lexer": "ipython3",
   "version": "3.13.5"
  }
 },
 "nbformat": 4,
 "nbformat_minor": 5
}
