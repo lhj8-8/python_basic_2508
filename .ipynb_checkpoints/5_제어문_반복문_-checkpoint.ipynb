{
 "cells": [
  {
   "cell_type": "markdown",
   "id": "ee236da8-ab69-4867-8302-9c2c8039cc17",
   "metadata": {},
   "source": [
    "# while 문"
   ]
  },
  {
   "cell_type": "code",
   "execution_count": 5,
   "id": "e4bdc971-abbf-46e1-8801-8a36dd1f61c2",
   "metadata": {},
   "outputs": [
    {
     "name": "stdout",
     "output_type": "stream",
     "text": [
      "나무 1 번 찍음.\n",
      "나무 2 번 찍음.\n",
      "나무 3 번 찍음.\n",
      "나무 4 번 찍음.\n",
      "나무 5 번 찍음.\n",
      "나무 6 번 찍음.\n",
      "나무 7 번 찍음.\n",
      "나무 8 번 찍음.\n",
      "나무 9 번 찍음.\n",
      "나무 10 번 찍음.\n",
      "나무 넘어감\n"
     ]
    }
   ],
   "source": [
    "treehit=0\n",
    "\n",
    "while treehit<10:\n",
    "    treehit+=1 # treehit=treehit +1 과 같음\n",
    "    print('나무 %d 번 찍음.' %treehit)\n",
    "    if treehit==10:\n",
    "        print(\"나무 넘어감\")"
   ]
  },
  {
   "cell_type": "code",
   "execution_count": 6,
   "id": "94998786-0f10-4e90-a125-ae7c33e30284",
   "metadata": {},
   "outputs": [],
   "source": [
    "prompt= \"\"\"\n",
    "1.add\n",
    "2.del\n",
    "3.list\n",
    "4.quit\n",
    "\n",
    "enter number:\"\"\""
   ]
  },
  {
   "cell_type": "code",
   "execution_count": 11,
   "id": "74401f70-cd7b-43b0-a593-7f2d53da0987",
   "metadata": {},
   "outputs": [
    {
     "name": "stdout",
     "output_type": "stream",
     "text": [
      "\n",
      "1.add\n",
      "2.del\n",
      "3.list\n",
      "4.quit\n",
      "\n",
      "enter number:\n"
     ]
    },
    {
     "name": "stdin",
     "output_type": "stream",
     "text": [
      " 1\n"
     ]
    },
    {
     "name": "stdout",
     "output_type": "stream",
     "text": [
      "\n",
      "1.add\n",
      "2.del\n",
      "3.list\n",
      "4.quit\n",
      "\n",
      "enter number:\n"
     ]
    },
    {
     "name": "stdin",
     "output_type": "stream",
     "text": [
      " 2\n"
     ]
    },
    {
     "name": "stdout",
     "output_type": "stream",
     "text": [
      "\n",
      "1.add\n",
      "2.del\n",
      "3.list\n",
      "4.quit\n",
      "\n",
      "enter number:\n"
     ]
    },
    {
     "name": "stdin",
     "output_type": "stream",
     "text": [
      " 3\n"
     ]
    },
    {
     "name": "stdout",
     "output_type": "stream",
     "text": [
      "\n",
      "1.add\n",
      "2.del\n",
      "3.list\n",
      "4.quit\n",
      "\n",
      "enter number:\n"
     ]
    },
    {
     "name": "stdin",
     "output_type": "stream",
     "text": [
      " 4\n"
     ]
    }
   ],
   "source": [
    "number=0\n",
    "while number !=4:\n",
    "    print(prompt)\n",
    "    number=int(input()) #숫자 입력할 때는 그냥 엔터만. 시프트+엔터하면 에러"
   ]
  },
  {
   "cell_type": "code",
   "execution_count": 10,
   "id": "f077403a-c09e-4ff0-aaaa-53b74e9ee2ce",
   "metadata": {},
   "outputs": [
    {
     "name": "stdout",
     "output_type": "stream",
     "text": [
      "돈 받았으니 커피\n",
      "남은 커피는 9 입니다\n",
      "돈 받았으니 커피\n",
      "남은 커피는 8 입니다\n",
      "돈 받았으니 커피\n",
      "남은 커피는 7 입니다\n",
      "돈 받았으니 커피\n",
      "남은 커피는 6 입니다\n",
      "돈 받았으니 커피\n",
      "남은 커피는 5 입니다\n",
      "돈 받았으니 커피\n",
      "남은 커피는 4 입니다\n",
      "돈 받았으니 커피\n",
      "남은 커피는 3 입니다\n",
      "돈 받았으니 커피\n",
      "남은 커피는 2 입니다\n",
      "돈 받았으니 커피\n",
      "남은 커피는 1 입니다\n",
      "돈 받았으니 커피\n",
      "남은 커피는 0 입니다\n",
      "매진\n"
     ]
    }
   ],
   "source": [
    "#break 문: while 문 강제로 빠져 나가기\n",
    "coffee=10\n",
    "money=300\n",
    "\n",
    "while money:\n",
    "    print('돈 받았으니 커피')\n",
    "    coffee-=1\n",
    "    print(\"남은 커피는 %d 입니다\" %coffee)\n",
    "    if coffee ==0:\n",
    "        print(\"매진\")\n",
    "        break #반복문 강제 종료"
   ]
  },
  {
   "cell_type": "code",
   "execution_count": 13,
   "id": "c5f5af08-c640-4148-aff4-8126b13729fe",
   "metadata": {},
   "outputs": [
    {
     "name": "stdin",
     "output_type": "stream",
     "text": [
      "입금해라:  300\n"
     ]
    },
    {
     "name": "stdout",
     "output_type": "stream",
     "text": [
      "돈 받았으니 커피\n"
     ]
    },
    {
     "name": "stdin",
     "output_type": "stream",
     "text": [
      "입금해라:  500\n"
     ]
    },
    {
     "name": "stdout",
     "output_type": "stream",
     "text": [
      "거스름돈 200 를 주고 커피 준다\n"
     ]
    },
    {
     "name": "stdin",
     "output_type": "stream",
     "text": [
      "입금해라:  200\n"
     ]
    },
    {
     "name": "stdout",
     "output_type": "stream",
     "text": [
      "돈 돌려주고 커피 안 줌\n",
      "남은 커피는 8 입니다\n"
     ]
    },
    {
     "name": "stdin",
     "output_type": "stream",
     "text": [
      "입금해라:  50\n"
     ]
    },
    {
     "name": "stdout",
     "output_type": "stream",
     "text": [
      "돈 돌려주고 커피 안 줌\n",
      "남은 커피는 8 입니다\n"
     ]
    },
    {
     "name": "stdin",
     "output_type": "stream",
     "text": [
      "입금해라:  600\n"
     ]
    },
    {
     "name": "stdout",
     "output_type": "stream",
     "text": [
      "거스름돈 300 를 주고 커피 준다\n"
     ]
    },
    {
     "name": "stdin",
     "output_type": "stream",
     "text": [
      "입금해라:  40\n"
     ]
    },
    {
     "name": "stdout",
     "output_type": "stream",
     "text": [
      "돈 돌려주고 커피 안 줌\n",
      "남은 커피는 7 입니다\n"
     ]
    },
    {
     "name": "stdin",
     "output_type": "stream",
     "text": [
      "입금해라:  300\n"
     ]
    },
    {
     "name": "stdout",
     "output_type": "stream",
     "text": [
      "돈 받았으니 커피\n"
     ]
    },
    {
     "name": "stdin",
     "output_type": "stream",
     "text": [
      "입금해라:  300\n"
     ]
    },
    {
     "name": "stdout",
     "output_type": "stream",
     "text": [
      "돈 받았으니 커피\n"
     ]
    },
    {
     "name": "stdin",
     "output_type": "stream",
     "text": [
      "입금해라:  300\n"
     ]
    },
    {
     "name": "stdout",
     "output_type": "stream",
     "text": [
      "돈 받았으니 커피\n"
     ]
    },
    {
     "name": "stdin",
     "output_type": "stream",
     "text": [
      "입금해라:  300\n"
     ]
    },
    {
     "name": "stdout",
     "output_type": "stream",
     "text": [
      "돈 받았으니 커피\n"
     ]
    },
    {
     "name": "stdin",
     "output_type": "stream",
     "text": [
      "입금해라:  57\n"
     ]
    },
    {
     "name": "stdout",
     "output_type": "stream",
     "text": [
      "돈 돌려주고 커피 안 줌\n",
      "남은 커피는 3 입니다\n"
     ]
    },
    {
     "name": "stdin",
     "output_type": "stream",
     "text": [
      "입금해라:  300\n"
     ]
    },
    {
     "name": "stdout",
     "output_type": "stream",
     "text": [
      "돈 받았으니 커피\n"
     ]
    },
    {
     "name": "stdin",
     "output_type": "stream",
     "text": [
      "입금해라:  300\n"
     ]
    },
    {
     "name": "stdout",
     "output_type": "stream",
     "text": [
      "돈 받았으니 커피\n"
     ]
    },
    {
     "name": "stdin",
     "output_type": "stream",
     "text": [
      "입금해라:  80\n"
     ]
    },
    {
     "name": "stdout",
     "output_type": "stream",
     "text": [
      "돈 돌려주고 커피 안 줌\n",
      "남은 커피는 1 입니다\n"
     ]
    },
    {
     "name": "stdin",
     "output_type": "stream",
     "text": [
      "입금해라:  300\n"
     ]
    },
    {
     "name": "stdout",
     "output_type": "stream",
     "text": [
      "돈 받았으니 커피\n",
      "매진\n"
     ]
    }
   ],
   "source": [
    "coffee=10\n",
    "\n",
    "while True:\n",
    "    money=int(input(\"입금해라: \"))  #int로 바꿔야 연산 가능\n",
    "\n",
    "    if money==300:\n",
    "        print('돈 받았으니 커피')\n",
    "        coffee-=1\n",
    "    elif money>=300:\n",
    "        print(\"거스름돈 %d 를 주고 커피 준다\"%(money-300))\n",
    "        coffee-=1\n",
    "    else:\n",
    "        print(\"돈 돌려주고 커피 안 줌\")\n",
    "        print(\"남은 커피는 %d 입니다\" %coffee)\n",
    "    if coffee ==0:\n",
    "        print(\"매진\")\n",
    "        break "
   ]
  },
  {
   "cell_type": "code",
   "execution_count": null,
   "id": "9cf53c42-19a7-4c80-9808-aabcd09229d5",
   "metadata": {},
   "outputs": [],
   "source": [
    "##거스름돈 money-300을 괄호로 묶어주기"
   ]
  },
  {
   "cell_type": "code",
   "execution_count": 16,
   "id": "14b0dd8c-0d46-4727-ac9a-cd0ed47644d4",
   "metadata": {},
   "outputs": [
    {
     "name": "stdout",
     "output_type": "stream",
     "text": [
      "1\n",
      "3\n",
      "5\n",
      "7\n",
      "9\n"
     ]
    }
   ],
   "source": [
    "##continue 문: 반복문 처음으로 돌아감\n",
    "\n",
    "a=0\n",
    "while a<10:\n",
    "    a+=1\n",
    "    if a%2==0:continue  #짝수 일떄 반복문 처음으로\n",
    "    print(a)"
   ]
  },
  {
   "cell_type": "markdown",
   "id": "ed69550d-f499-49b1-a03f-dc6e8bb62262",
   "metadata": {},
   "source": [
    "# for 문"
   ]
  },
  {
   "cell_type": "code",
   "execution_count": 2,
   "id": "ffc1982f-504a-411f-bbc4-4f909061d3aa",
   "metadata": {},
   "outputs": [
    {
     "name": "stdout",
     "output_type": "stream",
     "text": [
      "one\n",
      "two\n",
      "three\n"
     ]
    }
   ],
   "source": [
    "test_list=['one','two','three']\n",
    "\n",
    "for i in test_list:\n",
    "    print(i)"
   ]
  },
  {
   "cell_type": "code",
   "execution_count": 3,
   "id": "b489fab1-8d53-465d-bfd5-03120274fbe8",
   "metadata": {},
   "outputs": [],
   "source": [
    "# i,j,k 수학에서 x,y,z 같은 변수"
   ]
  },
  {
   "cell_type": "code",
   "execution_count": 4,
   "id": "9651d46f-3640-4012-abae-14f7807da193",
   "metadata": {},
   "outputs": [
    {
     "name": "stdout",
     "output_type": "stream",
     "text": [
      "(5, 6)\n"
     ]
    }
   ],
   "source": [
    "a=[(1,2),(3,4),(5,6)]\n",
    "print(a[2])"
   ]
  },
  {
   "cell_type": "code",
   "execution_count": 5,
   "id": "ba238cc3-5724-452e-93af-fdaa80d818d7",
   "metadata": {},
   "outputs": [
    {
     "name": "stdout",
     "output_type": "stream",
     "text": [
      "5\n"
     ]
    }
   ],
   "source": [
    "print(a[2][0])"
   ]
  },
  {
   "cell_type": "code",
   "execution_count": 6,
   "id": "174e1837-8758-48c3-845b-9a495d417332",
   "metadata": {},
   "outputs": [
    {
     "name": "stdout",
     "output_type": "stream",
     "text": [
      "3\n",
      "7\n",
      "11\n"
     ]
    }
   ],
   "source": [
    "for (first,last) in a:\n",
    "    print(first+last)"
   ]
  },
  {
   "cell_type": "code",
   "execution_count": 7,
   "id": "082469e9-7ebf-456b-9d6b-fac083bc018b",
   "metadata": {},
   "outputs": [
    {
     "name": "stdout",
     "output_type": "stream",
     "text": [
      "(1, 2)\n",
      "(3, 4)\n",
      "(5, 6)\n"
     ]
    }
   ],
   "source": [
    "for i in a:\n",
    "    print(i)"
   ]
  },
  {
   "cell_type": "code",
   "execution_count": 10,
   "id": "d391a5b1-cb2f-42d6-8faf-899f13fe3831",
   "metadata": {},
   "outputs": [
    {
     "name": "stdout",
     "output_type": "stream",
     "text": [
      "1 번 학생은 합격입니다.\n",
      "2 번 학생은 불합격입니다.\n",
      "3 번 학생은 합격입니다.\n",
      "4 번 학생은 불합격입니다.\n",
      "5 번 학생은 합격입니다.\n"
     ]
    }
   ],
   "source": [
    "#60점 넘으면 합격. 합불 결과 보이라\n",
    "\n",
    "#번호 2개 선언\n",
    "marks=[90, 25, 67, 45, 80] #학생들의 시험 점수\n",
    "\n",
    "number = 0 #학생에게 붙일 번호\n",
    "\n",
    "for mark in marks:\n",
    "    number+=1\n",
    "    if mark>=60:\n",
    "        print(\"%d 번 학생은 합격입니다.\"%number)\n",
    "    else:\n",
    "        print(\"%d 번 학생은 불합격입니다.\"%number)   #보통 리스트면 s붙이고, 하나씩 보는 변수는 안 붙임"
   ]
  },
  {
   "cell_type": "code",
   "execution_count": 18,
   "id": "952f657b-9caf-46db-862a-70587980f43a",
   "metadata": {},
   "outputs": [
    {
     "name": "stdout",
     "output_type": "stream",
     "text": [
      "1 번 학생은 합격입니다. 축하합니다.\n",
      "3 번 학생은 합격입니다. 축하합니다.\n",
      "5 번 학생은 합격입니다. 축하합니다.\n"
     ]
    }
   ],
   "source": [
    "marks=[90, 25, 67, 45, 80] #학생들의 시험 점수\n",
    "\n",
    "number = 0 #학생에게 붙일 번호\n",
    "\n",
    "for mark in marks:\n",
    "    number+=1\n",
    "    if mark<60:\n",
    "        continue\n",
    "    print(\"%d 번 학생은 합격입니다. 축하합니다.\"%number)"
   ]
  },
  {
   "cell_type": "code",
   "execution_count": 19,
   "id": "43ef5af8-24c1-4f92-91a9-511de9633ea3",
   "metadata": {},
   "outputs": [
    {
     "name": "stdout",
     "output_type": "stream",
     "text": [
      "1 번 학생은 합격입니다. 축하합니다.\n",
      "3 번 학생은 합격입니다. 축하합니다.\n",
      "5 번 학생은 합격입니다. 축하합니다.\n"
     ]
    }
   ],
   "source": [
    "marks=[90, 25, 67, 45, 80] #학생들의 시험 점수\n",
    "\n",
    "number = 0 #학생에게 붙일 번호\n",
    "\n",
    "for mark in marks:\n",
    "    number+=1\n",
    "    if mark>=60:\n",
    "        print(\"%d 번 학생은 합격입니다. 축하합니다.\"%number)"
   ]
  },
  {
   "cell_type": "markdown",
   "id": "0e82211c-d8d5-4173-b0d8-845ebdb9adcf",
   "metadata": {},
   "source": [
    "# for 문과 함께 자주 사용하는 range() 함수"
   ]
  },
  {
   "cell_type": "code",
   "execution_count": 21,
   "id": "faa6199e-bda5-47f6-b64c-fa3f65305c94",
   "metadata": {},
   "outputs": [
    {
     "name": "stdout",
     "output_type": "stream",
     "text": [
      "range(0, 10)\n",
      "<class 'range'>\n"
     ]
    }
   ],
   "source": [
    "a=range(10)\n",
    "print(a)\n",
    "print(type(a))"
   ]
  },
  {
   "cell_type": "code",
   "execution_count": 22,
   "id": "39d2bf22-3794-48f8-a317-54edf58b5bfc",
   "metadata": {},
   "outputs": [
    {
     "name": "stdout",
     "output_type": "stream",
     "text": [
      "[0, 1, 2, 3, 4, 5, 6, 7, 8, 9]\n",
      "<class 'list'>\n"
     ]
    }
   ],
   "source": [
    "a=list(a)\n",
    "print(a)\n",
    "print(type(a))"
   ]
  },
  {
   "cell_type": "code",
   "execution_count": 23,
   "id": "86886936-efc4-400c-b797-8c717b61709a",
   "metadata": {},
   "outputs": [],
   "source": [
    "#0번부터 10개 찍힘"
   ]
  },
  {
   "cell_type": "code",
   "execution_count": 25,
   "id": "041e6850-9836-4217-aaf6-5ecab0b97f05",
   "metadata": {},
   "outputs": [
    {
     "name": "stdout",
     "output_type": "stream",
     "text": [
      "[1, 2, 3, 4, 5, 6, 7, 8, 9, 10]\n"
     ]
    }
   ],
   "source": [
    "a=range(1,11)\n",
    "a=list(a)\n",
    "print(a)"
   ]
  },
  {
   "cell_type": "code",
   "execution_count": 26,
   "id": "36fd4094-54fe-4770-bad5-ad9cd3300eae",
   "metadata": {},
   "outputs": [
    {
     "name": "stdout",
     "output_type": "stream",
     "text": [
      "[15, 16, 17, 18, 19, 20]\n"
     ]
    }
   ],
   "source": [
    "a=range(15,21)\n",
    "a=list(a)\n",
    "print(a)"
   ]
  },
  {
   "cell_type": "code",
   "execution_count": 27,
   "id": "c5c0faf7-9a16-45f2-b854-2894284e554f",
   "metadata": {},
   "outputs": [
    {
     "data": {
      "text/plain": [
       "[15, 16, 17, 18, 19, 20]"
      ]
     },
     "execution_count": 27,
     "metadata": {},
     "output_type": "execute_result"
    }
   ],
   "source": [
    "a=list(range(15,21))\n",
    "a"
   ]
  },
  {
   "cell_type": "code",
   "execution_count": 30,
   "id": "fa0085e5-2f91-479a-a733-9cbe89d39d86",
   "metadata": {},
   "outputs": [
    {
     "name": "stdout",
     "output_type": "stream",
     "text": [
      "1\n",
      "3\n",
      "6\n",
      "10\n",
      "15\n",
      "21\n",
      "28\n",
      "36\n",
      "45\n",
      "55\n",
      "--------------------\n",
      "55\n"
     ]
    }
   ],
   "source": [
    "add=0\n",
    "\n",
    "for i in range(1,11):\n",
    "    add+=i\n",
    "    print(add)\n",
    "\n",
    "print(\"-\"*20)\n",
    "print(add)"
   ]
  },
  {
   "cell_type": "code",
   "execution_count": 31,
   "id": "de0f7042-2132-4e97-a6ec-ed26915a700c",
   "metadata": {},
   "outputs": [
    {
     "name": "stdout",
     "output_type": "stream",
     "text": [
      "55\n"
     ]
    }
   ],
   "source": [
    "add=0\n",
    "\n",
    "for i in range(1,11):\n",
    "    add+=i\n",
    "    \n",
    "print(add)"
   ]
  },
  {
   "cell_type": "code",
   "execution_count": 32,
   "id": "a0443fee-6498-4e14-aa24-2e93e8ed5e9b",
   "metadata": {},
   "outputs": [],
   "source": [
    "#결과만 보려면 이렇게"
   ]
  },
  {
   "cell_type": "code",
   "execution_count": 36,
   "id": "6e7a1b3e-8e20-4ccd-85f5-caf40d7b5e96",
   "metadata": {},
   "outputs": [
    {
     "name": "stdout",
     "output_type": "stream",
     "text": [
      "1 번 학생은 합격입니다. 축하합니다.\n",
      "3 번 학생은 합격입니다. 축하합니다.\n",
      "5 번 학생은 합격입니다. 축하합니다.\n"
     ]
    }
   ],
   "source": [
    "marks=[90, 25, 67, 45, 80] #학생들의 시험 점수\n",
    "\n",
    "for number in range(len(marks)):   #range(5):0~4\n",
    "    if marks[number]<60:\n",
    "        continue\n",
    "    print(\"%d 번 학생은 합격입니다. 축하합니다.\"%(number+1))"
   ]
  },
  {
   "cell_type": "code",
   "execution_count": 38,
   "id": "2e3baf12-be9e-4264-b68d-00b087fa4a8a",
   "metadata": {},
   "outputs": [
    {
     "name": "stdout",
     "output_type": "stream",
     "text": [
      "2단\n",
      "2*1=2\n",
      "2*2=4\n",
      "2*3=6\n",
      "2*4=8\n",
      "2*5=10\n",
      "2*6=12\n",
      "2*7=14\n",
      "2*8=16\n",
      "2*9=18\n",
      "--------------------\n",
      "3단\n",
      "3*1=3\n",
      "3*2=6\n",
      "3*3=9\n",
      "3*4=12\n",
      "3*5=15\n",
      "3*6=18\n",
      "3*7=21\n",
      "3*8=24\n",
      "3*9=27\n",
      "--------------------\n",
      "4단\n",
      "4*1=4\n",
      "4*2=8\n",
      "4*3=12\n",
      "4*4=16\n",
      "4*5=20\n",
      "4*6=24\n",
      "4*7=28\n",
      "4*8=32\n",
      "4*9=36\n",
      "--------------------\n",
      "5단\n",
      "5*1=5\n",
      "5*2=10\n",
      "5*3=15\n",
      "5*4=20\n",
      "5*5=25\n",
      "5*6=30\n",
      "5*7=35\n",
      "5*8=40\n",
      "5*9=45\n",
      "--------------------\n",
      "6단\n",
      "6*1=6\n",
      "6*2=12\n",
      "6*3=18\n",
      "6*4=24\n",
      "6*5=30\n",
      "6*6=36\n",
      "6*7=42\n",
      "6*8=48\n",
      "6*9=54\n",
      "--------------------\n",
      "7단\n",
      "7*1=7\n",
      "7*2=14\n",
      "7*3=21\n",
      "7*4=28\n",
      "7*5=35\n",
      "7*6=42\n",
      "7*7=49\n",
      "7*8=56\n",
      "7*9=63\n",
      "--------------------\n",
      "8단\n",
      "8*1=8\n",
      "8*2=16\n",
      "8*3=24\n",
      "8*4=32\n",
      "8*5=40\n",
      "8*6=48\n",
      "8*7=56\n",
      "8*8=64\n",
      "8*9=72\n",
      "--------------------\n",
      "9단\n",
      "9*1=9\n",
      "9*2=18\n",
      "9*3=27\n",
      "9*4=36\n",
      "9*5=45\n",
      "9*6=54\n",
      "9*7=63\n",
      "9*8=72\n",
      "9*9=81\n",
      "--------------------\n"
     ]
    }
   ],
   "source": [
    "#구구단\n",
    "\n",
    "for i in range(2,10):\n",
    "    print(\"%d단\"%i)\n",
    "    for j in range(1,10):\n",
    "        print(\"%d*%d=%d\"%(i,j,i*j))\n",
    "    print(\"-\"*20)"
   ]
  },
  {
   "cell_type": "markdown",
   "id": "172ac0d8-f35e-41ee-bb01-1361b5ecb146",
   "metadata": {},
   "source": [
    "# 리스트 컴프리헨션(comprehension)"
   ]
  },
  {
   "cell_type": "code",
   "execution_count": 39,
   "id": "05472786-5e3d-433c-a16d-b6e08bfcebd5",
   "metadata": {},
   "outputs": [
    {
     "name": "stdout",
     "output_type": "stream",
     "text": [
      "[3, 6, 9, 12]\n"
     ]
    }
   ],
   "source": [
    "a=[1,2,3,4]\n",
    "result=[]\n",
    "\n",
    "for num in a:\n",
    "    result.append(num*3)\n",
    "print(result)"
   ]
  },
  {
   "cell_type": "code",
   "execution_count": 44,
   "id": "a6aa6e9b-a5de-4172-9ee2-dc7bc2eb3ee0",
   "metadata": {},
   "outputs": [],
   "source": [
    "#이걸 한 줄로 줄인 것이 리스트 컴프리헨션 파이썬에만 있음"
   ]
  },
  {
   "cell_type": "code",
   "execution_count": 41,
   "id": "6f49e353-bb5d-4ade-a597-504e504b7d63",
   "metadata": {},
   "outputs": [
    {
     "name": "stdout",
     "output_type": "stream",
     "text": [
      "[3, 6, 9, 12]\n"
     ]
    }
   ],
   "source": [
    "a=[1,2,3,4]\n",
    "result=[num*3 for num in a]\n",
    "print(result)"
   ]
  },
  {
   "cell_type": "code",
   "execution_count": 42,
   "id": "8843b97e-238e-49bb-b653-42dc281591b3",
   "metadata": {},
   "outputs": [
    {
     "name": "stdout",
     "output_type": "stream",
     "text": [
      "[6, 12]\n"
     ]
    }
   ],
   "source": [
    "a=[1,2,3,4]\n",
    "result=[num*3 for num in a if num%2==0]\n",
    "print(result)"
   ]
  },
  {
   "cell_type": "code",
   "execution_count": 43,
   "id": "fa96e7b6-e29c-4276-8eed-25b2559d8c49",
   "metadata": {},
   "outputs": [
    {
     "name": "stdout",
     "output_type": "stream",
     "text": [
      "[3, 9]\n"
     ]
    }
   ],
   "source": [
    "a=[1,2,3,4]\n",
    "result=[num*3 for num in a if num%2==1]\n",
    "print(result)"
   ]
  },
  {
   "cell_type": "code",
   "execution_count": 46,
   "id": "48c85aeb-c12a-4102-82cf-42688e234e63",
   "metadata": {},
   "outputs": [
    {
     "name": "stdout",
     "output_type": "stream",
     "text": [
      "[2, 4, 6, 8, 10, 12, 14, 16, 18, 3, 6, 9, 12, 15, 18, 21, 24, 27, 4, 8, 12, 16, 20, 24, 28, 32, 36, 5, 10, 15, 20, 25, 30, 35, 40, 45, 6, 12, 18, 24, 30, 36, 42, 48, 54, 7, 14, 21, 28, 35, 42, 49, 56, 63, 8, 16, 24, 32, 40, 48, 56, 64, 72, 9, 18, 27, 36, 45, 54, 63, 72, 81]\n"
     ]
    }
   ],
   "source": [
    "result=[x*y for x in range(2,10) for y in range(1,10)]\n",
    "print(result)"
   ]
  },
  {
   "cell_type": "markdown",
   "id": "bb39da5b-413f-4e36-bd42-f0c2c4474296",
   "metadata": {},
   "source": [
    "## list comprehension"
   ]
  },
  {
   "cell_type": "markdown",
   "id": "4678f7b1-38c3-4753-97dd-56bd2145763b",
   "metadata": {},
   "source": [
    "### 1)기본구조: [표현식+for문]"
   ]
  },
  {
   "cell_type": "code",
   "execution_count": 47,
   "id": "36128c86-28a3-4edd-af00-d08fcafede74",
   "metadata": {},
   "outputs": [
    {
     "name": "stdout",
     "output_type": "stream",
     "text": [
      "[0, 0, 0, 0, 0]\n"
     ]
    }
   ],
   "source": [
    "#표현식에 변수 또는 상수를 쓰는 경우\n",
    "\n",
    "n=5\n",
    "result=[0 for i in range(n)]\n",
    "print(result)"
   ]
  },
  {
   "cell_type": "code",
   "execution_count": 48,
   "id": "465cf8a7-bb35-49b4-b5d9-f685324710fb",
   "metadata": {},
   "outputs": [
    {
     "name": "stdout",
     "output_type": "stream",
     "text": [
      "[0, 1, 2, 3, 4]\n"
     ]
    }
   ],
   "source": [
    "result=[i for i in range(n)]\n",
    "print(result)"
   ]
  },
  {
   "cell_type": "code",
   "execution_count": 50,
   "id": "4de09ce2-a9d0-4a6f-9205-865994f7906a",
   "metadata": {},
   "outputs": [
    {
     "name": "stdout",
     "output_type": "stream",
     "text": [
      "[0, 1, 2, 3, 4, 5, 6, 7, 8, 9]\n"
     ]
    }
   ],
   "source": [
    "array=list(range(10)) #[0,1,2,3,4,5,6,7,8,9]\n",
    "result=[n for n in array]\n",
    "print(result)"
   ]
  },
  {
   "cell_type": "code",
   "execution_count": 51,
   "id": "97f42fc0-1920-4926-ac78-dc2f22b0943e",
   "metadata": {},
   "outputs": [
    {
     "name": "stdout",
     "output_type": "stream",
     "text": [
      "[0, 1, 4, 9, 16, 25, 36, 49, 64, 81]\n"
     ]
    }
   ],
   "source": [
    "#표현식에 연산식이나 함수를 쓰는 경우\n",
    "result=[n*n for n in array]\n",
    "print(result)"
   ]
  },
  {
   "cell_type": "code",
   "execution_count": 52,
   "id": "1c3cceda-5b8b-4fdf-9db4-36912349661a",
   "metadata": {},
   "outputs": [
    {
     "name": "stdout",
     "output_type": "stream",
     "text": [
      "[4, 13, 6]\n"
     ]
    }
   ],
   "source": [
    "str_array=[\"list\",\"comprehension\",\"python\"]\n",
    "result=[len(string) for string in str_array]\n",
    "print(result)"
   ]
  },
  {
   "cell_type": "code",
   "execution_count": 53,
   "id": "a775b060-340b-4932-94d3-dca2c4a02e1a",
   "metadata": {},
   "outputs": [
    {
     "name": "stdout",
     "output_type": "stream",
     "text": [
      "[0, 1, 2, 3, 4, 0, 1, 2, 3, 4]\n"
     ]
    }
   ],
   "source": [
    "def mod_5(number):\n",
    "    return number%5\n",
    "\n",
    "result=[mod_5(n) for n in array]\n",
    "print(result)"
   ]
  },
  {
   "cell_type": "code",
   "execution_count": 54,
   "id": "fe801f56-73a5-4fce-9b54-2d68dba6aaa6",
   "metadata": {},
   "outputs": [],
   "source": [
    "#5로 나눈 나머지를 저장하는 리스트-함수 사용"
   ]
  },
  {
   "cell_type": "markdown",
   "id": "61c5b092-6631-44a5-b40a-ce59fe7f538b",
   "metadata": {},
   "source": [
    "### 2)[표현식+for문+조건문]"
   ]
  },
  {
   "cell_type": "code",
   "execution_count": 55,
   "id": "bee5438e-a7ca-4a98-97e4-a95ac8b6c0e6",
   "metadata": {},
   "outputs": [
    {
     "name": "stdout",
     "output_type": "stream",
     "text": [
      "[0, 2, 4, 6, 8]\n"
     ]
    }
   ],
   "source": [
    "#if 문 한 번 사용한 경우\n",
    "result=[n for n in range(10) if n%2==0]\n",
    "print(result)"
   ]
  },
  {
   "cell_type": "code",
   "execution_count": 57,
   "id": "dd81ea52-efcd-46eb-8755-587d97edb612",
   "metadata": {},
   "outputs": [
    {
     "name": "stdout",
     "output_type": "stream",
     "text": [
      "[1, 3, 5, 7, 9]\n"
     ]
    }
   ],
   "source": [
    "result=[n for n in range(10) if n%2!=0]\n",
    "print(result)"
   ]
  },
  {
   "cell_type": "code",
   "execution_count": 58,
   "id": "86f4ae10-79ce-41a2-9a8d-e791f29918bd",
   "metadata": {},
   "outputs": [
    {
     "name": "stdout",
     "output_type": "stream",
     "text": [
      "[24, 5, 2]\n"
     ]
    }
   ],
   "source": [
    "array=[-1,0,-4,24,5,-10,2]\n",
    "result=[n for n in array if n>0]\n",
    "print(result)"
   ]
  },
  {
   "cell_type": "code",
   "execution_count": 59,
   "id": "4f50c34b-3b5f-46e0-9f0b-48c1cda81fab",
   "metadata": {},
   "outputs": [
    {
     "name": "stdout",
     "output_type": "stream",
     "text": [
      "[3, 9, 15, 21, 27, 33, 39, 45]\n"
     ]
    }
   ],
   "source": [
    "#if 문 여러번 사용한 경우\n",
    "result=[n for n in range(50) if n%3==0 if n%2!=0]\n",
    "print(result)"
   ]
  },
  {
   "cell_type": "code",
   "execution_count": 60,
   "id": "706972d1-ba3b-4b3d-9962-60a0339b3f82",
   "metadata": {},
   "outputs": [
    {
     "name": "stdout",
     "output_type": "stream",
     "text": [
      "[3, 9, 15, 21, 27, 33, 39, 45]\n"
     ]
    }
   ],
   "source": [
    "result=[n for n in range(50) if n%3==0 and n%2!=0]\n",
    "print(result)"
   ]
  },
  {
   "cell_type": "code",
   "execution_count": 61,
   "id": "2b3a372f-b515-4d86-8aa7-46594789cc4c",
   "metadata": {},
   "outputs": [],
   "source": [
    "#and 써도 됨"
   ]
  },
  {
   "cell_type": "markdown",
   "id": "3f0a1e86-412f-452e-b891-974ae29ff2a0",
   "metadata": {},
   "source": [
    "# 표현식+조건문+for문"
   ]
  },
  {
   "cell_type": "code",
   "execution_count": 62,
   "id": "c3b8d92a-b62c-43f7-bd0c-34efd2b64521",
   "metadata": {},
   "outputs": [
    {
     "name": "stdout",
     "output_type": "stream",
     "text": [
      "[0, 0, 0, 24, 5, 0, 2]\n"
     ]
    }
   ],
   "source": [
    "array=[-1,0,-4,24,5,-10,2]\n",
    "result=[n if n>0 else 0 for n in array]\n",
    "print(result)"
   ]
  },
  {
   "cell_type": "code",
   "execution_count": 63,
   "id": "e9a9f523-fb68-487f-ac54-f6675f9e15f2",
   "metadata": {},
   "outputs": [
    {
     "name": "stdout",
     "output_type": "stream",
     "text": [
      "['even', 'odd', 'even', 'odd']\n"
     ]
    }
   ],
   "source": [
    "array=[0,1,2,3]\n",
    "result=['even' if n%2==0 else 'odd' for n in array]\n",
    "print(result)"
   ]
  },
  {
   "cell_type": "markdown",
   "id": "9c01ce18-b95e-42bd-99b7-d0d5b6b3555a",
   "metadata": {},
   "source": [
    "## 중첩 for 문"
   ]
  },
  {
   "cell_type": "code",
   "execution_count": 65,
   "id": "5ee1baa1-aeca-4ee3-97c8-adb1263f1fe6",
   "metadata": {},
   "outputs": [
    {
     "name": "stdout",
     "output_type": "stream",
     "text": [
      "[1, 2, 2, 4, 3, 6]\n",
      "[1, 2, 2, 4, 3, 6]\n"
     ]
    }
   ],
   "source": [
    "#중첩 for문\n",
    "pos=[]\n",
    "for i in range(1,4):\n",
    "    for j in range(1,3):\n",
    "        pos.append(i*j)\n",
    "print(pos)\n",
    "\n",
    "#리스트 컴프리헨션으로\n",
    "pos=[i*j for i in range(1,4) for j in range(1,3)]\n",
    "print(pos)"
   ]
  },
  {
   "cell_type": "markdown",
   "id": "3a385d1a-24ea-4a93-aa08-d309a9cfc9e7",
   "metadata": {},
   "source": [
    "# 중첩 list comprehension"
   ]
  },
  {
   "cell_type": "code",
   "execution_count": 68,
   "id": "6e5b5164-6683-4d7b-b20a-9d40c73a73ce",
   "metadata": {},
   "outputs": [
    {
     "name": "stdout",
     "output_type": "stream",
     "text": [
      "[[0, 0], [0, 0], [0, 0]]\n"
     ]
    }
   ],
   "source": [
    "#2차원 배열 만들기\n",
    "result=[[0 for i in range(2)] for j in range(3)]\n",
    "print(result)"
   ]
  },
  {
   "cell_type": "code",
   "execution_count": null,
   "id": "1473223d-19a0-4134-90aa-bb7e0c92f168",
   "metadata": {},
   "outputs": [],
   "source": []
  },
  {
   "cell_type": "code",
   "execution_count": null,
   "id": "f2ae6dfa-ce7b-4e10-9570-15a28325141a",
   "metadata": {},
   "outputs": [],
   "source": []
  },
  {
   "cell_type": "code",
   "execution_count": null,
   "id": "02f44bc5-7b2e-49d0-9d6e-d19228eac9ad",
   "metadata": {},
   "outputs": [],
   "source": []
  },
  {
   "cell_type": "code",
   "execution_count": null,
   "id": "e0501538-b0d5-4345-a1a5-c5164ef9b092",
   "metadata": {},
   "outputs": [],
   "source": []
  },
  {
   "cell_type": "code",
   "execution_count": null,
   "id": "2c0ecc56-ffdc-4d04-ac86-fb7f94996d47",
   "metadata": {},
   "outputs": [],
   "source": []
  },
  {
   "cell_type": "code",
   "execution_count": null,
   "id": "0c5bc50c-df69-4ef9-92c2-81a1692444ab",
   "metadata": {},
   "outputs": [],
   "source": []
  },
  {
   "cell_type": "code",
   "execution_count": null,
   "id": "eac779c5-8d48-4e0f-9587-1405084e3e4c",
   "metadata": {},
   "outputs": [],
   "source": []
  },
  {
   "cell_type": "code",
   "execution_count": null,
   "id": "4899c1fe-7ab1-4d84-9860-a0532942b555",
   "metadata": {},
   "outputs": [],
   "source": []
  },
  {
   "cell_type": "code",
   "execution_count": null,
   "id": "807bec27-f289-4889-a5c1-284fce1807c1",
   "metadata": {},
   "outputs": [],
   "source": []
  },
  {
   "cell_type": "code",
   "execution_count": null,
   "id": "be43b1ec-b7e2-4591-826f-75b7dfe9fea0",
   "metadata": {},
   "outputs": [],
   "source": []
  },
  {
   "cell_type": "code",
   "execution_count": null,
   "id": "4a61f204-6e49-4111-86ef-16cfc9462dcc",
   "metadata": {},
   "outputs": [],
   "source": []
  },
  {
   "cell_type": "code",
   "execution_count": null,
   "id": "ffe12f11-9055-4bc3-9d51-172a83f92d3c",
   "metadata": {},
   "outputs": [],
   "source": []
  }
 ],
 "metadata": {
  "kernelspec": {
   "display_name": "Python [conda env:base] *",
   "language": "python",
   "name": "conda-base-py"
  },
  "language_info": {
   "codemirror_mode": {
    "name": "ipython",
    "version": 3
   },
   "file_extension": ".py",
   "mimetype": "text/x-python",
   "name": "python",
   "nbconvert_exporter": "python",
   "pygments_lexer": "ipython3",
   "version": "3.13.5"
  }
 },
 "nbformat": 4,
 "nbformat_minor": 5
}
