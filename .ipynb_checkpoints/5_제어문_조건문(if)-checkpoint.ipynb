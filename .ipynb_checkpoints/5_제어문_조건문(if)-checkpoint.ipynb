{
 "cells": [
  {
   "cell_type": "markdown",
   "id": "b758b74b-595d-4ef4-bafa-9bf963a22ca6",
   "metadata": {},
   "source": [
    "# if 문 기본 구조"
   ]
  },
  {
   "cell_type": "code",
   "execution_count": 5,
   "id": "5a6e9dc4-94b6-45b6-99c2-d634772480df",
   "metadata": {},
   "outputs": [
    {
     "ename": "IndentationError",
     "evalue": "unexpected indent (2203290924.py, line 5)",
     "output_type": "error",
     "traceback": [
      "\u001b[1;36m  Cell \u001b[1;32mIn[5], line 5\u001b[1;36m\u001b[0m\n\u001b[1;33m    print(\"가라\")\u001b[0m\n\u001b[1;37m    ^\u001b[0m\n\u001b[1;31mIndentationError\u001b[0m\u001b[1;31m:\u001b[0m unexpected indent\n"
     ]
    }
   ],
   "source": [
    "money=True\n",
    "if money:\n",
    "    print(\"택시를\")\n",
    "print(\"타고\")\n",
    "    print(\"가라\")"
   ]
  },
  {
   "cell_type": "code",
   "execution_count": 7,
   "id": "c4773eef-c173-478f-813c-2b0267c3636e",
   "metadata": {},
   "outputs": [
    {
     "name": "stdout",
     "output_type": "stream",
     "text": [
      "타고\n"
     ]
    }
   ],
   "source": [
    "money=False\n",
    "if money:\n",
    "    print(\"택시를\")\n",
    "print(\"타고\")"
   ]
  },
  {
   "cell_type": "code",
   "execution_count": 13,
   "id": "f1258fdc-dc05-496e-bae2-fd534ffdf29d",
   "metadata": {},
   "outputs": [],
   "source": [
    "# false면 if문 조건에 안 맞아서 동작 안 함. 나머지인 타고 출력"
   ]
  },
  {
   "cell_type": "code",
   "execution_count": 9,
   "id": "e6eebba7-2e84-483a-8e39-4d0fd625eec3",
   "metadata": {},
   "outputs": [
    {
     "name": "stdout",
     "output_type": "stream",
     "text": [
      "택시를\n",
      "타고\n",
      "가라\n"
     ]
    }
   ],
   "source": [
    "money=True\n",
    "if money:\n",
    "    print(\"택시를\")\n",
    "    print(\"타고\")\n",
    "    print(\"가라\")"
   ]
  },
  {
   "cell_type": "code",
   "execution_count": 10,
   "id": "8730400a-81ce-4059-9be4-479150efe6d8",
   "metadata": {},
   "outputs": [],
   "source": [
    "# 들여쓰기 중요"
   ]
  },
  {
   "cell_type": "code",
   "execution_count": 14,
   "id": "113a20ce-3c53-4e9e-858e-37037f8ed04a",
   "metadata": {},
   "outputs": [
    {
     "name": "stdout",
     "output_type": "stream",
     "text": [
      "True\n",
      "False\n",
      "False\n",
      "True\n"
     ]
    }
   ],
   "source": [
    "# 비교 연산자\n",
    "x=3\n",
    "y=2\n",
    "print(x>y) #true\n",
    "print(x<y) #false\n",
    "print(x==y) #false\n",
    "print(x!=y) #true"
   ]
  },
  {
   "cell_type": "code",
   "execution_count": 17,
   "id": "b66ddd4e-4c3a-464b-9150-0eb12d519ac7",
   "metadata": {},
   "outputs": [
    {
     "name": "stdout",
     "output_type": "stream",
     "text": [
      "걸어\n"
     ]
    }
   ],
   "source": [
    "money=2000\n",
    "\n",
    "if money>=3000:\n",
    "    print(\"택시\")\n",
    "else:\n",
    "    print(\"걸어\")"
   ]
  },
  {
   "cell_type": "code",
   "execution_count": 16,
   "id": "877778a6-386d-4a60-81e0-2fd96950d021",
   "metadata": {},
   "outputs": [
    {
     "name": "stdout",
     "output_type": "stream",
     "text": [
      "택시\n"
     ]
    }
   ],
   "source": [
    "#논리 연산자\n",
    "#조건식 x, y => and 둘다 true일 때 true\n",
    "#              or  하나만 true 여도 ture\n",
    "#             not true->false, false->true\n",
    "\n",
    "money=2000\n",
    "card=True\n",
    "\n",
    "if money>=3000 or card:\n",
    "    print(\"택시\")\n",
    "else:\n",
    "    print(\"걸어\")"
   ]
  },
  {
   "cell_type": "code",
   "execution_count": 18,
   "id": "0aef656a-448a-4295-9147-6fae41f2a40c",
   "metadata": {},
   "outputs": [
    {
     "name": "stdout",
     "output_type": "stream",
     "text": [
      "걸어\n"
     ]
    }
   ],
   "source": [
    "money=2000\n",
    "card=False\n",
    "\n",
    "if money>=3000 or card:\n",
    "    print(\"택시\")\n",
    "else:\n",
    "    print(\"걸어\")"
   ]
  },
  {
   "cell_type": "code",
   "execution_count": 19,
   "id": "989ae9be-1ccd-4465-bc72-0800617f46d7",
   "metadata": {},
   "outputs": [
    {
     "data": {
      "text/plain": [
       "True"
      ]
     },
     "execution_count": 19,
     "metadata": {},
     "output_type": "execute_result"
    }
   ],
   "source": [
    "#in, not in\n",
    "\n",
    "1 in [1,2,3]"
   ]
  },
  {
   "cell_type": "code",
   "execution_count": 20,
   "id": "06f15013-4329-4630-af73-5bfcc0df1455",
   "metadata": {},
   "outputs": [
    {
     "data": {
      "text/plain": [
       "False"
      ]
     },
     "execution_count": 20,
     "metadata": {},
     "output_type": "execute_result"
    }
   ],
   "source": [
    "1 not in [1,2,3]"
   ]
  },
  {
   "cell_type": "code",
   "execution_count": 22,
   "id": "22116540-9523-4d5a-a393-549d2d9bd64f",
   "metadata": {},
   "outputs": [
    {
     "data": {
      "text/plain": [
       "True"
      ]
     },
     "execution_count": 22,
     "metadata": {},
     "output_type": "execute_result"
    }
   ],
   "source": [
    "'a' in ('a','b') #튜플에도 적용"
   ]
  },
  {
   "cell_type": "code",
   "execution_count": 23,
   "id": "3debdd7d-98c8-4d24-8719-dd49d29725b6",
   "metadata": {},
   "outputs": [
    {
     "data": {
      "text/plain": [
       "True"
      ]
     },
     "execution_count": 23,
     "metadata": {},
     "output_type": "execute_result"
    }
   ],
   "source": [
    "'d' not in ('a',\"b\",'c')"
   ]
  },
  {
   "cell_type": "code",
   "execution_count": 25,
   "id": "642dca3c-a006-4694-9cf0-e76c8e606f72",
   "metadata": {},
   "outputs": [
    {
     "name": "stdout",
     "output_type": "stream",
     "text": [
      "걸어\n"
     ]
    }
   ],
   "source": [
    "pocket=['paper', 'cell phone', 'money']\n",
    "\n",
    "if money in pocket:\n",
    "    print(\"택시\")\n",
    "else:\n",
    "    print(\"걸어\")"
   ]
  },
  {
   "cell_type": "code",
   "execution_count": 26,
   "id": "7c7e6166-1a84-439b-a938-62a93196ad85",
   "metadata": {},
   "outputs": [
    {
     "name": "stdout",
     "output_type": "stream",
     "text": [
      "카드 꺼내라\n"
     ]
    }
   ],
   "source": [
    "# pass : 실행문 실행하지 않고 넘어가기\n",
    "pocket=['paper', 'cell phone', 'money']\n",
    "\n",
    "if money in pocket:\n",
    "    pass\n",
    "else:\n",
    "    print(\"카드 꺼내라\")"
   ]
  },
  {
   "cell_type": "code",
   "execution_count": 29,
   "id": "2149b321-b157-4a12-821b-1245cc310615",
   "metadata": {},
   "outputs": [
    {
     "name": "stdout",
     "output_type": "stream",
     "text": [
      "걸어\n"
     ]
    }
   ],
   "source": [
    "pocket=['paper', 'cell phone','money']\n",
    "\n",
    "if money in pocket:\n",
    "    pass\n",
    "else:\n",
    "    print(\"걸어\")"
   ]
  },
  {
   "cell_type": "markdown",
   "id": "bd99da74-08d4-447b-845c-577fa5329751",
   "metadata": {},
   "source": [
    "# 다양한 조건을 판단하는 elif"
   ]
  },
  {
   "cell_type": "code",
   "execution_count": 33,
   "id": "ad6b6436-1963-4dab-bb4f-cd2059926c11",
   "metadata": {},
   "outputs": [
    {
     "name": "stdout",
     "output_type": "stream",
     "text": [
      "택시\n"
     ]
    }
   ],
   "source": [
    "# if, else만으로 표현\n",
    "pocket=['paper', 'cellphone']\n",
    "card=True\n",
    "\n",
    "if 'money' in pocket:\n",
    "    print(\"택시\")\n",
    "else:\n",
    "    if card:\n",
    "        print(\"택시\")\n",
    "    else:\n",
    "        print(\"걸어\")"
   ]
  },
  {
   "cell_type": "code",
   "execution_count": 36,
   "id": "d7ab33cb-851b-436a-9155-6b1652518bb0",
   "metadata": {},
   "outputs": [
    {
     "name": "stdout",
     "output_type": "stream",
     "text": [
      "카드로 택시타\n"
     ]
    }
   ],
   "source": [
    "# elif 사용\n",
    "pocket=['paper', 'cellphone']\n",
    "card=True\n",
    "\n",
    "if 'money' in pocket:\n",
    "    print(\"택시\")\n",
    "elif card:\n",
    "    print(\"카드로 택시타\")\n",
    "else:\n",
    "    print(\"걸어\")"
   ]
  },
  {
   "cell_type": "code",
   "execution_count": 37,
   "id": "7db86237-dd37-43f9-a29f-3b28b86d136e",
   "metadata": {},
   "outputs": [
    {
     "name": "stdout",
     "output_type": "stream",
     "text": [
      "D\n"
     ]
    }
   ],
   "source": [
    "math=60\n",
    "\n",
    "if math>=90:\n",
    "    print('A')\n",
    "elif math>=80:\n",
    "    print('B')\n",
    "elif math>=70:\n",
    "    print('C')\n",
    "elif math>=60:\n",
    "    print('D')\n",
    "else:\n",
    "    print('F')"
   ]
  },
  {
   "cell_type": "code",
   "execution_count": 40,
   "id": "e5f58748-1894-4e6f-b725-fe30aa9e8607",
   "metadata": {},
   "outputs": [],
   "source": [
    "# if 문 한 줄로 작성하기\n",
    "\n",
    "pocket=['paper', 'cell phone','money']\n",
    "\n",
    "if 'money' in pocket: pass\n",
    "else: print(\"카드 꺼내\")"
   ]
  },
  {
   "cell_type": "markdown",
   "id": "3ef0d508-10cd-4ef5-b433-29d4b1f02580",
   "metadata": {},
   "source": [
    "# 조건부 표현식"
   ]
  },
  {
   "cell_type": "code",
   "execution_count": 43,
   "id": "7dc72d08-9026-4f55-a356-ec01206cde36",
   "metadata": {},
   "outputs": [
    {
     "name": "stdout",
     "output_type": "stream",
     "text": [
      "success\n"
     ]
    }
   ],
   "source": [
    "# if / else문\n",
    "score=90\n",
    "if score>=60:\n",
    "    message='success'\n",
    "else:\n",
    "    message='failure'\n",
    "\n",
    "print(message)"
   ]
  },
  {
   "cell_type": "code",
   "execution_count": 46,
   "id": "d6b0bdf3-529e-4e87-a7e5-9b4adfaabe3e",
   "metadata": {},
   "outputs": [
    {
     "name": "stdout",
     "output_type": "stream",
     "text": [
      "success\n"
     ]
    }
   ],
   "source": [
    "#조건부 표현식\n",
    "message='success' if score>=60 else 'failure'\n",
    "\n",
    "print(message)"
   ]
  },
  {
   "cell_type": "code",
   "execution_count": null,
   "id": "218b8153-6365-45f1-9ca6-bc5ae7ccfdca",
   "metadata": {},
   "outputs": [],
   "source": []
  }
 ],
 "metadata": {
  "kernelspec": {
   "display_name": "Python [conda env:base] *",
   "language": "python",
   "name": "conda-base-py"
  },
  "language_info": {
   "codemirror_mode": {
    "name": "ipython",
    "version": 3
   },
   "file_extension": ".py",
   "mimetype": "text/x-python",
   "name": "python",
   "nbconvert_exporter": "python",
   "pygments_lexer": "ipython3",
   "version": "3.13.5"
  }
 },
 "nbformat": 4,
 "nbformat_minor": 5
}
