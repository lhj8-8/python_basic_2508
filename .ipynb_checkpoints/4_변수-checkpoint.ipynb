{
 "cells": [
  {
   "cell_type": "markdown",
   "id": "0f80c222-e821-4453-9690-2deda7059601",
   "metadata": {},
   "source": [
    "# 변수란?"
   ]
  },
  {
   "cell_type": "code",
   "execution_count": 2,
   "id": "acbd6d30-0a75-4aa3-8b27-3f79bd3e676a",
   "metadata": {},
   "outputs": [
    {
     "data": {
      "text/plain": [
       "1703608827264"
      ]
     },
     "execution_count": 2,
     "metadata": {},
     "output_type": "execute_result"
    }
   ],
   "source": [
    "a=[1,2,3]\n",
    "id(a)"
   ]
  },
  {
   "cell_type": "markdown",
   "id": "79f74aa2-3e9e-4d70-b88c-87defbc4b1a4",
   "metadata": {},
   "source": [
    "b=a\n",
    "b"
   ]
  },
  {
   "cell_type": "code",
   "execution_count": 4,
   "id": "5e3ac535-3058-4b85-8127-ae3249589459",
   "metadata": {},
   "outputs": [
    {
     "name": "stdout",
     "output_type": "stream",
     "text": [
      "1703608827264\n",
      "1703608827264\n"
     ]
    }
   ],
   "source": [
    "print(id(a))\n",
    "print(id(b))"
   ]
  },
  {
   "cell_type": "code",
   "execution_count": 5,
   "id": "910beb9e-a301-402a-a561-2e1e2eb00a00",
   "metadata": {},
   "outputs": [
    {
     "data": {
      "text/plain": [
       "[1, 4, 3]"
      ]
     },
     "execution_count": 5,
     "metadata": {},
     "output_type": "execute_result"
    }
   ],
   "source": [
    "a[1]=4\n",
    "a"
   ]
  },
  {
   "cell_type": "code",
   "execution_count": 6,
   "id": "2bfdd3a5-2e31-45dd-af1a-354b20db7f06",
   "metadata": {},
   "outputs": [
    {
     "data": {
      "text/plain": [
       "[1, 4, 3]"
      ]
     },
     "execution_count": 6,
     "metadata": {},
     "output_type": "execute_result"
    }
   ],
   "source": [
    "b"
   ]
  },
  {
   "cell_type": "code",
   "execution_count": 7,
   "id": "7130c654-1a5e-48f0-aa19-0642cddb4c39",
   "metadata": {},
   "outputs": [],
   "source": [
    "##복사한 데이터도 원본이 바뀌면 바뀜"
   ]
  },
  {
   "cell_type": "code",
   "execution_count": 8,
   "id": "3932dc26-93c6-490c-8a56-b1bcd1aee5da",
   "metadata": {},
   "outputs": [
    {
     "data": {
      "text/plain": [
       "True"
      ]
     },
     "execution_count": 8,
     "metadata": {},
     "output_type": "execute_result"
    }
   ],
   "source": [
    "a is b"
   ]
  },
  {
   "cell_type": "markdown",
   "id": "9f07d41f-e3b0-4d40-8292-2d887cf1438d",
   "metadata": {},
   "source": [
    "### b 변수 생성할 때 a 변수의 값을 가져오면 a와는 다른 주소를 가리키도록 하려면"
   ]
  },
  {
   "cell_type": "code",
   "execution_count": 10,
   "id": "da7563b6-d4c3-4663-8414-1237f2d56e15",
   "metadata": {},
   "outputs": [
    {
     "data": {
      "text/plain": [
       "[1, 2, 3]"
      ]
     },
     "execution_count": 10,
     "metadata": {},
     "output_type": "execute_result"
    }
   ],
   "source": [
    "## [:] 이용하기\n",
    "a=[1,2,3]\n",
    "b=a[:]\n",
    "b"
   ]
  },
  {
   "cell_type": "code",
   "execution_count": 11,
   "id": "aca6dd01-023c-4bbe-b167-e6310201bd14",
   "metadata": {},
   "outputs": [
    {
     "data": {
      "text/plain": [
       "[1, 4, 3]"
      ]
     },
     "execution_count": 11,
     "metadata": {},
     "output_type": "execute_result"
    }
   ],
   "source": [
    "a[1]=4\n",
    "a"
   ]
  },
  {
   "cell_type": "code",
   "execution_count": 12,
   "id": "647ad944-753f-4f16-a533-72acce8ac954",
   "metadata": {},
   "outputs": [
    {
     "data": {
      "text/plain": [
       "[1, 2, 3]"
      ]
     },
     "execution_count": 12,
     "metadata": {},
     "output_type": "execute_result"
    }
   ],
   "source": [
    "b"
   ]
  },
  {
   "cell_type": "code",
   "execution_count": 13,
   "id": "736fd2db-09b7-4024-9eb4-083fbd70058c",
   "metadata": {},
   "outputs": [
    {
     "name": "stdout",
     "output_type": "stream",
     "text": [
      "1703646786880\n",
      "1703608950848\n"
     ]
    }
   ],
   "source": [
    "print(id(a))\n",
    "print(id(b))"
   ]
  },
  {
   "cell_type": "code",
   "execution_count": 15,
   "id": "4e0619f9-7a1f-4426-95d0-fbc848d3c242",
   "metadata": {},
   "outputs": [
    {
     "data": {
      "text/plain": [
       "[1, 2, 3]"
      ]
     },
     "execution_count": 15,
     "metadata": {},
     "output_type": "execute_result"
    }
   ],
   "source": [
    "## copy 모듈 \n",
    "from copy import copy\n",
    "a=[1,2,3]\n",
    "b=copy(a)\n",
    "b"
   ]
  },
  {
   "cell_type": "code",
   "execution_count": 16,
   "id": "0369a806-6861-4270-a104-5c4d33f86cdf",
   "metadata": {},
   "outputs": [
    {
     "data": {
      "text/plain": [
       "False"
      ]
     },
     "execution_count": 16,
     "metadata": {},
     "output_type": "execute_result"
    }
   ],
   "source": [
    "b is a"
   ]
  },
  {
   "cell_type": "code",
   "execution_count": 17,
   "id": "fb1f804f-9d85-4792-aac5-abbd9a24d2a8",
   "metadata": {},
   "outputs": [
    {
     "name": "stdout",
     "output_type": "stream",
     "text": [
      "[1, 2, 5]\n",
      "[1, 2, 3]\n",
      "1703660969856\n",
      "1703660929792\n"
     ]
    }
   ],
   "source": [
    "a[2]=5\n",
    "print(a)\n",
    "print(b)\n",
    "print(id(a))\n",
    "print(id(b))"
   ]
  },
  {
   "cell_type": "code",
   "execution_count": 19,
   "id": "9c83cf78-343b-4507-9c65-043c426664a8",
   "metadata": {},
   "outputs": [
    {
     "data": {
      "text/plain": [
       "False"
      ]
     },
     "execution_count": 19,
     "metadata": {},
     "output_type": "execute_result"
    }
   ],
   "source": [
    "## copy 함수\n",
    "a=[1,2,3]\n",
    "b=a.copy()\n",
    "b is a"
   ]
  },
  {
   "cell_type": "markdown",
   "id": "909e9a07-f2be-4ee9-aec0-31ee2b4d2344",
   "metadata": {},
   "source": [
    "# 변수 만드는 여러가지 방법"
   ]
  },
  {
   "cell_type": "code",
   "execution_count": 20,
   "id": "2d48f75c-6d9b-46a3-bf62-acb4fb8e2808",
   "metadata": {},
   "outputs": [
    {
     "name": "stdout",
     "output_type": "stream",
     "text": [
      "python\n",
      "life\n"
     ]
    }
   ],
   "source": [
    "# 튜플로 만들기\n",
    "a,b=(\"python\", \"life\")\n",
    "print(a)\n",
    "print(b)"
   ]
  },
  {
   "cell_type": "code",
   "execution_count": 21,
   "id": "8b3a747a-4948-4aed-8366-7fa35553a772",
   "metadata": {},
   "outputs": [
    {
     "name": "stdout",
     "output_type": "stream",
     "text": [
      "python\n",
      "life\n"
     ]
    }
   ],
   "source": [
    "a,b=\"python\",\"life\"\n",
    "print(a)\n",
    "print(b)"
   ]
  },
  {
   "cell_type": "code",
   "execution_count": 22,
   "id": "9d022449-24d2-4f1c-b251-da3d74874c22",
   "metadata": {},
   "outputs": [
    {
     "name": "stdout",
     "output_type": "stream",
     "text": [
      "python\n",
      "life\n"
     ]
    }
   ],
   "source": [
    "#리스트로 변수 만들기\n",
    "[a,b]=[\"python\", \"life\"]\n",
    "print(a)\n",
    "print(b)"
   ]
  },
  {
   "cell_type": "code",
   "execution_count": 23,
   "id": "07f0e98c-09ef-4827-a791-91e3c98ce84f",
   "metadata": {},
   "outputs": [
    {
     "name": "stdout",
     "output_type": "stream",
     "text": [
      "python\n",
      "python\n"
     ]
    }
   ],
   "source": [
    "#여러개 변수에 같은 값 대입\n",
    "a=b=\"python\"\n",
    "print(a)\n",
    "print(b)"
   ]
  },
  {
   "cell_type": "code",
   "execution_count": 24,
   "id": "a9b2f9c1-05c4-47e7-8b7d-25895c03cd15",
   "metadata": {},
   "outputs": [
    {
     "name": "stdout",
     "output_type": "stream",
     "text": [
      "1703508896064\n",
      "1703508896064\n"
     ]
    }
   ],
   "source": [
    "print(id(a))\n",
    "print(id(b))"
   ]
  },
  {
   "cell_type": "code",
   "execution_count": 25,
   "id": "4437fc5a-2c30-4a99-bbe3-d24bbf187b3c",
   "metadata": {},
   "outputs": [
    {
     "name": "stdout",
     "output_type": "stream",
     "text": [
      "[5, 2, 3]\n",
      "[5, 2, 3]\n",
      "1703661096704\n",
      "1703661096704\n"
     ]
    }
   ],
   "source": [
    "a=b=[1,2,3]\n",
    "a[0]=5\n",
    "print(a)\n",
    "print(b)\n",
    "print(id(a))\n",
    "print(id(b))"
   ]
  },
  {
   "cell_type": "code",
   "execution_count": 27,
   "id": "ae278506-8e77-42c6-a15b-27a74d4713bc",
   "metadata": {},
   "outputs": [
    {
     "name": "stdout",
     "output_type": "stream",
     "text": [
      "5\n",
      "3\n"
     ]
    }
   ],
   "source": [
    "#파이썬에만 있음: 두 변수의 값 바꾸기\n",
    "a=3\n",
    "b=5\n",
    "a,b=b,a\n",
    "print(a)\n",
    "print(b)"
   ]
  },
  {
   "cell_type": "code",
   "execution_count": 28,
   "id": "280f9121-e95d-4331-aced-087c257a46bf",
   "metadata": {},
   "outputs": [],
   "source": [
    "#다른 프로그램에서 두 변수의 값 바꾸려면: 임의의 변수 지정"
   ]
  },
  {
   "cell_type": "code",
   "execution_count": null,
   "id": "391a662c-84ec-4850-92ec-a1089619390b",
   "metadata": {},
   "outputs": [],
   "source": []
  }
 ],
 "metadata": {
  "kernelspec": {
   "display_name": "Python [conda env:base] *",
   "language": "python",
   "name": "conda-base-py"
  },
  "language_info": {
   "codemirror_mode": {
    "name": "ipython",
    "version": 3
   },
   "file_extension": ".py",
   "mimetype": "text/x-python",
   "name": "python",
   "nbconvert_exporter": "python",
   "pygments_lexer": "ipython3",
   "version": "3.13.5"
  }
 },
 "nbformat": 4,
 "nbformat_minor": 5
}
