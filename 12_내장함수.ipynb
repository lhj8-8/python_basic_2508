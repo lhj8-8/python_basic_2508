{
 "cells": [
  {
   "cell_type": "markdown",
   "id": "a0b5f7e5-2973-49f1-a9c1-9886cbea2cf2",
   "metadata": {},
   "source": [
    "abs(): 숫자 입력시 그 숫자의 절댓값 리턴"
   ]
  },
  {
   "cell_type": "code",
   "execution_count": 11,
   "id": "07078a56-e447-4583-8f5c-051c5ca46282",
   "metadata": {},
   "outputs": [
    {
     "data": {
      "text/plain": [
       "3"
      ]
     },
     "execution_count": 11,
     "metadata": {},
     "output_type": "execute_result"
    }
   ],
   "source": [
    "abs(3)"
   ]
  },
  {
   "cell_type": "code",
   "execution_count": 12,
   "id": "fe877824-5210-411c-8f61-31f78810557b",
   "metadata": {},
   "outputs": [
    {
     "data": {
      "text/plain": [
       "5"
      ]
     },
     "execution_count": 12,
     "metadata": {},
     "output_type": "execute_result"
    }
   ],
   "source": [
    "abs(-5)"
   ]
  },
  {
   "cell_type": "code",
   "execution_count": 13,
   "id": "b2c6cb8b-da52-4cef-82f9-4b5242a1f0aa",
   "metadata": {},
   "outputs": [
    {
     "data": {
      "text/plain": [
       "1.2"
      ]
     },
     "execution_count": 13,
     "metadata": {},
     "output_type": "execute_result"
    }
   ],
   "source": [
    "abs(-1.2)"
   ]
  },
  {
   "cell_type": "markdown",
   "id": "539a7acf-12a6-4b6a-b574-8053af1e4973",
   "metadata": {},
   "source": [
    "all():반복 가능한 데이터에서 각 요소 모두 참이면 True"
   ]
  },
  {
   "cell_type": "code",
   "execution_count": 1,
   "id": "a5b7336e-b575-4c2e-b66b-26d6b8be2a98",
   "metadata": {},
   "outputs": [
    {
     "data": {
      "text/plain": [
       "True"
      ]
     },
     "execution_count": 1,
     "metadata": {},
     "output_type": "execute_result"
    }
   ],
   "source": [
    "all([1,2,3])"
   ]
  },
  {
   "cell_type": "code",
   "execution_count": 3,
   "id": "676ab2b4-050d-4bc0-8ae4-160667615f0f",
   "metadata": {},
   "outputs": [
    {
     "data": {
      "text/plain": [
       "True"
      ]
     },
     "execution_count": 3,
     "metadata": {},
     "output_type": "execute_result"
    }
   ],
   "source": [
    "all([]) #빈 값인 경우 true"
   ]
  },
  {
   "cell_type": "code",
   "execution_count": 4,
   "id": "e67fe7d4-c1f2-4066-914f-244fb3c8c0d4",
   "metadata": {},
   "outputs": [
    {
     "data": {
      "text/plain": [
       "True"
      ]
     },
     "execution_count": 4,
     "metadata": {},
     "output_type": "execute_result"
    }
   ],
   "source": [
    "all(\"\")"
   ]
  },
  {
   "cell_type": "markdown",
   "id": "5742c447-de9b-4c9a-a8d9-95b0159336dc",
   "metadata": {},
   "source": [
    "any():반복 가능한 데이터에서 각 요소에 하나라도 참이면 True\n",
    "all()과 반대로 동작"
   ]
  },
  {
   "cell_type": "code",
   "execution_count": 5,
   "id": "d4b46b01-eff5-47a4-983b-711b7e3724d1",
   "metadata": {},
   "outputs": [
    {
     "data": {
      "text/plain": [
       "True"
      ]
     },
     "execution_count": 5,
     "metadata": {},
     "output_type": "execute_result"
    }
   ],
   "source": [
    "any([1,0])"
   ]
  },
  {
   "cell_type": "code",
   "execution_count": 6,
   "id": "1ed97daa-f13f-4cf0-a2cd-c480279f6a44",
   "metadata": {},
   "outputs": [
    {
     "data": {
      "text/plain": [
       "False"
      ]
     },
     "execution_count": 6,
     "metadata": {},
     "output_type": "execute_result"
    }
   ],
   "source": [
    "any([0,\"\"])"
   ]
  },
  {
   "cell_type": "code",
   "execution_count": 7,
   "id": "becd3538-07e0-4a1a-ba5c-2e1ca7b79c23",
   "metadata": {},
   "outputs": [
    {
     "data": {
      "text/plain": [
       "False"
      ]
     },
     "execution_count": 7,
     "metadata": {},
     "output_type": "execute_result"
    }
   ],
   "source": [
    "any([])  #빈 값은 False"
   ]
  },
  {
   "cell_type": "markdown",
   "id": "219d0bd0-6b94-4750-bc62-5936979bdd30",
   "metadata": {},
   "source": [
    "chr(): 유니코드 값 반환"
   ]
  },
  {
   "cell_type": "code",
   "execution_count": 8,
   "id": "c8a995d2-7dc4-476a-acfa-3baf2a955bac",
   "metadata": {},
   "outputs": [
    {
     "data": {
      "text/plain": [
       "'a'"
      ]
     },
     "execution_count": 8,
     "metadata": {},
     "output_type": "execute_result"
    }
   ],
   "source": [
    "chr(97)"
   ]
  },
  {
   "cell_type": "code",
   "execution_count": 9,
   "id": "de9485c4-4168-4f39-8138-344991669932",
   "metadata": {},
   "outputs": [
    {
     "data": {
      "text/plain": [
       "'A'"
      ]
     },
     "execution_count": 9,
     "metadata": {},
     "output_type": "execute_result"
    }
   ],
   "source": [
    "chr(65)"
   ]
  },
  {
   "cell_type": "code",
   "execution_count": 10,
   "id": "14a0d5f4-e46b-41ae-9fb4-8b07c942e3cf",
   "metadata": {},
   "outputs": [
    {
     "data": {
      "text/plain": [
       "'가'"
      ]
     },
     "execution_count": 10,
     "metadata": {},
     "output_type": "execute_result"
    }
   ],
   "source": [
    "chr(44032)"
   ]
  },
  {
   "cell_type": "markdown",
   "id": "b95115b5-5d6d-4c34-9d44-56e601730275",
   "metadata": {},
   "source": [
    "dir(): 객체가 지닌 변수나 함수를 보여줌"
   ]
  },
  {
   "cell_type": "code",
   "execution_count": 15,
   "id": "ef209abf-e5f5-46f0-ac8b-1bf5e7c5c999",
   "metadata": {},
   "outputs": [
    {
     "data": {
      "text/plain": [
       "['__add__',\n",
       " '__class__',\n",
       " '__class_getitem__',\n",
       " '__contains__',\n",
       " '__delattr__',\n",
       " '__delitem__',\n",
       " '__dir__',\n",
       " '__doc__',\n",
       " '__eq__',\n",
       " '__format__',\n",
       " '__ge__',\n",
       " '__getattribute__',\n",
       " '__getitem__',\n",
       " '__getstate__',\n",
       " '__gt__',\n",
       " '__hash__',\n",
       " '__iadd__',\n",
       " '__imul__',\n",
       " '__init__',\n",
       " '__init_subclass__',\n",
       " '__iter__',\n",
       " '__le__',\n",
       " '__len__',\n",
       " '__lt__',\n",
       " '__mul__',\n",
       " '__ne__',\n",
       " '__new__',\n",
       " '__reduce__',\n",
       " '__reduce_ex__',\n",
       " '__repr__',\n",
       " '__reversed__',\n",
       " '__rmul__',\n",
       " '__setattr__',\n",
       " '__setitem__',\n",
       " '__sizeof__',\n",
       " '__str__',\n",
       " '__subclasshook__',\n",
       " 'append',\n",
       " 'clear',\n",
       " 'copy',\n",
       " 'count',\n",
       " 'extend',\n",
       " 'index',\n",
       " 'insert',\n",
       " 'pop',\n",
       " 'remove',\n",
       " 'reverse',\n",
       " 'sort']"
      ]
     },
     "execution_count": 15,
     "metadata": {},
     "output_type": "execute_result"
    }
   ],
   "source": [
    "dir([1,2,3])  #__xxx__: 매직메서드"
   ]
  },
  {
   "cell_type": "code",
   "execution_count": 16,
   "id": "de2258cd-f182-4a4f-8b5e-4d05d2159021",
   "metadata": {},
   "outputs": [
    {
     "data": {
      "text/plain": [
       "['__add__',\n",
       " '__class__',\n",
       " '__contains__',\n",
       " '__delattr__',\n",
       " '__dir__',\n",
       " '__doc__',\n",
       " '__eq__',\n",
       " '__format__',\n",
       " '__ge__',\n",
       " '__getattribute__',\n",
       " '__getitem__',\n",
       " '__getnewargs__',\n",
       " '__getstate__',\n",
       " '__gt__',\n",
       " '__hash__',\n",
       " '__init__',\n",
       " '__init_subclass__',\n",
       " '__iter__',\n",
       " '__le__',\n",
       " '__len__',\n",
       " '__lt__',\n",
       " '__mod__',\n",
       " '__mul__',\n",
       " '__ne__',\n",
       " '__new__',\n",
       " '__reduce__',\n",
       " '__reduce_ex__',\n",
       " '__repr__',\n",
       " '__rmod__',\n",
       " '__rmul__',\n",
       " '__setattr__',\n",
       " '__sizeof__',\n",
       " '__str__',\n",
       " '__subclasshook__',\n",
       " 'capitalize',\n",
       " 'casefold',\n",
       " 'center',\n",
       " 'count',\n",
       " 'encode',\n",
       " 'endswith',\n",
       " 'expandtabs',\n",
       " 'find',\n",
       " 'format',\n",
       " 'format_map',\n",
       " 'index',\n",
       " 'isalnum',\n",
       " 'isalpha',\n",
       " 'isascii',\n",
       " 'isdecimal',\n",
       " 'isdigit',\n",
       " 'isidentifier',\n",
       " 'islower',\n",
       " 'isnumeric',\n",
       " 'isprintable',\n",
       " 'isspace',\n",
       " 'istitle',\n",
       " 'isupper',\n",
       " 'join',\n",
       " 'ljust',\n",
       " 'lower',\n",
       " 'lstrip',\n",
       " 'maketrans',\n",
       " 'partition',\n",
       " 'removeprefix',\n",
       " 'removesuffix',\n",
       " 'replace',\n",
       " 'rfind',\n",
       " 'rindex',\n",
       " 'rjust',\n",
       " 'rpartition',\n",
       " 'rsplit',\n",
       " 'rstrip',\n",
       " 'split',\n",
       " 'splitlines',\n",
       " 'startswith',\n",
       " 'strip',\n",
       " 'swapcase',\n",
       " 'title',\n",
       " 'translate',\n",
       " 'upper',\n",
       " 'zfill']"
      ]
     },
     "execution_count": 16,
     "metadata": {},
     "output_type": "execute_result"
    }
   ],
   "source": [
    "dir(\"\")"
   ]
  },
  {
   "cell_type": "code",
   "execution_count": 17,
   "id": "cc242803-def7-43f4-a025-a28dbec0ccca",
   "metadata": {},
   "outputs": [
    {
     "data": {
      "text/plain": [
       "['__class__',\n",
       " '__class_getitem__',\n",
       " '__contains__',\n",
       " '__delattr__',\n",
       " '__delitem__',\n",
       " '__dir__',\n",
       " '__doc__',\n",
       " '__eq__',\n",
       " '__format__',\n",
       " '__ge__',\n",
       " '__getattribute__',\n",
       " '__getitem__',\n",
       " '__getstate__',\n",
       " '__gt__',\n",
       " '__hash__',\n",
       " '__init__',\n",
       " '__init_subclass__',\n",
       " '__ior__',\n",
       " '__iter__',\n",
       " '__le__',\n",
       " '__len__',\n",
       " '__lt__',\n",
       " '__ne__',\n",
       " '__new__',\n",
       " '__or__',\n",
       " '__reduce__',\n",
       " '__reduce_ex__',\n",
       " '__repr__',\n",
       " '__reversed__',\n",
       " '__ror__',\n",
       " '__setattr__',\n",
       " '__setitem__',\n",
       " '__sizeof__',\n",
       " '__str__',\n",
       " '__subclasshook__',\n",
       " 'clear',\n",
       " 'copy',\n",
       " 'fromkeys',\n",
       " 'get',\n",
       " 'items',\n",
       " 'keys',\n",
       " 'pop',\n",
       " 'popitem',\n",
       " 'setdefault',\n",
       " 'update',\n",
       " 'values']"
      ]
     },
     "execution_count": 17,
     "metadata": {},
     "output_type": "execute_result"
    }
   ],
   "source": [
    "dir({}) #닥셔너리 "
   ]
  },
  {
   "cell_type": "markdown",
   "id": "bf3a663f-e3d3-4724-b0dd-e26800f6868b",
   "metadata": {},
   "source": [
    "divmod(): 두 수 나누기 후 몫과 나머지를 튜플로 반환"
   ]
  },
  {
   "cell_type": "code",
   "execution_count": 18,
   "id": "f407e992-2edf-45de-95ec-b00780965d03",
   "metadata": {},
   "outputs": [
    {
     "data": {
      "text/plain": [
       "(2, 1)"
      ]
     },
     "execution_count": 18,
     "metadata": {},
     "output_type": "execute_result"
    }
   ],
   "source": [
    "divmod(7,3)"
   ]
  },
  {
   "cell_type": "code",
   "execution_count": 20,
   "id": "bcfd6b31-63c8-4256-b49d-4c9048196107",
   "metadata": {},
   "outputs": [
    {
     "data": {
      "text/plain": [
       "2"
      ]
     },
     "execution_count": 20,
     "metadata": {},
     "output_type": "execute_result"
    }
   ],
   "source": [
    "7//3\n"
   ]
  },
  {
   "cell_type": "code",
   "execution_count": 21,
   "id": "bc723554-ca9b-4b33-9333-d31423c0f62d",
   "metadata": {},
   "outputs": [
    {
     "data": {
      "text/plain": [
       "1"
      ]
     },
     "execution_count": 21,
     "metadata": {},
     "output_type": "execute_result"
    }
   ],
   "source": [
    "7%3"
   ]
  },
  {
   "cell_type": "markdown",
   "id": "bc28c037-bfb9-45a9-9d92-ad1f42dba002",
   "metadata": {},
   "source": [
    "enumerate(): 순서가 있는 데이터의 인덱스 값을 포함하는 enumerate 객체를 리턴"
   ]
  },
  {
   "cell_type": "code",
   "execution_count": 23,
   "id": "664e3e5b-5ef1-4b2b-a886-475af228c000",
   "metadata": {},
   "outputs": [
    {
     "name": "stdout",
     "output_type": "stream",
     "text": [
      "0 body\n",
      "1 foo\n",
      "2 bar\n"
     ]
    }
   ],
   "source": [
    "for i, name in enumerate(['body','foo','bar']):\n",
    "    print(i, name)   #i:index번호"
   ]
  },
  {
   "cell_type": "code",
   "execution_count": 26,
   "id": "1d6bdd84-8b60-4cb2-8925-945e08bdd750",
   "metadata": {},
   "outputs": [
    {
     "name": "stdout",
     "output_type": "stream",
     "text": [
      "0 a\n",
      "<class 'int'>\n",
      "<class 'str'>\n",
      "1 b\n",
      "<class 'int'>\n",
      "<class 'str'>\n",
      "2 c\n",
      "<class 'int'>\n",
      "<class 'str'>\n"
     ]
    }
   ],
   "source": [
    "for i, k in enumerate({'a':1, 'b':2, 'c':3}):\n",
    "    print(i, k)\n",
    "    print(type(i))\n",
    "    print(type(k))"
   ]
  },
  {
   "cell_type": "code",
   "execution_count": 27,
   "id": "52480f7e-2351-4a08-aa28-3c51466d8d01",
   "metadata": {},
   "outputs": [],
   "source": [
    "#딕셔너리 중 key값만 반환해줌"
   ]
  },
  {
   "cell_type": "code",
   "execution_count": 32,
   "id": "55432b7d-c300-4b99-b8ed-4c36dd3267bd",
   "metadata": {},
   "outputs": [
    {
     "name": "stdout",
     "output_type": "stream",
     "text": [
      "0 ('a', 1)\n",
      "1 ('b', 2)\n",
      "2 ('c', 3)\n"
     ]
    }
   ],
   "source": [
    "for i, k in enumerate({'a':1, 'b':2, 'c':3}.items()):\n",
    "    print(i, k)  #[('a':1),('b':2),('c':3)]"
   ]
  },
  {
   "cell_type": "code",
   "execution_count": 35,
   "id": "0c55f413-2319-4e06-a743-228de839265e",
   "metadata": {},
   "outputs": [
    {
     "name": "stdout",
     "output_type": "stream",
     "text": [
      "0 a\n",
      "1 b\n",
      "2 c\n"
     ]
    }
   ],
   "source": [
    "for i, k in enumerate({'a':1, 'b':2, 'c':3}.keys()):\n",
    "    print(i, k)  #key값 반환"
   ]
  },
  {
   "cell_type": "code",
   "execution_count": 36,
   "id": "18e67ce6-b0ab-4b20-b181-97be3d152a07",
   "metadata": {},
   "outputs": [
    {
     "name": "stdout",
     "output_type": "stream",
     "text": [
      "0 1\n",
      "1 2\n",
      "2 3\n"
     ]
    }
   ],
   "source": [
    "for i, k in enumerate({'a':1, 'b':2, 'c':3}.values()):\n",
    "    print(i, k)  #value값 반환"
   ]
  },
  {
   "cell_type": "markdown",
   "id": "32255ae2-3f75-4a74-ad78-2581685d4448",
   "metadata": {},
   "source": [
    "eval(): 표현식(문자열)을 실행한 결과값을 리턴"
   ]
  },
  {
   "cell_type": "code",
   "execution_count": 29,
   "id": "4f916a44-3ea8-4c02-9ac6-18f3a15de12b",
   "metadata": {},
   "outputs": [
    {
     "data": {
      "text/plain": [
       "'1+2'"
      ]
     },
     "execution_count": 29,
     "metadata": {},
     "output_type": "execute_result"
    }
   ],
   "source": [
    "\"1+2\""
   ]
  },
  {
   "cell_type": "code",
   "execution_count": 30,
   "id": "b248e8d6-aa25-41f2-869e-7e3aa82eab76",
   "metadata": {},
   "outputs": [
    {
     "data": {
      "text/plain": [
       "3"
      ]
     },
     "execution_count": 30,
     "metadata": {},
     "output_type": "execute_result"
    }
   ],
   "source": [
    "eval(\"1+2\")"
   ]
  },
  {
   "cell_type": "code",
   "execution_count": 31,
   "id": "ccb21632-6fbc-4f9c-893b-90aba08ee275",
   "metadata": {},
   "outputs": [
    {
     "data": {
      "text/plain": [
       "'hia'"
      ]
     },
     "execution_count": 31,
     "metadata": {},
     "output_type": "execute_result"
    }
   ],
   "source": [
    "eval(\"'hi'+'a'\")"
   ]
  },
  {
   "cell_type": "markdown",
   "id": "32bdea62-989f-4b37-89dd-685d591b3d4c",
   "metadata": {},
   "source": [
    "eval(\"whil True: pass\")<-이거 실행되면 무한반복. 악성코드도 이런식으로 되는 것도 있으니, 파이썬이나 자바스크립트에서 eval 쓰지 말라고 권장"
   ]
  },
  {
   "cell_type": "markdown",
   "id": "1af918aa-08f6-47a2-b807-634cd139d61c",
   "metadata": {},
   "source": [
    "filter(): filter안에서 정의한 함수의 결과값이 참인 것만 반환"
   ]
  },
  {
   "cell_type": "code",
   "execution_count": 37,
   "id": "cc764022-8cfc-452c-a538-770817d6141a",
   "metadata": {},
   "outputs": [
    {
     "name": "stdout",
     "output_type": "stream",
     "text": [
      "[1, 2, 6]\n"
     ]
    }
   ],
   "source": [
    "#일반함수로 양수값만 리턴\n",
    "def positive(list):\n",
    "    result=[]\n",
    "    for i in list:\n",
    "        if i>0:\n",
    "            result.append(i)\n",
    "    return result\n",
    "\n",
    "print(positive([1,-3,2,0,-5,6]))"
   ]
  },
  {
   "cell_type": "code",
   "execution_count": 38,
   "id": "da602306-cbae-43da-8d1b-fcb85dce58d9",
   "metadata": {},
   "outputs": [
    {
     "name": "stdout",
     "output_type": "stream",
     "text": [
      "[1, 2, 6]\n"
     ]
    }
   ],
   "source": [
    "#filter()사용\n",
    "def positive(x):\n",
    "    return x>0\n",
    "\n",
    "print(list(filter(positive, [1,-3,2,0,-5,6])))"
   ]
  },
  {
   "cell_type": "code",
   "execution_count": 40,
   "id": "b7a35658-efdf-46bf-99bb-d2ab6cc41f55",
   "metadata": {},
   "outputs": [
    {
     "data": {
      "text/plain": [
       "[1, 2, 6]"
      ]
     },
     "execution_count": 40,
     "metadata": {},
     "output_type": "execute_result"
    }
   ],
   "source": [
    "#lambda()사용\n",
    "list(filter(lambda x: x>0, [1,-3,2,0,-5,6] ))"
   ]
  },
  {
   "cell_type": "markdown",
   "id": "955c21e2-9aa1-47c0-8770-c7b6e21d9d78",
   "metadata": {},
   "source": [
    "map(): map안에서 선언한 함수의 결과값을 반환"
   ]
  },
  {
   "cell_type": "code",
   "execution_count": 41,
   "id": "cdc71c91-fd9b-49fb-b6f3-cd39ee342de6",
   "metadata": {},
   "outputs": [
    {
     "name": "stdout",
     "output_type": "stream",
     "text": [
      "[2, 4, 6, 8]\n"
     ]
    }
   ],
   "source": [
    "#일반함수로 리스트 각 요소에 *2\n",
    "def two_times(list):\n",
    "    result=[]\n",
    "    for i in list:\n",
    "        result.append(i*2)\n",
    "    return result\n",
    "\n",
    "print(two_times([1,2,3,4]))"
   ]
  },
  {
   "cell_type": "code",
   "execution_count": 44,
   "id": "34b50475-fb68-4832-bd65-69c8c576bf8b",
   "metadata": {},
   "outputs": [
    {
     "data": {
      "text/plain": [
       "[2, 4, 6, 8]"
      ]
     },
     "execution_count": 44,
     "metadata": {},
     "output_type": "execute_result"
    }
   ],
   "source": [
    "#map함수로 리스트 각 요소에 *2\n",
    "def two_times(x):\n",
    "    return x*2\n",
    "\n",
    "list(map(two_times,[1,2,3,4]))"
   ]
  },
  {
   "cell_type": "code",
   "execution_count": 46,
   "id": "5864c9e8-e0e0-4b5f-924a-4d9b364d6652",
   "metadata": {},
   "outputs": [
    {
     "data": {
      "text/plain": [
       "[2, 4, 6, 8]"
      ]
     },
     "execution_count": 46,
     "metadata": {},
     "output_type": "execute_result"
    }
   ],
   "source": [
    "#lambda함수로\n",
    "list(map(lambda x:x*2,[1,2,3,4]))"
   ]
  },
  {
   "cell_type": "markdown",
   "id": "6c7bbe16-3e8c-4c77-857a-a4498a303407",
   "metadata": {},
   "source": [
    "hex():정수 입력받아 16진수로 반환"
   ]
  },
  {
   "cell_type": "code",
   "execution_count": 49,
   "id": "9ce2a1d4-5bac-4e05-871c-36c52e5ab8d6",
   "metadata": {},
   "outputs": [
    {
     "name": "stdout",
     "output_type": "stream",
     "text": [
      "0xea\n",
      "0x3\n",
      "0xd\n",
      "0x10\n"
     ]
    }
   ],
   "source": [
    "print(hex(234))\n",
    "print(hex(3))\n",
    "print(hex(13))\n",
    "print(hex(16))"
   ]
  },
  {
   "cell_type": "markdown",
   "id": "fd5ced05-53f3-4fff-84bf-22d89b60e102",
   "metadata": {},
   "source": [
    "id():객체의 주소값 확인"
   ]
  },
  {
   "cell_type": "code",
   "execution_count": 50,
   "id": "0a631727-190c-4baf-b18d-59a8c12adcbc",
   "metadata": {},
   "outputs": [],
   "source": [
    "a=3"
   ]
  },
  {
   "cell_type": "code",
   "execution_count": 51,
   "id": "83d661b4-6621-44af-b256-458a7bed4c55",
   "metadata": {},
   "outputs": [
    {
     "data": {
      "text/plain": [
       "140719437951976"
      ]
     },
     "execution_count": 51,
     "metadata": {},
     "output_type": "execute_result"
    }
   ],
   "source": [
    "id(a)"
   ]
  },
  {
   "cell_type": "code",
   "execution_count": 52,
   "id": "dd9e8edd-c4d4-4711-a21b-3136445dbc94",
   "metadata": {},
   "outputs": [
    {
     "data": {
      "text/plain": [
       "140719437951976"
      ]
     },
     "execution_count": 52,
     "metadata": {},
     "output_type": "execute_result"
    }
   ],
   "source": [
    "b=a\n",
    "id(b)"
   ]
  },
  {
   "cell_type": "markdown",
   "id": "177b9489-e649-4810-ae0b-890dcbe1b439",
   "metadata": {},
   "source": [
    "isinstance():객체가 그 클래스의 인스턴스인지 판별"
   ]
  },
  {
   "cell_type": "code",
   "execution_count": 54,
   "id": "77ae8f30-89c6-4b6c-b005-4edb7f2415c4",
   "metadata": {},
   "outputs": [
    {
     "name": "stdout",
     "output_type": "stream",
     "text": [
      "True\n"
     ]
    }
   ],
   "source": [
    "class Person: pass\n",
    "\n",
    "a=Person() #a는 Person의 인스턴스\n",
    "print(isinstance(a, Person))"
   ]
  },
  {
   "cell_type": "code",
   "execution_count": 55,
   "id": "94b7d574-46b3-4b39-8b43-97b67e30adf9",
   "metadata": {},
   "outputs": [
    {
     "data": {
      "text/plain": [
       "False"
      ]
     },
     "execution_count": 55,
     "metadata": {},
     "output_type": "execute_result"
    }
   ],
   "source": [
    "b=3\n",
    "isinstance(b,Person)"
   ]
  },
  {
   "cell_type": "markdown",
   "id": "f1b02eb0-4292-406e-91bb-14389bafc4bb",
   "metadata": {},
   "source": [
    "max():최대값, min():최솟값"
   ]
  },
  {
   "cell_type": "code",
   "execution_count": 58,
   "id": "86e747d2-d3e3-4c1e-acba-e3c11e662724",
   "metadata": {},
   "outputs": [
    {
     "name": "stdout",
     "output_type": "stream",
     "text": [
      "3\n",
      "y\n"
     ]
    }
   ],
   "source": [
    "print(max([1,2,3]))\n",
    "print(max(\"python\")) #알파벳이 유니코드 숫자로 변경됨"
   ]
  },
  {
   "cell_type": "code",
   "execution_count": 59,
   "id": "81361871-1c79-42b5-bb17-f977174fca61",
   "metadata": {},
   "outputs": [
    {
     "name": "stdout",
     "output_type": "stream",
     "text": [
      "1\n",
      "h\n"
     ]
    }
   ],
   "source": [
    "print(min([1,2,3]))\n",
    "print(min(\"python\"))"
   ]
  },
  {
   "cell_type": "markdown",
   "id": "95068461-9096-4f99-8a27-b96e03c6cfd6",
   "metadata": {},
   "source": [
    "ord(): chr()과 반대. 문자를 전달인자로 넣으면 유니코드 값이 나옴"
   ]
  },
  {
   "cell_type": "code",
   "execution_count": 60,
   "id": "59061738-e484-4102-ae72-43f408e8dda7",
   "metadata": {},
   "outputs": [
    {
     "name": "stdout",
     "output_type": "stream",
     "text": [
      "97\n",
      "65\n",
      "48\n"
     ]
    }
   ],
   "source": [
    "print(ord('a'))\n",
    "print(ord('A'))\n",
    "print(ord('0'))"
   ]
  },
  {
   "cell_type": "markdown",
   "id": "f1e9ccb8-679c-4f10-ba50-f14f924eea0c",
   "metadata": {},
   "source": [
    "range(): 범위의 값을 반복 가능한 객체로 만들어 리턴"
   ]
  },
  {
   "cell_type": "code",
   "execution_count": 61,
   "id": "1dc45a79-47f7-4561-b3b9-753afa4e3af8",
   "metadata": {},
   "outputs": [
    {
     "data": {
      "text/plain": [
       "[0, 1, 2, 3, 4]"
      ]
     },
     "execution_count": 61,
     "metadata": {},
     "output_type": "execute_result"
    }
   ],
   "source": [
    "#인수(매개변수, 전달인자)가 하나일 때\n",
    "list(range(5))"
   ]
  },
  {
   "cell_type": "code",
   "execution_count": 62,
   "id": "1a6797cd-babf-42d2-b453-11780ce18278",
   "metadata": {},
   "outputs": [
    {
     "data": {
      "text/plain": [
       "[5, 6, 7, 8, 9]"
      ]
     },
     "execution_count": 62,
     "metadata": {},
     "output_type": "execute_result"
    }
   ],
   "source": [
    "#인수가 두개\n",
    "list(range(5,10))"
   ]
  },
  {
   "cell_type": "code",
   "execution_count": 63,
   "id": "b1292859-315e-4416-a298-f92c9096fd96",
   "metadata": {},
   "outputs": [
    {
     "data": {
      "text/plain": [
       "[1, 3, 5, 7, 9]"
      ]
     },
     "execution_count": 63,
     "metadata": {},
     "output_type": "execute_result"
    }
   ],
   "source": [
    "#인수가 3개\n",
    "list(range(1,10,2))"
   ]
  },
  {
   "cell_type": "code",
   "execution_count": 64,
   "id": "31f50f5c-c590-4983-9fd4-f22a74f9f6d9",
   "metadata": {},
   "outputs": [],
   "source": [
    "#1~9까지인데 2개씩 건너뜀"
   ]
  },
  {
   "cell_type": "code",
   "execution_count": 66,
   "id": "97fdfb90-9a10-4d04-a473-89cf201a212b",
   "metadata": {},
   "outputs": [
    {
     "data": {
      "text/plain": [
       "[0, -2, -4, -6, -8]"
      ]
     },
     "execution_count": 66,
     "metadata": {},
     "output_type": "execute_result"
    }
   ],
   "source": [
    "list(range(0,-10,-2))"
   ]
  },
  {
   "cell_type": "markdown",
   "id": "c1ab5ee6-db49-47b2-94d7-684b301a02e8",
   "metadata": {},
   "source": [
    "sorted():정렬한 것을 리스트로 반환"
   ]
  },
  {
   "cell_type": "code",
   "execution_count": 67,
   "id": "9929c7b9-74c7-48c5-ab63-383a25450767",
   "metadata": {},
   "outputs": [
    {
     "data": {
      "text/plain": [
       "[1, 2, 3]"
      ]
     },
     "execution_count": 67,
     "metadata": {},
     "output_type": "execute_result"
    }
   ],
   "source": [
    "sorted([3,1,2])"
   ]
  },
  {
   "cell_type": "code",
   "execution_count": 68,
   "id": "9c6413e0-4223-4e3d-ae05-1fd0dd6c4f1c",
   "metadata": {},
   "outputs": [
    {
     "data": {
      "text/plain": [
       "['a', 'b', 'c']"
      ]
     },
     "execution_count": 68,
     "metadata": {},
     "output_type": "execute_result"
    }
   ],
   "source": [
    "sorted(['c','a','b'])"
   ]
  },
  {
   "cell_type": "code",
   "execution_count": 69,
   "id": "d1523584-38f0-4cc7-984c-e2dc67e0adb6",
   "metadata": {},
   "outputs": [
    {
     "data": {
      "text/plain": [
       "['e', 'o', 'r', 'z']"
      ]
     },
     "execution_count": 69,
     "metadata": {},
     "output_type": "execute_result"
    }
   ],
   "source": [
    "sorted(\"zero\")"
   ]
  },
  {
   "cell_type": "markdown",
   "id": "16d33fde-992e-48e9-a994-8cb26f74ba3b",
   "metadata": {},
   "source": [
    "zip():동일한 갯수로 이루어진 반복되는 데이터를 묶어서 리턴"
   ]
  },
  {
   "cell_type": "code",
   "execution_count": 70,
   "id": "74314797-22e9-45dd-b827-21cf76fdd2c5",
   "metadata": {},
   "outputs": [
    {
     "data": {
      "text/plain": [
       "[(1, 2), (2, 3), (3, 4)]"
      ]
     },
     "execution_count": 70,
     "metadata": {},
     "output_type": "execute_result"
    }
   ],
   "source": [
    "list(zip([1,2,3],[2,3,4]))"
   ]
  },
  {
   "cell_type": "code",
   "execution_count": 71,
   "id": "a0b99e95-4cfa-4aee-8022-b6eaceba8ab6",
   "metadata": {},
   "outputs": [],
   "source": [
    "#index 같은 요소들끼리 튜플로 묶음"
   ]
  },
  {
   "cell_type": "code",
   "execution_count": 72,
   "id": "8f1584e6-c13c-44e2-a978-cc6ae8efb1df",
   "metadata": {},
   "outputs": [
    {
     "data": {
      "text/plain": [
       "[(1, 6), (2, 7), (3, 8)]"
      ]
     },
     "execution_count": 72,
     "metadata": {},
     "output_type": "execute_result"
    }
   ],
   "source": [
    "list(zip([1,2,3,4,5],[6,7,8]))"
   ]
  },
  {
   "cell_type": "code",
   "execution_count": 73,
   "id": "4b54a092-2c22-47de-bb3f-a5b459c76810",
   "metadata": {},
   "outputs": [],
   "source": [
    "#갯수 동일하지 않으면 나머지 버려버림"
   ]
  },
  {
   "cell_type": "code",
   "execution_count": 75,
   "id": "1189355c-8800-44ee-8fb8-28a145ea1b76",
   "metadata": {},
   "outputs": [
    {
     "data": {
      "text/plain": [
       "[('a', 'd'), ('b', 'e'), ('c', 'f')]"
      ]
     },
     "execution_count": 75,
     "metadata": {},
     "output_type": "execute_result"
    }
   ],
   "source": [
    "list(zip(\"abc\",\"def\"))"
   ]
  },
  {
   "cell_type": "code",
   "execution_count": 77,
   "id": "3b775280-6535-43b2-b440-39e1318f1fd7",
   "metadata": {},
   "outputs": [
    {
     "data": {
      "text/plain": [
       "[(1, 2, 4), (2, 3, 5), (3, 4, 6)]"
      ]
     },
     "execution_count": 77,
     "metadata": {},
     "output_type": "execute_result"
    }
   ],
   "source": [
    "list(zip((1,2,3),(2,3,4),(4,5,6)))"
   ]
  },
  {
   "cell_type": "code",
   "execution_count": null,
   "id": "aea9d432-2724-4ba4-9c9c-ed37ea9571fb",
   "metadata": {},
   "outputs": [],
   "source": []
  }
 ],
 "metadata": {
  "kernelspec": {
   "display_name": "Python [conda env:base] *",
   "language": "python",
   "name": "conda-base-py"
  },
  "language_info": {
   "codemirror_mode": {
    "name": "ipython",
    "version": 3
   },
   "file_extension": ".py",
   "mimetype": "text/x-python",
   "name": "python",
   "nbconvert_exporter": "python",
   "pygments_lexer": "ipython3",
   "version": "3.13.5"
  }
 },
 "nbformat": 4,
 "nbformat_minor": 5
}
