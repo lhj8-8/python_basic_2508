{
 "cells": [
  {
   "cell_type": "markdown",
   "id": "06efb6d1-8e6e-44c8-9dbf-6e42f589a189",
   "metadata": {},
   "source": [
    "# 총 복습"
   ]
  },
  {
   "cell_type": "markdown",
   "id": "a675955b-c39e-44e7-98c4-8f018fc60ebf",
   "metadata": {},
   "source": [
    "### if/in/not in/elif"
   ]
  },
  {
   "cell_type": "code",
   "execution_count": 1,
   "id": "f36f7e61-1beb-481c-828b-04984ea83092",
   "metadata": {},
   "outputs": [
    {
     "name": "stdout",
     "output_type": "stream",
     "text": [
      "택시를 타라\n"
     ]
    }
   ],
   "source": [
    "money=True\n",
    "if money:\n",
    "    print(\"택시를 타라\")"
   ]
  },
  {
   "cell_type": "code",
   "execution_count": 2,
   "id": "aa12e3a2-d1ef-41eb-b185-783f5b5517d3",
   "metadata": {},
   "outputs": [
    {
     "name": "stdout",
     "output_type": "stream",
     "text": [
      "택시를 타라\n"
     ]
    }
   ],
   "source": [
    "money=True\n",
    "if money:\n",
    "    print(\"택시를 타라\")\n",
    "else:\n",
    "    print(\"걸어가라\")"
   ]
  },
  {
   "cell_type": "code",
   "execution_count": 3,
   "id": "c816c46a-6c55-40b8-9a3f-1bdcf26fdf55",
   "metadata": {},
   "outputs": [
    {
     "name": "stdout",
     "output_type": "stream",
     "text": [
      "걸어가라\n"
     ]
    }
   ],
   "source": [
    "money=False\n",
    "if money:\n",
    "    print(\"택시를 타라\")\n",
    "else:\n",
    "    print(\"걸어가라\")"
   ]
  },
  {
   "cell_type": "code",
   "execution_count": 4,
   "id": "887401dc-1027-4e45-a0b6-36376636ba81",
   "metadata": {},
   "outputs": [
    {
     "name": "stdout",
     "output_type": "stream",
     "text": [
      "True\n",
      "False\n",
      "False\n",
      "True\n"
     ]
    }
   ],
   "source": [
    "x=3\n",
    "y=2\n",
    "print(x>y)\n",
    "print(x<y)\n",
    "print(x==y)\n",
    "print(x!=y)"
   ]
  },
  {
   "cell_type": "code",
   "execution_count": 5,
   "id": "12d44daf-eb88-4a59-8100-004d11ca9d14",
   "metadata": {},
   "outputs": [
    {
     "name": "stdout",
     "output_type": "stream",
     "text": [
      "걸어\n"
     ]
    }
   ],
   "source": [
    "money=2000\n",
    "if money>=3000:\n",
    "    print(\"택시\")\n",
    "else:\n",
    "    print(\"걸어\")"
   ]
  },
  {
   "cell_type": "code",
   "execution_count": 6,
   "id": "56b534cc-3a05-4c22-ac37-c1d208b6d39a",
   "metadata": {},
   "outputs": [
    {
     "name": "stdout",
     "output_type": "stream",
     "text": [
      "걸어\n"
     ]
    }
   ],
   "source": [
    "money=2000\n",
    "card=False\n",
    "\n",
    "if money >=3000 or card:\n",
    "    print(\"택시\")\n",
    "else:\n",
    "    print(\"걸어\")"
   ]
  },
  {
   "cell_type": "code",
   "execution_count": 7,
   "id": "e01c7dad-4de8-4461-9747-bf08dfaa36d1",
   "metadata": {},
   "outputs": [
    {
     "data": {
      "text/plain": [
       "True"
      ]
     },
     "execution_count": 7,
     "metadata": {},
     "output_type": "execute_result"
    }
   ],
   "source": [
    "1 in [1,2,3]"
   ]
  },
  {
   "cell_type": "code",
   "execution_count": 8,
   "id": "b1a835cb-2103-42f0-a97e-92dbfb42ef40",
   "metadata": {},
   "outputs": [
    {
     "data": {
      "text/plain": [
       "False"
      ]
     },
     "execution_count": 8,
     "metadata": {},
     "output_type": "execute_result"
    }
   ],
   "source": [
    "1 not in {1,2,3,4}"
   ]
  },
  {
   "cell_type": "code",
   "execution_count": 9,
   "id": "bf8a20d0-9abb-4892-8bc9-b16f1dfb5e50",
   "metadata": {},
   "outputs": [
    {
     "data": {
      "text/plain": [
       "True"
      ]
     },
     "execution_count": 9,
     "metadata": {},
     "output_type": "execute_result"
    }
   ],
   "source": [
    "5 not in [1,2,3,4]"
   ]
  },
  {
   "cell_type": "code",
   "execution_count": 10,
   "id": "0befa504-195b-435b-9a80-b7e59590ecbc",
   "metadata": {},
   "outputs": [
    {
     "data": {
      "text/plain": [
       "True"
      ]
     },
     "execution_count": 10,
     "metadata": {},
     "output_type": "execute_result"
    }
   ],
   "source": [
    "5 in [1,2,3,4,5,6]"
   ]
  },
  {
   "cell_type": "code",
   "execution_count": 24,
   "id": "4f713411-3a98-4464-9618-e6c96e33923a",
   "metadata": {},
   "outputs": [
    {
     "name": "stdout",
     "output_type": "stream",
     "text": [
      "공부해라\n"
     ]
    }
   ],
   "source": [
    "pocket=['paper','coin','pencil']\n",
    "\n",
    "if 'pencil' in pocket:\n",
    "    print(\"공부해라\")\n",
    "else:\n",
    "    print(\"연필 사와서 공부해라\")"
   ]
  },
  {
   "cell_type": "code",
   "execution_count": 23,
   "id": "e0324e95-1559-4273-a403-7590e7b8db77",
   "metadata": {},
   "outputs": [
    {
     "name": "stdout",
     "output_type": "stream",
     "text": [
      "택시\n"
     ]
    }
   ],
   "source": [
    "pocket=['paper', 'cellphone','money']\n",
    "card=False\n",
    "\n",
    "if 'money' in pocket:\n",
    "    print(\"택시\")\n",
    "elif card:\n",
    "    print(\"카드로 택시타\")\n",
    "else:\n",
    "    print(\"걸어\")"
   ]
  },
  {
   "cell_type": "code",
   "execution_count": 28,
   "id": "19c70796-3b91-43d7-b80b-107241808203",
   "metadata": {},
   "outputs": [
    {
     "name": "stdout",
     "output_type": "stream",
     "text": [
      "F\n"
     ]
    }
   ],
   "source": [
    "math=55\n",
    "if math>=90:\n",
    "    print(\"A\")\n",
    "elif math>=80:\n",
    "    print(\"B\")\n",
    "elif math>=70:\n",
    "    print(\"C\")\n",
    "elif math>=60:\n",
    "    print(\"D\")\n",
    "else:\n",
    "    print(\"F\")"
   ]
  },
  {
   "cell_type": "markdown",
   "id": "c98fd107-b50c-4405-acc5-35046a325e22",
   "metadata": {},
   "source": [
    "### while"
   ]
  },
  {
   "cell_type": "code",
   "execution_count": 31,
   "id": "6ea87394-a822-436a-b40b-53bb707be182",
   "metadata": {},
   "outputs": [
    {
     "name": "stdin",
     "output_type": "stream",
     "text": [
      "입금해라:  50\n"
     ]
    },
    {
     "name": "stdout",
     "output_type": "stream",
     "text": [
      "돈 돌려주고 커피 안 줌\n",
      "남은 커피는 10 입니다\n"
     ]
    },
    {
     "name": "stdin",
     "output_type": "stream",
     "text": [
      "입금해라:  300\n"
     ]
    },
    {
     "name": "stdout",
     "output_type": "stream",
     "text": [
      "돈 받았으니 커피\n",
      "남은 커피는 9 입니다\n"
     ]
    },
    {
     "name": "stdin",
     "output_type": "stream",
     "text": [
      "입금해라:  400\n"
     ]
    },
    {
     "name": "stdout",
     "output_type": "stream",
     "text": [
      "거스름돈 100 를 주고 커피 준다\n",
      "남은 커피는 8 입니다\n"
     ]
    },
    {
     "name": "stdin",
     "output_type": "stream",
     "text": [
      "입금해라:  900\n"
     ]
    },
    {
     "name": "stdout",
     "output_type": "stream",
     "text": [
      "거스름돈 600 를 주고 커피 준다\n",
      "남은 커피는 7 입니다\n"
     ]
    },
    {
     "name": "stdin",
     "output_type": "stream",
     "text": [
      "입금해라:  300\n"
     ]
    },
    {
     "name": "stdout",
     "output_type": "stream",
     "text": [
      "돈 받았으니 커피\n",
      "남은 커피는 6 입니다\n"
     ]
    },
    {
     "name": "stdin",
     "output_type": "stream",
     "text": [
      "입금해라:  60\n"
     ]
    },
    {
     "name": "stdout",
     "output_type": "stream",
     "text": [
      "돈 돌려주고 커피 안 줌\n",
      "남은 커피는 6 입니다\n"
     ]
    },
    {
     "name": "stdin",
     "output_type": "stream",
     "text": [
      "입금해라:  800\n"
     ]
    },
    {
     "name": "stdout",
     "output_type": "stream",
     "text": [
      "거스름돈 500 를 주고 커피 준다\n",
      "남은 커피는 5 입니다\n"
     ]
    },
    {
     "name": "stdin",
     "output_type": "stream",
     "text": [
      "입금해라:  300\n"
     ]
    },
    {
     "name": "stdout",
     "output_type": "stream",
     "text": [
      "돈 받았으니 커피\n",
      "남은 커피는 4 입니다\n"
     ]
    },
    {
     "name": "stdin",
     "output_type": "stream",
     "text": [
      "입금해라:  400\n"
     ]
    },
    {
     "name": "stdout",
     "output_type": "stream",
     "text": [
      "거스름돈 100 를 주고 커피 준다\n",
      "남은 커피는 3 입니다\n"
     ]
    },
    {
     "name": "stdin",
     "output_type": "stream",
     "text": [
      "입금해라:  500\n"
     ]
    },
    {
     "name": "stdout",
     "output_type": "stream",
     "text": [
      "거스름돈 200 를 주고 커피 준다\n",
      "남은 커피는 2 입니다\n"
     ]
    },
    {
     "name": "stdin",
     "output_type": "stream",
     "text": [
      "입금해라:  200\n"
     ]
    },
    {
     "name": "stdout",
     "output_type": "stream",
     "text": [
      "돈 돌려주고 커피 안 줌\n",
      "남은 커피는 2 입니다\n"
     ]
    },
    {
     "name": "stdin",
     "output_type": "stream",
     "text": [
      "입금해라:  600\n"
     ]
    },
    {
     "name": "stdout",
     "output_type": "stream",
     "text": [
      "거스름돈 300 를 주고 커피 준다\n",
      "남은 커피는 1 입니다\n"
     ]
    },
    {
     "name": "stdin",
     "output_type": "stream",
     "text": [
      "입금해라:  300\n"
     ]
    },
    {
     "name": "stdout",
     "output_type": "stream",
     "text": [
      "돈 받았으니 커피\n",
      "남은 커피는 0 입니다\n",
      "매진\n"
     ]
    }
   ],
   "source": [
    "coffee=10\n",
    "\n",
    "while True:\n",
    "    money=int(input(\"입금해라: \"))  #int로 바꿔야 연산 가능\n",
    "\n",
    "    if money==300:\n",
    "        print('돈 받았으니 커피')\n",
    "        coffee-=1\n",
    "        print(\"남은 커피는 %d 입니다\" %coffee)\n",
    "    elif money>=300:\n",
    "        print(\"거스름돈 %d 를 주고 커피 준다\"%(money-300))\n",
    "        coffee-=1\n",
    "        print(\"남은 커피는 %d 입니다\" %coffee)\n",
    "    else:\n",
    "        print(\"돈 돌려주고 커피 안 줌\")\n",
    "        print(\"남은 커피는 %d 입니다\" %coffee)\n",
    "    if coffee ==0:\n",
    "        print(\"매진\")\n",
    "        break "
   ]
  },
  {
   "cell_type": "code",
   "execution_count": null,
   "id": "72be41dd-063d-4832-b4c9-4f4f877095bb",
   "metadata": {},
   "outputs": [],
   "source": []
  }
 ],
 "metadata": {
  "kernelspec": {
   "display_name": "Python [conda env:base] *",
   "language": "python",
   "name": "conda-base-py"
  },
  "language_info": {
   "codemirror_mode": {
    "name": "ipython",
    "version": 3
   },
   "file_extension": ".py",
   "mimetype": "text/x-python",
   "name": "python",
   "nbconvert_exporter": "python",
   "pygments_lexer": "ipython3",
   "version": "3.13.5"
  }
 },
 "nbformat": 4,
 "nbformat_minor": 5
}
