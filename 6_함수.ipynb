{
 "cells": [
  {
   "cell_type": "markdown",
   "id": "e47c5f74-c868-40cb-aa00-50037ec6dd22",
   "metadata": {},
   "source": [
    "# 1. 파이썬 함수"
   ]
  },
  {
   "cell_type": "code",
   "execution_count": 4,
   "id": "1a89b4a5-0995-465e-9f43-c8b4ebad636d",
   "metadata": {},
   "outputs": [
    {
     "name": "stdout",
     "output_type": "stream",
     "text": [
      "7\n",
      "333\n"
     ]
    }
   ],
   "source": [
    "def add(a,b):\n",
    "    return a+b   #함수 정의 return이 있어야 결과값이 나옴\n",
    "\n",
    "a,b=3,4\n",
    "c=add(a,b)       #함수 호출\n",
    "print(c)\n",
    "\n",
    "d=add(111,222)\n",
    "print(d)         #a,b: 매개변수(파라미터) / 111,222: 인수(아규먼트)"
   ]
  },
  {
   "cell_type": "code",
   "execution_count": 6,
   "id": "8ba27d02-9414-4c9a-aa2c-94f5b0a8278d",
   "metadata": {},
   "outputs": [
    {
     "name": "stdout",
     "output_type": "stream",
     "text": [
      "333\n"
     ]
    }
   ],
   "source": [
    "def add(a,b):\n",
    "    print(a+b)\n",
    "\n",
    "d=add(111,222) "
   ]
  },
  {
   "cell_type": "code",
   "execution_count": 20,
   "id": "2bcb6a4d-f200-4d8d-a998-37b3a1cba9b8",
   "metadata": {},
   "outputs": [
    {
     "name": "stdout",
     "output_type": "stream",
     "text": [
      "6\n"
     ]
    }
   ],
   "source": [
    "#매개변수o 리턴값o\n",
    "def minus(a,b):\n",
    "    result=a-b\n",
    "    return result\n",
    "\n",
    "a=minus(10,4)\n",
    "print(a)"
   ]
  },
  {
   "cell_type": "code",
   "execution_count": 21,
   "id": "4bd32187-943a-4c2f-87f6-a8783a7b2480",
   "metadata": {},
   "outputs": [
    {
     "name": "stdout",
     "output_type": "stream",
     "text": [
      "hi\n"
     ]
    }
   ],
   "source": [
    "#매개변수x 리턴값o\n",
    "def say():\n",
    "    return('hi')\n",
    "\n",
    "print(say())"
   ]
  },
  {
   "cell_type": "code",
   "execution_count": 9,
   "id": "8d814759-9cfa-4b46-8c13-55425b4cf161",
   "metadata": {},
   "outputs": [
    {
     "name": "stdout",
     "output_type": "stream",
     "text": [
      "12, 24의 합은 36입니다.\n",
      "3, 4의 합은 7입니다.\n",
      "None\n"
     ]
    }
   ],
   "source": [
    "#매개변수 o, 리턴값x\n",
    "def add(x,y):\n",
    "    print(\"%d, %d의 합은 %d입니다.\"%(x,y,x+y))\n",
    "\n",
    "add(12,24)\n",
    "\n",
    "a=add(3,4)\n",
    "print(a)"
   ]
  },
  {
   "cell_type": "code",
   "execution_count": 10,
   "id": "f4cb3d20-38a0-4e97-a5b4-4e791f147e58",
   "metadata": {},
   "outputs": [
    {
     "name": "stdout",
     "output_type": "stream",
     "text": [
      "hi\n"
     ]
    }
   ],
   "source": [
    "#매개변수 x, 리턴값x\n",
    "def say():\n",
    "    print('hi')\n",
    "\n",
    "say()"
   ]
  },
  {
   "cell_type": "code",
   "execution_count": 14,
   "id": "79269b4c-8de9-4c87-8df6-712a336432ac",
   "metadata": {},
   "outputs": [
    {
     "name": "stdout",
     "output_type": "stream",
     "text": [
      "4\n",
      "4\n"
     ]
    }
   ],
   "source": [
    "#키워드 매개변수\n",
    "def sub(a,b):\n",
    "    return a-b\n",
    "\n",
    "result=sub(7,3)\n",
    "print(result)\n",
    "\n",
    "result2=sub(b=3,a=7)\n",
    "print(result2)"
   ]
  },
  {
   "cell_type": "code",
   "execution_count": 15,
   "id": "70f85a63-e910-4e74-b2e2-4852813cf60e",
   "metadata": {},
   "outputs": [],
   "source": [
    "#순서대로 변수를 적거나, 아니면 등호로 아예 명시를 해주거나"
   ]
  },
  {
   "cell_type": "code",
   "execution_count": 19,
   "id": "56018875-3a7b-4ea4-9de7-1124522a31f1",
   "metadata": {},
   "outputs": [
    {
     "name": "stdout",
     "output_type": "stream",
     "text": [
      "15\n",
      "55\n"
     ]
    }
   ],
   "source": [
    "#가변 매개변수(*매개변수명)\n",
    "def add_many(*args):     #여러개의 아규먼트 들어갈 수 있음\n",
    "    result=0\n",
    "    for i in args:\n",
    "        result+=i\n",
    "    return result\n",
    "\n",
    "res1=add_many(1,2,3,4,5)\n",
    "print(res1)\n",
    "\n",
    "res2=add_many(1,2,3,4,5,6,7,8,9,10)\n",
    "print(res2)"
   ]
  },
  {
   "cell_type": "code",
   "execution_count": 25,
   "id": "1dd7c6d7-a5b7-4700-8639-19a7a7fa9fc2",
   "metadata": {},
   "outputs": [
    {
     "name": "stdout",
     "output_type": "stream",
     "text": [
      "6\n",
      "6\n"
     ]
    }
   ],
   "source": [
    "#덧셈, 곱셈 둘다 연산 가능한 함수\n",
    "def add_mul(choice,*args):  #가변매개변수는 뒤에다 써야 함. (*args,choice) 이렇게 쓰면 안 됨\n",
    "    if choice=='add':\n",
    "        result=0\n",
    "        for i in args:\n",
    "            result+=i\n",
    "    elif choice=='mul':\n",
    "        result=1\n",
    "        for i in args:\n",
    "            result*=i\n",
    "    return result\n",
    "\n",
    "res1=add_mul('add',1,2,3)   #튜플 형식으로 들어감\n",
    "print(res1)\n",
    "res2=add_mul('mul',1,2,3)\n",
    "print(res2)"
   ]
  },
  {
   "cell_type": "code",
   "execution_count": 27,
   "id": "275ed1f4-7d71-48b2-833b-1a243a1c9656",
   "metadata": {},
   "outputs": [
    {
     "name": "stdout",
     "output_type": "stream",
     "text": [
      "{'a': 1}\n",
      "{'name': 'foo', 'age': 3}\n"
     ]
    }
   ],
   "source": [
    "#키워드 가변 매개변수(**매개변수)\n",
    "def print_kwargs(**kwargs):\n",
    "    print(kwargs)\n",
    "\n",
    "print_kwargs(a=1)\n",
    "\n",
    "print_kwargs(name='foo',age=3)"
   ]
  },
  {
   "cell_type": "code",
   "execution_count": 31,
   "id": "6b5ce4b7-6b26-4935-943e-e2bc6a50fb3d",
   "metadata": {},
   "outputs": [
    {
     "name": "stdout",
     "output_type": "stream",
     "text": [
      "(7, 12)\n",
      "a+b= 7\n",
      "a*b= 12\n"
     ]
    }
   ],
   "source": [
    "#함수의 리턴값은 언제나 하나\n",
    "def add_and_mul(a,b):\n",
    "    return a+b,a*b\n",
    "\n",
    "res=add_and_mul(3,4)\n",
    "print(res)\n",
    "\n",
    "res1,res2=add_and_mul(3,4)\n",
    "print(\"a+b=\",res1)\n",
    "print(\"a*b=\",res2)"
   ]
  },
  {
   "cell_type": "code",
   "execution_count": 35,
   "id": "13043653-0bd3-44c3-a1c2-add5c5bd6410",
   "metadata": {},
   "outputs": [
    {
     "name": "stdout",
     "output_type": "stream",
     "text": [
      "5\n"
     ]
    }
   ],
   "source": [
    "def add_and_mul(a,b):\n",
    "    return a+b    #<---여기서 함수 종료된 꼴, 두 가지 하려고 하면 return a+b,a*b\n",
    "    return a*b\n",
    "\n",
    "res=add_and_mul(2,3)\n",
    "print(res)"
   ]
  },
  {
   "cell_type": "code",
   "execution_count": 34,
   "id": "af2bc425-5b05-460c-b5a8-2f2fda4548d1",
   "metadata": {},
   "outputs": [
    {
     "name": "stdout",
     "output_type": "stream",
     "text": [
      "나의 별명은 야호 입니다.\n"
     ]
    }
   ],
   "source": [
    "#return의 또 다른 쓰임새: 강제종료\n",
    "def say_nick(nick):\n",
    "    if nick=='바보':\n",
    "        return\n",
    "    print('나의 별명은 %s 입니다.'%nick)\n",
    "say_nick('야호')\n",
    "say_nick('바보')"
   ]
  },
  {
   "cell_type": "code",
   "execution_count": 39,
   "id": "57e3b164-5592-44a5-867d-f552a6887014",
   "metadata": {},
   "outputs": [
    {
     "name": "stdout",
     "output_type": "stream",
     "text": [
      "나의 이름은 이혜지입니다.\n",
      "나이는 28살 입니다.\n",
      "여자입니다.\n"
     ]
    }
   ],
   "source": [
    "#매개변수에 초기값 설정\n",
    "def say_myself(name,age,man=True):\n",
    "    print(f'나의 이름은 {name}입니다.')\n",
    "    print(f'나이는 {age}살 입니다.')\n",
    "    if man:\n",
    "        print('남자입니다.')\n",
    "    else:\n",
    "        print('여자입니다.')\n",
    "\n",
    "\n",
    "#함수 호출\n",
    "say_myself('이혜지',28,False)"
   ]
  },
  {
   "cell_type": "code",
   "execution_count": 40,
   "id": "d7e45f9a-554f-4ebe-b8b7-2a7d7821f97b",
   "metadata": {},
   "outputs": [
    {
     "ename": "SyntaxError",
     "evalue": "parameter without a default follows parameter with a default (3364122427.py, line 1)",
     "output_type": "error",
     "traceback": [
      "\u001b[1;36m  Cell \u001b[1;32mIn[40], line 1\u001b[1;36m\u001b[0m\n\u001b[1;33m    def say_myself(man=True,name,age,):\u001b[0m\n\u001b[1;37m                            ^\u001b[0m\n\u001b[1;31mSyntaxError\u001b[0m\u001b[1;31m:\u001b[0m parameter without a default follows parameter with a default\n"
     ]
    }
   ],
   "source": [
    "def say_myself(man=True,name,age,):\n",
    "    print(f'나의 이름은 {name}입니다.')\n",
    "    print(f'나이는 {age}살 입니다.')\n",
    "    if man:\n",
    "        print('남자입니다.')\n",
    "    else:\n",
    "        print('여자입니다.')\n",
    "\n",
    "\n",
    "#함수 호출\n",
    "say_myself(False,'이혜지',28)"
   ]
  },
  {
   "cell_type": "code",
   "execution_count": 41,
   "id": "9e8620d3-2dbc-465c-850a-b3262b536f01",
   "metadata": {},
   "outputs": [],
   "source": [
    "#기본값은 뒤에 써줘야 에러가 안 남"
   ]
  },
  {
   "cell_type": "code",
   "execution_count": 56,
   "id": "4f72d946-3af7-4faa-8074-0543f06a1478",
   "metadata": {},
   "outputs": [
    {
     "name": "stdout",
     "output_type": "stream",
     "text": [
      "1\n"
     ]
    }
   ],
   "source": [
    "#함수의 유효범위-return 사용하기\n",
    "a=1\n",
    "def vartest(a):\n",
    "    a=a+1        #return 안 해서 함수 밖에 있는 a=1 출력한거\n",
    "\n",
    "vartest(a)   #아무것도 실행 안 됨\n",
    "print(a)"
   ]
  },
  {
   "cell_type": "code",
   "execution_count": 51,
   "id": "c1c38b7a-a3e7-4add-8d65-3e2e44d3a0f8",
   "metadata": {},
   "outputs": [
    {
     "name": "stdout",
     "output_type": "stream",
     "text": [
      "2\n"
     ]
    }
   ],
   "source": [
    "a=1\n",
    "def vartest(a):\n",
    "    a=a+1\n",
    "    return a\n",
    "\n",
    "a=vartest(a)   #함수 실행하면 a값 반환되고 a변수에 덮어씀.\n",
    "print(a)"
   ]
  },
  {
   "cell_type": "code",
   "execution_count": 55,
   "id": "89a178f9-4bfb-4ce4-97c3-9d6a6146d045",
   "metadata": {},
   "outputs": [
    {
     "name": "stdout",
     "output_type": "stream",
     "text": [
      "3\n"
     ]
    }
   ],
   "source": [
    "def vartest(x):\n",
    "    x=x+1\n",
    "    return x   #변수 바꿔도 됨\n",
    "\n",
    "a=vartest(a)  \n",
    "print(a)"
   ]
  },
  {
   "cell_type": "code",
   "execution_count": 58,
   "id": "106f05d5-6e9c-4dcb-b0c9-7f39d077c812",
   "metadata": {},
   "outputs": [
    {
     "name": "stdout",
     "output_type": "stream",
     "text": [
      "2\n"
     ]
    }
   ],
   "source": [
    "#함수의 유효범위-global 명령어 사용하기\n",
    "a=1\n",
    "def vartest():\n",
    "    global a #함수 안에서 a는 전역변수로 변경됨\n",
    "    a+=1\n",
    "\n",
    "vartest()\n",
    "print(a)"
   ]
  },
  {
   "cell_type": "code",
   "execution_count": 63,
   "id": "9706cb4b-f195-4e1e-b35f-847d88e95caf",
   "metadata": {},
   "outputs": [
    {
     "name": "stdout",
     "output_type": "stream",
     "text": [
      "7\n"
     ]
    }
   ],
   "source": [
    "#lambda표현식(예약어) 사용 안하고 함수 선언\n",
    "def add(a,b):\n",
    "    return a+b #리턴값 하나이고 간단한 함수는 람다함수 가능\n",
    "\n",
    "print(add(3,4))"
   ]
  },
  {
   "cell_type": "code",
   "execution_count": 62,
   "id": "59ca9d5a-6050-441e-bb64-96401b03d2a5",
   "metadata": {},
   "outputs": [
    {
     "name": "stdout",
     "output_type": "stream",
     "text": [
      "7\n"
     ]
    }
   ],
   "source": [
    "#lambda표현식(예약어) 사용하여 표현->함수를 짧게 표현할 수 있다\n",
    "add=lambda a,b:a+b\n",
    "print(add(3,4))"
   ]
  },
  {
   "cell_type": "markdown",
   "id": "808c2689-bc04-42f1-9fbc-7c4dd9f51fb0",
   "metadata": {},
   "source": [
    "# 함수의 활용"
   ]
  },
  {
   "cell_type": "markdown",
   "id": "ae810a40-09c8-40e6-b3a5-03d890676341",
   "metadata": {},
   "source": [
    "### 재귀함수\n",
    ": 내가 만든 함수를 다시 호출하는 것"
   ]
  },
  {
   "cell_type": "code",
   "execution_count": 66,
   "id": "34839094-fffd-4156-a08c-37ffae0a5332",
   "metadata": {},
   "outputs": [
    {
     "name": "stdout",
     "output_type": "stream",
     "text": [
      "5!=  120\n"
     ]
    }
   ],
   "source": [
    "#반복문으로 팩토리얼 구하기\n",
    "def factorial(n):\n",
    "    output=1\n",
    "    for i in range(1,n+1):\n",
    "        output*=i\n",
    "    return output\n",
    "\n",
    "print('5!= ',factorial(5))"
   ]
  },
  {
   "cell_type": "code",
   "execution_count": 67,
   "id": "441eefc4-c255-4552-aa85-d6b11ababd65",
   "metadata": {},
   "outputs": [
    {
     "name": "stdout",
     "output_type": "stream",
     "text": [
      "5!=  120\n"
     ]
    }
   ],
   "source": [
    "#재귀함수로 팩토리얼 구하기\n",
    "def factorial(n):\n",
    "    if n==0:\n",
    "        return 1\n",
    "    else:\n",
    "        return n*factorial(n-1)\n",
    "\n",
    "print('5!= ',factorial(5))"
   ]
  },
  {
   "cell_type": "markdown",
   "id": "6aa3cad8-ce7e-41c0-9bf7-c1ac16e302f1",
   "metadata": {},
   "source": [
    "### 리스트 평탄화하는 재귀함수 만들기"
   ]
  },
  {
   "cell_type": "code",
   "execution_count": 69,
   "id": "dd44a5e4-c16c-4523-a9e6-d7e8bbdcee8a",
   "metadata": {},
   "outputs": [
    {
     "name": "stdout",
     "output_type": "stream",
     "text": [
      "4\n",
      "원본: [[1, 2, 3], [4, [5, 6]], 7, [8, 9]]\n",
      "평탄화: [1, 2, 3, 4, [5, 6], 7, 8, 9]\n"
     ]
    }
   ],
   "source": [
    "#반복문으로 리스트 평탄화\n",
    "def flatten(data):\n",
    "    output =[]\n",
    "    for item in data:\n",
    "        if type(item)==list:\n",
    "            output+=item\n",
    "        else:\n",
    "            output.append(item)\n",
    "    return output\n",
    "\n",
    "example = [[1,2,3], [4,[5,6]],7,[8,9]]\n",
    "print(len(example))\n",
    "print('원본:',example)\n",
    "print('평탄화:',flatten(example))"
   ]
  },
  {
   "cell_type": "code",
   "execution_count": 70,
   "id": "4f06fa94-97fe-4b42-b80c-32a1bdf4cfce",
   "metadata": {},
   "outputs": [
    {
     "name": "stdout",
     "output_type": "stream",
     "text": [
      "원본: [[1, 2, 3], [4, [5, 6]], 7, [8, 9]]\n",
      "평탄화: [1, 2, 3, 4, 5, 6, 7, 8, 9]\n"
     ]
    }
   ],
   "source": [
    "#재귀함수로 리스트 평탄화\n",
    "def flatten(data):\n",
    "    output =[]\n",
    "    for item in data:\n",
    "        if type(item)==list:\n",
    "            output+=flatten(item)\n",
    "        else:\n",
    "            output.append(item)\n",
    "    return output\n",
    "\n",
    "example = [[1,2,3], [4,[5,6]],7,[8,9]]\n",
    "print('원본:',example)\n",
    "print('평탄화:',flatten(example))"
   ]
  },
  {
   "cell_type": "code",
   "execution_count": null,
   "id": "a2b726b7-3727-4d68-9f5f-6f5658acf9fd",
   "metadata": {},
   "outputs": [],
   "source": []
  }
 ],
 "metadata": {
  "kernelspec": {
   "display_name": "Python [conda env:base] *",
   "language": "python",
   "name": "conda-base-py"
  },
  "language_info": {
   "codemirror_mode": {
    "name": "ipython",
    "version": 3
   },
   "file_extension": ".py",
   "mimetype": "text/x-python",
   "name": "python",
   "nbconvert_exporter": "python",
   "pygments_lexer": "ipython3",
   "version": "3.13.5"
  }
 },
 "nbformat": 4,
 "nbformat_minor": 5
}
