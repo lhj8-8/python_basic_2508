{
 "cells": [
  {
   "cell_type": "markdown",
   "id": "b0140826-bd0e-4877-a7f9-4da700f4f4ab",
   "metadata": {},
   "source": [
    "# 클래스가 필요한 이유"
   ]
  },
  {
   "cell_type": "code",
   "execution_count": 1,
   "id": "ebba6c96-179e-4228-8e01-a7deff9548aa",
   "metadata": {},
   "outputs": [
    {
     "name": "stdout",
     "output_type": "stream",
     "text": [
      "3\n",
      "7\n"
     ]
    }
   ],
   "source": [
    "#함수로 계산기 만들기\n",
    "result=0\n",
    "\n",
    "def add(num):\n",
    "    global result  #global 전에 있던 result 출력하겠다\n",
    "    result+=num\n",
    "    return result\n",
    "\n",
    "print(add(3))  #0+3=3\n",
    "print(add(4))  #3+4=7"
   ]
  },
  {
   "cell_type": "code",
   "execution_count": 2,
   "id": "1c88c7e2-71b4-48a0-b988-ff07db66562a",
   "metadata": {},
   "outputs": [
    {
     "name": "stdout",
     "output_type": "stream",
     "text": [
      "3\n",
      "7\n",
      "5\n",
      "11\n"
     ]
    }
   ],
   "source": [
    "#계산기 2개로 각각 계산\n",
    "res1=0\n",
    "res2=0\n",
    "\n",
    "def add1(num):\n",
    "    global res1\n",
    "    res1+=num\n",
    "    return res1\n",
    "\n",
    "def add2(num):\n",
    "    global res2\n",
    "    res2+=num\n",
    "    return res2\n",
    "\n",
    "print(add1(3))\n",
    "print(add1(4))\n",
    "print(add2(5))\n",
    "print(add2(6))"
   ]
  },
  {
   "cell_type": "code",
   "execution_count": 7,
   "id": "834d93ee-c8d8-4d46-bb3d-b65a139333ec",
   "metadata": {},
   "outputs": [
    {
     "name": "stdout",
     "output_type": "stream",
     "text": [
      "3\n",
      "7\n",
      "5\n",
      "11\n"
     ]
    }
   ],
   "source": [
    "#클래스로 여러개 계산기 만들기\n",
    "class Calculater:\n",
    "    def __init__(self):\n",
    "        self.result=0  #계산기 초기값\n",
    "\n",
    "    def add(self,num):\n",
    "        self.result+=num\n",
    "        return self.result\n",
    "\n",
    "cal1=Calculater()  #인스턴스-계산기1\n",
    "cal2=Calculater()  #인스턴스-계산기2\n",
    "\n",
    "print(cal1.add(3))\n",
    "print(cal1.add(4))\n",
    "print(cal2.add(5))\n",
    "print(cal2.add(6))"
   ]
  },
  {
   "cell_type": "code",
   "execution_count": 8,
   "id": "79371c06-90e7-4a56-953e-97c049e21e7b",
   "metadata": {},
   "outputs": [
    {
     "name": "stdout",
     "output_type": "stream",
     "text": [
      "10\n",
      "13\n",
      "8\n",
      "--------------------\n",
      "-5\n",
      "15\n"
     ]
    }
   ],
   "source": [
    "#더하기/빼기 기능이 있는 계신기의 설계도(class)\n",
    "class Calculater:\n",
    "    def __init__(self):\n",
    "        self.result=0  #계산기 초기값\n",
    "\n",
    "    def add(self,num):\n",
    "        self.result+=num\n",
    "        return self.result\n",
    "\n",
    "    def sub(self,num):\n",
    "        self.result-=num\n",
    "        return self.result\n",
    "\n",
    "cal1=Calculater()\n",
    "print(cal1.add(10))  #0+10=10\n",
    "print(cal1.add(3))   #10+3=13\n",
    "print(cal1.sub(5))   #13-5=8\n",
    "print('-'*20)\n",
    "cal2=Calculater()\n",
    "print(cal2.sub(5))  #0-5=-5\n",
    "print(cal2.add(20))  #-5+20=15"
   ]
  },
  {
   "cell_type": "markdown",
   "id": "50dfc3e4-bb6d-4e21-974e-55a690bb3d00",
   "metadata": {},
   "source": [
    "# 사칙연산 클래스 만들기"
   ]
  },
  {
   "cell_type": "code",
   "execution_count": 10,
   "id": "68acc52e-b41f-45e5-a3ac-d8ead8fcbad5",
   "metadata": {},
   "outputs": [],
   "source": [
    "class FourCal:\n",
    "    pass"
   ]
  },
  {
   "cell_type": "code",
   "execution_count": 11,
   "id": "81a9f407-cd48-4a8f-a7b2-60495ef62d63",
   "metadata": {},
   "outputs": [
    {
     "data": {
      "text/plain": [
       "__main__.FourCal"
      ]
     },
     "execution_count": 11,
     "metadata": {},
     "output_type": "execute_result"
    }
   ],
   "source": [
    "a=FourCal()\n",
    "type(a)"
   ]
  },
  {
   "cell_type": "code",
   "execution_count": 12,
   "id": "d47a9087-e7d7-499e-90fa-5017afb973d1",
   "metadata": {},
   "outputs": [],
   "source": [
    "class FourCal:    #class: self, 매개변수 필수\n",
    "    def setdata(self,first,second):\n",
    "        self.first=first\n",
    "        self.second=second"
   ]
  },
  {
   "cell_type": "code",
   "execution_count": 15,
   "id": "7471113a-e247-437d-876f-59c6677bb5de",
   "metadata": {},
   "outputs": [
    {
     "name": "stdout",
     "output_type": "stream",
     "text": [
      "3 4\n"
     ]
    }
   ],
   "source": [
    "a=FourCal() #인스턴스 생성\n",
    "a.setdata(3,4)  \n",
    "print(a.first,a.second)"
   ]
  },
  {
   "cell_type": "code",
   "execution_count": 16,
   "id": "7c766a9d-6af5-4c1d-b411-fc7d2c480872",
   "metadata": {},
   "outputs": [
    {
     "name": "stdout",
     "output_type": "stream",
     "text": [
      "6\n",
      "2\n",
      "8\n",
      "2.0\n",
      "********************\n",
      "11\n",
      "-5\n",
      "24\n",
      "0.375\n"
     ]
    }
   ],
   "source": [
    "class FourCal:    \n",
    "    def setdata(self,first,second):\n",
    "        self.first=first\n",
    "        self.second=second\n",
    "\n",
    "    def add(self):\n",
    "        result=self.first+self.second\n",
    "        return result\n",
    "\n",
    "    def sub(self):\n",
    "        result=self.first-self.second\n",
    "        return result\n",
    "\n",
    "    def mul(self):\n",
    "        result=self.first*self.second\n",
    "        return result\n",
    "\n",
    "    def div(self):\n",
    "        result=self.first/self.second\n",
    "        return result\n",
    "\n",
    "cal1=FourCal()   #계산기1\n",
    "cal2=FourCal()   #계산기2\n",
    "\n",
    "#계산기 2개의 숫자 입력\n",
    "cal1.setdata(4,2)\n",
    "cal2.setdata(3,8)\n",
    "\n",
    "print(cal1.add())\n",
    "print(cal1.sub())\n",
    "print(cal1.mul())\n",
    "print(cal1.div())\n",
    "print('*'*20)\n",
    "print(cal2.add())\n",
    "print(cal2.sub())\n",
    "print(cal2.mul())\n",
    "print(cal2.div())"
   ]
  },
  {
   "cell_type": "markdown",
   "id": "9d8e1cb2-80b0-4b35-94bc-6a8fed91c8eb",
   "metadata": {},
   "source": [
    "### 생성자"
   ]
  },
  {
   "cell_type": "code",
   "execution_count": 17,
   "id": "99e9d302-8d7f-49de-b689-367447b8d5ed",
   "metadata": {},
   "outputs": [],
   "source": [
    "class FourCal:    \n",
    "    def __init__(self,first,second):  #생성자\n",
    "        self.first=first\n",
    "        self.second=second\n",
    "\n",
    "    def add(self):\n",
    "        result=self.first+self.second\n",
    "        return result\n",
    "\n",
    "    def sub(self):\n",
    "        result=self.first-self.second\n",
    "        return result\n",
    "\n",
    "    def mul(self):\n",
    "        result=self.first*self.second\n",
    "        return result\n",
    "\n",
    "    def div(self):\n",
    "        result=self.first/self.second\n",
    "        return result"
   ]
  },
  {
   "cell_type": "code",
   "execution_count": 19,
   "id": "f96e6aba-dca6-4373-89f7-7718b0b08b79",
   "metadata": {},
   "outputs": [
    {
     "ename": "TypeError",
     "evalue": "FourCal.__init__() missing 2 required positional arguments: 'first' and 'second'",
     "output_type": "error",
     "traceback": [
      "\u001b[1;31m---------------------------------------------------------------------------\u001b[0m",
      "\u001b[1;31mTypeError\u001b[0m                                 Traceback (most recent call last)",
      "Cell \u001b[1;32mIn[19], line 1\u001b[0m\n\u001b[1;32m----> 1\u001b[0m calc1\u001b[38;5;241m=\u001b[39mFourCal()\n",
      "\u001b[1;31mTypeError\u001b[0m: FourCal.__init__() missing 2 required positional arguments: 'first' and 'second'"
     ]
    }
   ],
   "source": [
    "calc1=FourCal() #값 입력 안해서 에러"
   ]
  },
  {
   "cell_type": "code",
   "execution_count": 20,
   "id": "7f86434d-da41-4879-9b86-a3cdc6ef8d1d",
   "metadata": {},
   "outputs": [],
   "source": [
    "calc1=FourCal(15,3)"
   ]
  },
  {
   "cell_type": "code",
   "execution_count": 21,
   "id": "7da97294-ff29-429c-832c-4665fe0c1054",
   "metadata": {},
   "outputs": [
    {
     "data": {
      "text/plain": [
       "15"
      ]
     },
     "execution_count": 21,
     "metadata": {},
     "output_type": "execute_result"
    }
   ],
   "source": [
    "calc1.first"
   ]
  },
  {
   "cell_type": "code",
   "execution_count": 22,
   "id": "ff33b5a4-8ce5-4017-9f13-cb4b4747c128",
   "metadata": {},
   "outputs": [
    {
     "data": {
      "text/plain": [
       "3"
      ]
     },
     "execution_count": 22,
     "metadata": {},
     "output_type": "execute_result"
    }
   ],
   "source": [
    "calc1.second"
   ]
  },
  {
   "cell_type": "code",
   "execution_count": 24,
   "id": "1f1bc9a2-2f71-486c-be92-a86ddf133a07",
   "metadata": {},
   "outputs": [
    {
     "name": "stdout",
     "output_type": "stream",
     "text": [
      "15+3= 18\n",
      "15-3= 12\n",
      "15*3= 45\n",
      "15/3= 5.0\n"
     ]
    }
   ],
   "source": [
    "print('15+3=',calc1.add())\n",
    "print('15-3=',calc1.sub())\n",
    "print('15*3=',calc1.mul())\n",
    "print('15/3=',calc1.div())"
   ]
  },
  {
   "cell_type": "markdown",
   "id": "980dcdb6-c79e-4d8e-8877-bec681800f29",
   "metadata": {},
   "source": [
    "# 클래스 상속"
   ]
  },
  {
   "cell_type": "code",
   "execution_count": 25,
   "id": "cce9d441-631e-4313-a419-5b47160e39a8",
   "metadata": {},
   "outputs": [],
   "source": [
    "class MoreFourCal(FourCal):  #상속받을 함수를 괄호 안에\n",
    "    pass"
   ]
  },
  {
   "cell_type": "code",
   "execution_count": 26,
   "id": "44873d42-4f89-42be-975b-aae312a9b6bb",
   "metadata": {},
   "outputs": [],
   "source": [
    "cal1=MoreFourCal(4,2)"
   ]
  },
  {
   "cell_type": "code",
   "execution_count": 27,
   "id": "5e851be5-3aac-49df-a2eb-714a033ce4da",
   "metadata": {},
   "outputs": [
    {
     "name": "stdout",
     "output_type": "stream",
     "text": [
      "6\n",
      "2\n",
      "8\n",
      "2.0\n"
     ]
    }
   ],
   "source": [
    "print(cal1.add())\n",
    "print(cal1.sub())\n",
    "print(cal1.mul())\n",
    "print(cal1.div())"
   ]
  },
  {
   "cell_type": "code",
   "execution_count": 29,
   "id": "3e0cbad3-4279-4b37-9c55-5758c0fda19c",
   "metadata": {},
   "outputs": [
    {
     "name": "stdout",
     "output_type": "stream",
     "text": [
      "6\n",
      "2\n",
      "8\n",
      "2.0\n",
      "16\n"
     ]
    }
   ],
   "source": [
    "#기본기능은 상속 받았고, MoreFourCal만의 기능추가\n",
    "class MoreFourCal(FourCal):\n",
    "    def pow(self):\n",
    "        result=self.first**self.second\n",
    "        return result\n",
    "\n",
    "cal2=MoreFourCal(4,2)\n",
    "print(cal2.add())\n",
    "print(cal2.sub())\n",
    "print(cal2.mul())\n",
    "print(cal2.div())\n",
    "print(cal2.pow())   #first^second"
   ]
  },
  {
   "cell_type": "code",
   "execution_count": 30,
   "id": "e986fd0a-44ae-4311-a226-01b46776bebe",
   "metadata": {},
   "outputs": [
    {
     "name": "stdout",
     "output_type": "stream",
     "text": [
      "4\n",
      "4\n",
      "0\n"
     ]
    }
   ],
   "source": [
    "cal3=MoreFourCal(4,0)\n",
    "print(cal3.add())\n",
    "print(cal3.sub())\n",
    "print(cal3.mul())"
   ]
  },
  {
   "cell_type": "code",
   "execution_count": 31,
   "id": "85ac3456-0987-47c8-a03d-8a43b863680f",
   "metadata": {},
   "outputs": [
    {
     "ename": "ZeroDivisionError",
     "evalue": "division by zero",
     "output_type": "error",
     "traceback": [
      "\u001b[1;31m---------------------------------------------------------------------------\u001b[0m",
      "\u001b[1;31mZeroDivisionError\u001b[0m                         Traceback (most recent call last)",
      "Cell \u001b[1;32mIn[31], line 1\u001b[0m\n\u001b[1;32m----> 1\u001b[0m \u001b[38;5;28mprint\u001b[39m(cal3\u001b[38;5;241m.\u001b[39mdiv())\n",
      "Cell \u001b[1;32mIn[17], line 19\u001b[0m, in \u001b[0;36mFourCal.div\u001b[1;34m(self)\u001b[0m\n\u001b[0;32m     18\u001b[0m \u001b[38;5;28;01mdef\u001b[39;00m\u001b[38;5;250m \u001b[39m\u001b[38;5;21mdiv\u001b[39m(\u001b[38;5;28mself\u001b[39m):\n\u001b[1;32m---> 19\u001b[0m     result\u001b[38;5;241m=\u001b[39m\u001b[38;5;28mself\u001b[39m\u001b[38;5;241m.\u001b[39mfirst\u001b[38;5;241m/\u001b[39m\u001b[38;5;28mself\u001b[39m\u001b[38;5;241m.\u001b[39msecond\n\u001b[0;32m     20\u001b[0m     \u001b[38;5;28;01mreturn\u001b[39;00m result\n",
      "\u001b[1;31mZeroDivisionError\u001b[0m: division by zero"
     ]
    }
   ],
   "source": [
    "print(cal3.div())"
   ]
  },
  {
   "cell_type": "code",
   "execution_count": 32,
   "id": "639f2e10-7d3d-4ef7-9c5d-c06ef91e24ba",
   "metadata": {},
   "outputs": [],
   "source": [
    "#4/0 안 돼서 에러남"
   ]
  },
  {
   "cell_type": "markdown",
   "id": "f050b6e5-8f6f-440d-9a21-02494425a908",
   "metadata": {},
   "source": [
    "## 메서드 오버라이딩"
   ]
  },
  {
   "cell_type": "code",
   "execution_count": 39,
   "id": "a0f610db-be91-4a3e-880d-c22324de21a8",
   "metadata": {},
   "outputs": [],
   "source": [
    "#상속받은 함수에 변경사항 덮어쓰는 것\n",
    "class SafeFourCal(FourCal):\n",
    "    #상속받은 메서드 재정의(overriding)\n",
    "    def div(self):\n",
    "        if self.second==0:\n",
    "            return 0\n",
    "        else:\n",
    "            result=self.first/self.second\n",
    "            return result"
   ]
  },
  {
   "cell_type": "code",
   "execution_count": 40,
   "id": "30cdf250-ae44-47b1-b8c6-d64c3bba95fa",
   "metadata": {},
   "outputs": [],
   "source": [
    "calc=SafeFourCal(4,0)"
   ]
  },
  {
   "cell_type": "code",
   "execution_count": 41,
   "id": "e5fc9de7-d252-4d5b-956f-1a597d9f0358",
   "metadata": {},
   "outputs": [
    {
     "name": "stdout",
     "output_type": "stream",
     "text": [
      "4\n",
      "4\n",
      "0\n",
      "0\n"
     ]
    }
   ],
   "source": [
    "print(calc.add())\n",
    "print(calc.sub())\n",
    "print(calc.mul())\n",
    "print(calc.div())"
   ]
  },
  {
   "cell_type": "markdown",
   "id": "1de88135-c3d6-4dfe-bd89-884b3d652405",
   "metadata": {},
   "source": [
    "## 클래스 변수"
   ]
  },
  {
   "cell_type": "code",
   "execution_count": 42,
   "id": "df381590-0222-46a2-a065-35c5c03bdf01",
   "metadata": {},
   "outputs": [],
   "source": [
    "class Family:\n",
    "    lastname='김'"
   ]
  },
  {
   "cell_type": "code",
   "execution_count": 43,
   "id": "ff2862f4-8b32-45a2-bf23-267231620aab",
   "metadata": {},
   "outputs": [
    {
     "data": {
      "text/plain": [
       "'김'"
      ]
     },
     "execution_count": 43,
     "metadata": {},
     "output_type": "execute_result"
    }
   ],
   "source": [
    "Family.lastname"
   ]
  },
  {
   "cell_type": "code",
   "execution_count": 45,
   "id": "631b8bb3-577f-4ac2-abb0-6c1621347f58",
   "metadata": {},
   "outputs": [
    {
     "name": "stdout",
     "output_type": "stream",
     "text": [
      "김\n",
      "김\n"
     ]
    }
   ],
   "source": [
    "a=Family()\n",
    "b=Family()\n",
    "print(a.lastname)\n",
    "print(b.lastname)"
   ]
  },
  {
   "cell_type": "code",
   "execution_count": 48,
   "id": "d6e769a2-ebcb-4352-883c-57783702cb1c",
   "metadata": {},
   "outputs": [
    {
     "name": "stdout",
     "output_type": "stream",
     "text": [
      "박\n",
      "박\n"
     ]
    }
   ],
   "source": [
    "#클래스 변수 변경\n",
    "Family.lastname='박'\n",
    "#Family.lastname->클래스 변수, 클래스 변수를 변경하면 인스턴스 변수도 변경\n",
    "print(a.lastname)\n",
    "print(b.lastname)"
   ]
  },
  {
   "cell_type": "code",
   "execution_count": 50,
   "id": "7b9d6576-6385-495d-b9f4-fca295522286",
   "metadata": {},
   "outputs": [
    {
     "name": "stdout",
     "output_type": "stream",
     "text": [
      "최\n",
      "박\n"
     ]
    }
   ],
   "source": [
    "#인스턴스 변수만 변경\n",
    "a.lastname=\"최\"\n",
    "print(a.lastname)  #인스턴스 변수를 변경하면 해당 인스턴스 변수만 변경됨\n",
    "print(b.lastname)"
   ]
  },
  {
   "cell_type": "code",
   "execution_count": null,
   "id": "7c65bd7d-18f2-4ae8-926e-9fbb31976434",
   "metadata": {},
   "outputs": [],
   "source": []
  }
 ],
 "metadata": {
  "kernelspec": {
   "display_name": "Python [conda env:base] *",
   "language": "python",
   "name": "conda-base-py"
  },
  "language_info": {
   "codemirror_mode": {
    "name": "ipython",
    "version": 3
   },
   "file_extension": ".py",
   "mimetype": "text/x-python",
   "name": "python",
   "nbconvert_exporter": "python",
   "pygments_lexer": "ipython3",
   "version": "3.13.5"
  }
 },
 "nbformat": 4,
 "nbformat_minor": 5
}
